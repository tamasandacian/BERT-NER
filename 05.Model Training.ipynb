{
  "cells": [
    {
      "cell_type": "code",
      "execution_count": 1,
      "metadata": {
        "id": "aq7EGYlCna-v"
      },
      "outputs": [],
      "source": [
        "from google.colab import drive"
      ]
    },
    {
      "cell_type": "code",
      "execution_count": 2,
      "metadata": {
        "colab": {
          "base_uri": "https://localhost:8080/"
        },
        "id": "bHmCk5LpngV5",
        "outputId": "9c867e04-49c4-466b-8100-ed792bf3d07f"
      },
      "outputs": [
        {
          "output_type": "stream",
          "name": "stdout",
          "text": [
            "Drive already mounted at /content/drive; to attempt to forcibly remount, call drive.mount(\"/content/drive\", force_remount=True).\n"
          ]
        }
      ],
      "source": [
        "drive.mount('/content/drive')"
      ]
    },
    {
      "cell_type": "code",
      "execution_count": 3,
      "metadata": {
        "colab": {
          "base_uri": "https://localhost:8080/"
        },
        "id": "_af_zBLgngUM",
        "outputId": "2d8abdfe-7864-423c-b629-1b97e4c4b391"
      },
      "outputs": [
        {
          "output_type": "stream",
          "name": "stdout",
          "text": [
            "/content/drive/MyDrive/BERT-NER\n"
          ]
        }
      ],
      "source": [
        "%cd /content/drive/MyDrive/BERT-NER"
      ]
    },
    {
      "cell_type": "code",
      "execution_count": 4,
      "metadata": {
        "colab": {
          "base_uri": "https://localhost:8080/"
        },
        "id": "GsoH1UWongSW",
        "outputId": "47e8b138-23b7-4c26-a8ac-3170d1b673c5"
      },
      "outputs": [
        {
          "output_type": "stream",
          "name": "stdout",
          "text": [
            "data  models\n"
          ]
        }
      ],
      "source": [
        "!ls"
      ]
    },
    {
      "cell_type": "code",
      "execution_count": 5,
      "metadata": {
        "colab": {
          "base_uri": "https://localhost:8080/"
        },
        "id": "FMaHh6v4ngQS",
        "outputId": "9aed870f-a2fc-426f-98df-62dbac6525bf"
      },
      "outputs": [
        {
          "output_type": "stream",
          "name": "stdout",
          "text": [
            "Requirement already satisfied: flair in /usr/local/lib/python3.10/dist-packages (0.12.2)\n",
            "Requirement already satisfied: python-dateutil>=2.6.1 in /usr/local/lib/python3.10/dist-packages (from flair) (2.8.2)\n",
            "Requirement already satisfied: torch!=1.8,>=1.5.0 in /usr/local/lib/python3.10/dist-packages (from flair) (2.0.0)\n",
            "Requirement already satisfied: gensim>=3.8.0 in /usr/local/lib/python3.10/dist-packages (from flair) (4.3.2)\n",
            "Requirement already satisfied: tqdm>=4.26.0 in /usr/local/lib/python3.10/dist-packages (from flair) (4.66.1)\n",
            "Requirement already satisfied: segtok>=1.5.7 in /usr/local/lib/python3.10/dist-packages (from flair) (1.5.11)\n",
            "Requirement already satisfied: matplotlib>=2.2.3 in /usr/local/lib/python3.10/dist-packages (from flair) (3.7.1)\n",
            "Requirement already satisfied: mpld3==0.3 in /usr/local/lib/python3.10/dist-packages (from flair) (0.3)\n",
            "Requirement already satisfied: scikit-learn>=0.21.3 in /usr/local/lib/python3.10/dist-packages (from flair) (1.2.2)\n",
            "Requirement already satisfied: sqlitedict>=1.6.0 in /usr/local/lib/python3.10/dist-packages (from flair) (2.1.0)\n",
            "Requirement already satisfied: deprecated>=1.2.4 in /usr/local/lib/python3.10/dist-packages (from flair) (1.2.14)\n",
            "Requirement already satisfied: hyperopt>=0.2.7 in /usr/local/lib/python3.10/dist-packages (from flair) (0.2.7)\n",
            "Requirement already satisfied: boto3 in /usr/local/lib/python3.10/dist-packages (from flair) (1.28.53)\n",
            "Requirement already satisfied: transformers[sentencepiece]>=4.18.0 in /usr/local/lib/python3.10/dist-packages (from flair) (4.33.2)\n",
            "Requirement already satisfied: bpemb>=0.3.2 in /usr/local/lib/python3.10/dist-packages (from flair) (0.3.4)\n",
            "Requirement already satisfied: regex in /usr/local/lib/python3.10/dist-packages (from flair) (2023.6.3)\n",
            "Requirement already satisfied: tabulate in /usr/local/lib/python3.10/dist-packages (from flair) (0.9.0)\n",
            "Requirement already satisfied: langdetect in /usr/local/lib/python3.10/dist-packages (from flair) (1.0.9)\n",
            "Requirement already satisfied: lxml in /usr/local/lib/python3.10/dist-packages (from flair) (4.9.3)\n",
            "Requirement already satisfied: ftfy in /usr/local/lib/python3.10/dist-packages (from flair) (6.1.1)\n",
            "Requirement already satisfied: janome in /usr/local/lib/python3.10/dist-packages (from flair) (0.5.0)\n",
            "Requirement already satisfied: gdown==4.4.0 in /usr/local/lib/python3.10/dist-packages (from flair) (4.4.0)\n",
            "Requirement already satisfied: huggingface-hub>=0.10.0 in /usr/local/lib/python3.10/dist-packages (from flair) (0.17.2)\n",
            "Requirement already satisfied: conllu>=4.0 in /usr/local/lib/python3.10/dist-packages (from flair) (4.5.3)\n",
            "Requirement already satisfied: more-itertools in /usr/local/lib/python3.10/dist-packages (from flair) (10.1.0)\n",
            "Requirement already satisfied: wikipedia-api in /usr/local/lib/python3.10/dist-packages (from flair) (0.6.0)\n",
            "Requirement already satisfied: pptree in /usr/local/lib/python3.10/dist-packages (from flair) (3.1)\n",
            "Requirement already satisfied: pytorch-revgrad in /usr/local/lib/python3.10/dist-packages (from flair) (0.2.0)\n",
            "Requirement already satisfied: transformer-smaller-training-vocab>=0.2.1 in /usr/local/lib/python3.10/dist-packages (from flair) (0.3.2)\n",
            "Requirement already satisfied: filelock in /usr/local/lib/python3.10/dist-packages (from gdown==4.4.0->flair) (3.12.2)\n",
            "Requirement already satisfied: requests[socks] in /usr/local/lib/python3.10/dist-packages (from gdown==4.4.0->flair) (2.31.0)\n",
            "Requirement already satisfied: six in /usr/local/lib/python3.10/dist-packages (from gdown==4.4.0->flair) (1.16.0)\n",
            "Requirement already satisfied: beautifulsoup4 in /usr/local/lib/python3.10/dist-packages (from gdown==4.4.0->flair) (4.11.2)\n",
            "Requirement already satisfied: numpy in /usr/local/lib/python3.10/dist-packages (from bpemb>=0.3.2->flair) (1.23.5)\n",
            "Requirement already satisfied: sentencepiece in /usr/local/lib/python3.10/dist-packages (from bpemb>=0.3.2->flair) (0.1.99)\n",
            "Requirement already satisfied: wrapt<2,>=1.10 in /usr/local/lib/python3.10/dist-packages (from deprecated>=1.2.4->flair) (1.15.0)\n",
            "Requirement already satisfied: scipy>=1.7.0 in /usr/local/lib/python3.10/dist-packages (from gensim>=3.8.0->flair) (1.11.2)\n",
            "Requirement already satisfied: smart-open>=1.8.1 in /usr/local/lib/python3.10/dist-packages (from gensim>=3.8.0->flair) (6.4.0)\n",
            "Requirement already satisfied: fsspec in /usr/local/lib/python3.10/dist-packages (from huggingface-hub>=0.10.0->flair) (2023.6.0)\n",
            "Requirement already satisfied: pyyaml>=5.1 in /usr/local/lib/python3.10/dist-packages (from huggingface-hub>=0.10.0->flair) (6.0.1)\n",
            "Requirement already satisfied: typing-extensions>=3.7.4.3 in /usr/local/lib/python3.10/dist-packages (from huggingface-hub>=0.10.0->flair) (4.5.0)\n",
            "Requirement already satisfied: packaging>=20.9 in /usr/local/lib/python3.10/dist-packages (from huggingface-hub>=0.10.0->flair) (23.1)\n",
            "Requirement already satisfied: networkx>=2.2 in /usr/local/lib/python3.10/dist-packages (from hyperopt>=0.2.7->flair) (3.1)\n",
            "Requirement already satisfied: future in /usr/local/lib/python3.10/dist-packages (from hyperopt>=0.2.7->flair) (0.18.3)\n",
            "Requirement already satisfied: cloudpickle in /usr/local/lib/python3.10/dist-packages (from hyperopt>=0.2.7->flair) (2.2.1)\n",
            "Requirement already satisfied: py4j in /usr/local/lib/python3.10/dist-packages (from hyperopt>=0.2.7->flair) (0.10.9.7)\n",
            "Requirement already satisfied: contourpy>=1.0.1 in /usr/local/lib/python3.10/dist-packages (from matplotlib>=2.2.3->flair) (1.1.0)\n",
            "Requirement already satisfied: cycler>=0.10 in /usr/local/lib/python3.10/dist-packages (from matplotlib>=2.2.3->flair) (0.11.0)\n",
            "Requirement already satisfied: fonttools>=4.22.0 in /usr/local/lib/python3.10/dist-packages (from matplotlib>=2.2.3->flair) (4.42.1)\n",
            "Requirement already satisfied: kiwisolver>=1.0.1 in /usr/local/lib/python3.10/dist-packages (from matplotlib>=2.2.3->flair) (1.4.5)\n",
            "Requirement already satisfied: pillow>=6.2.0 in /usr/local/lib/python3.10/dist-packages (from matplotlib>=2.2.3->flair) (9.4.0)\n",
            "Requirement already satisfied: pyparsing>=2.3.1 in /usr/local/lib/python3.10/dist-packages (from matplotlib>=2.2.3->flair) (3.1.1)\n",
            "Requirement already satisfied: joblib>=1.1.1 in /usr/local/lib/python3.10/dist-packages (from scikit-learn>=0.21.3->flair) (1.3.2)\n",
            "Requirement already satisfied: threadpoolctl>=2.0.0 in /usr/local/lib/python3.10/dist-packages (from scikit-learn>=0.21.3->flair) (3.2.0)\n",
            "Requirement already satisfied: sympy in /usr/local/lib/python3.10/dist-packages (from torch!=1.8,>=1.5.0->flair) (1.12)\n",
            "Requirement already satisfied: jinja2 in /usr/local/lib/python3.10/dist-packages (from torch!=1.8,>=1.5.0->flair) (3.1.2)\n",
            "Requirement already satisfied: nvidia-cuda-nvrtc-cu11==11.7.99 in /usr/local/lib/python3.10/dist-packages (from torch!=1.8,>=1.5.0->flair) (11.7.99)\n",
            "Requirement already satisfied: nvidia-cuda-runtime-cu11==11.7.99 in /usr/local/lib/python3.10/dist-packages (from torch!=1.8,>=1.5.0->flair) (11.7.99)\n",
            "Requirement already satisfied: nvidia-cuda-cupti-cu11==11.7.101 in /usr/local/lib/python3.10/dist-packages (from torch!=1.8,>=1.5.0->flair) (11.7.101)\n",
            "Requirement already satisfied: nvidia-cudnn-cu11==8.5.0.96 in /usr/local/lib/python3.10/dist-packages (from torch!=1.8,>=1.5.0->flair) (8.5.0.96)\n",
            "Requirement already satisfied: nvidia-cublas-cu11==11.10.3.66 in /usr/local/lib/python3.10/dist-packages (from torch!=1.8,>=1.5.0->flair) (11.10.3.66)\n",
            "Requirement already satisfied: nvidia-cufft-cu11==10.9.0.58 in /usr/local/lib/python3.10/dist-packages (from torch!=1.8,>=1.5.0->flair) (10.9.0.58)\n",
            "Requirement already satisfied: nvidia-curand-cu11==10.2.10.91 in /usr/local/lib/python3.10/dist-packages (from torch!=1.8,>=1.5.0->flair) (10.2.10.91)\n",
            "Requirement already satisfied: nvidia-cusolver-cu11==11.4.0.1 in /usr/local/lib/python3.10/dist-packages (from torch!=1.8,>=1.5.0->flair) (11.4.0.1)\n",
            "Requirement already satisfied: nvidia-cusparse-cu11==11.7.4.91 in /usr/local/lib/python3.10/dist-packages (from torch!=1.8,>=1.5.0->flair) (11.7.4.91)\n",
            "Requirement already satisfied: nvidia-nccl-cu11==2.14.3 in /usr/local/lib/python3.10/dist-packages (from torch!=1.8,>=1.5.0->flair) (2.14.3)\n",
            "Requirement already satisfied: nvidia-nvtx-cu11==11.7.91 in /usr/local/lib/python3.10/dist-packages (from torch!=1.8,>=1.5.0->flair) (11.7.91)\n",
            "Requirement already satisfied: triton==2.0.0 in /usr/local/lib/python3.10/dist-packages (from torch!=1.8,>=1.5.0->flair) (2.0.0)\n",
            "Requirement already satisfied: setuptools in /usr/local/lib/python3.10/dist-packages (from nvidia-cublas-cu11==11.10.3.66->torch!=1.8,>=1.5.0->flair) (67.7.2)\n",
            "Requirement already satisfied: wheel in /usr/local/lib/python3.10/dist-packages (from nvidia-cublas-cu11==11.10.3.66->torch!=1.8,>=1.5.0->flair) (0.41.2)\n",
            "Requirement already satisfied: cmake in /usr/local/lib/python3.10/dist-packages (from triton==2.0.0->torch!=1.8,>=1.5.0->flair) (3.27.4.1)\n",
            "Requirement already satisfied: lit in /usr/local/lib/python3.10/dist-packages (from triton==2.0.0->torch!=1.8,>=1.5.0->flair) (16.0.6)\n",
            "Requirement already satisfied: tokenizers!=0.11.3,<0.14,>=0.11.1 in /usr/local/lib/python3.10/dist-packages (from transformers[sentencepiece]>=4.18.0->flair) (0.13.3)\n",
            "Requirement already satisfied: safetensors>=0.3.1 in /usr/local/lib/python3.10/dist-packages (from transformers[sentencepiece]>=4.18.0->flair) (0.3.3)\n",
            "Requirement already satisfied: protobuf in /usr/local/lib/python3.10/dist-packages (from transformers[sentencepiece]>=4.18.0->flair) (3.20.3)\n",
            "Requirement already satisfied: botocore<1.32.0,>=1.31.53 in /usr/local/lib/python3.10/dist-packages (from boto3->flair) (1.31.53)\n",
            "Requirement already satisfied: jmespath<2.0.0,>=0.7.1 in /usr/local/lib/python3.10/dist-packages (from boto3->flair) (1.0.1)\n",
            "Requirement already satisfied: s3transfer<0.7.0,>=0.6.0 in /usr/local/lib/python3.10/dist-packages (from boto3->flair) (0.6.2)\n",
            "Requirement already satisfied: wcwidth>=0.2.5 in /usr/local/lib/python3.10/dist-packages (from ftfy->flair) (0.2.6)\n",
            "Requirement already satisfied: urllib3<1.27,>=1.25.4 in /usr/local/lib/python3.10/dist-packages (from botocore<1.32.0,>=1.31.53->boto3->flair) (1.26.16)\n",
            "Requirement already satisfied: accelerate>=0.20.3 in /usr/local/lib/python3.10/dist-packages (from transformers[sentencepiece]>=4.18.0->flair) (0.23.0)\n",
            "Requirement already satisfied: soupsieve>1.2 in /usr/local/lib/python3.10/dist-packages (from beautifulsoup4->gdown==4.4.0->flair) (2.5)\n",
            "Requirement already satisfied: MarkupSafe>=2.0 in /usr/local/lib/python3.10/dist-packages (from jinja2->torch!=1.8,>=1.5.0->flair) (2.1.3)\n",
            "Requirement already satisfied: charset-normalizer<4,>=2 in /usr/local/lib/python3.10/dist-packages (from requests[socks]->gdown==4.4.0->flair) (3.2.0)\n",
            "Requirement already satisfied: idna<4,>=2.5 in /usr/local/lib/python3.10/dist-packages (from requests[socks]->gdown==4.4.0->flair) (3.4)\n",
            "Requirement already satisfied: certifi>=2017.4.17 in /usr/local/lib/python3.10/dist-packages (from requests[socks]->gdown==4.4.0->flair) (2023.7.22)\n",
            "Requirement already satisfied: PySocks!=1.5.7,>=1.5.6 in /usr/local/lib/python3.10/dist-packages (from requests[socks]->gdown==4.4.0->flair) (1.7.1)\n",
            "Requirement already satisfied: mpmath>=0.19 in /usr/local/lib/python3.10/dist-packages (from sympy->torch!=1.8,>=1.5.0->flair) (1.3.0)\n",
            "Requirement already satisfied: psutil in /usr/local/lib/python3.10/dist-packages (from accelerate>=0.20.3->transformers[sentencepiece]>=4.18.0->flair) (5.9.5)\n"
          ]
        }
      ],
      "source": [
        "# install required dependencies\n",
        "\n",
        "!pip3 install flair"
      ]
    },
    {
      "cell_type": "code",
      "source": [
        "from sklearn.feature_extraction import DictVectorizer\n",
        "from sklearn.feature_extraction.text import HashingVectorizer\n",
        "from sklearn.linear_model import Perceptron\n",
        "from sklearn.linear_model import SGDClassifier\n",
        "from sklearn.linear_model import PassiveAggressiveClassifier\n",
        "from sklearn.naive_bayes import MultinomialNB\n",
        "from sklearn.metrics import classification_report\n",
        "import pandas as pd\n",
        "import numpy as np"
      ],
      "metadata": {
        "id": "2GJVhTPIiica"
      },
      "execution_count": 6,
      "outputs": []
    },
    {
      "cell_type": "code",
      "source": [
        "# Load train, validation, test word label datasets\n",
        "\n",
        "train_ds = pd.read_csv('data/ner/train_word_label.csv')\n",
        "train_ds"
      ],
      "metadata": {
        "colab": {
          "base_uri": "https://localhost:8080/",
          "height": 424
        },
        "id": "a_8uH8veiiaY",
        "outputId": "bbb871c1-b58f-4e98-a727-92d015fd024b"
      },
      "execution_count": 7,
      "outputs": [
        {
          "output_type": "execute_result",
          "data": {
            "text/plain": [
              "             word       label\n",
              "0            Good           O\n",
              "1          catch.           O\n",
              "2              NY  B-LOCATION\n",
              "3             law           O\n",
              "4          should           O\n",
              "...           ...         ...\n",
              "72855  voicemail.           O\n",
              "72856       Thank           O\n",
              "72857        you.           O\n",
              "72858       Karen    B-PERSON\n",
              "72859      x39757           O\n",
              "\n",
              "[72860 rows x 2 columns]"
            ],
            "text/html": [
              "\n",
              "  <div id=\"df-f94b49a4-4594-4749-b1ac-482e1947a72e\" class=\"colab-df-container\">\n",
              "    <div>\n",
              "<style scoped>\n",
              "    .dataframe tbody tr th:only-of-type {\n",
              "        vertical-align: middle;\n",
              "    }\n",
              "\n",
              "    .dataframe tbody tr th {\n",
              "        vertical-align: top;\n",
              "    }\n",
              "\n",
              "    .dataframe thead th {\n",
              "        text-align: right;\n",
              "    }\n",
              "</style>\n",
              "<table border=\"1\" class=\"dataframe\">\n",
              "  <thead>\n",
              "    <tr style=\"text-align: right;\">\n",
              "      <th></th>\n",
              "      <th>word</th>\n",
              "      <th>label</th>\n",
              "    </tr>\n",
              "  </thead>\n",
              "  <tbody>\n",
              "    <tr>\n",
              "      <th>0</th>\n",
              "      <td>Good</td>\n",
              "      <td>O</td>\n",
              "    </tr>\n",
              "    <tr>\n",
              "      <th>1</th>\n",
              "      <td>catch.</td>\n",
              "      <td>O</td>\n",
              "    </tr>\n",
              "    <tr>\n",
              "      <th>2</th>\n",
              "      <td>NY</td>\n",
              "      <td>B-LOCATION</td>\n",
              "    </tr>\n",
              "    <tr>\n",
              "      <th>3</th>\n",
              "      <td>law</td>\n",
              "      <td>O</td>\n",
              "    </tr>\n",
              "    <tr>\n",
              "      <th>4</th>\n",
              "      <td>should</td>\n",
              "      <td>O</td>\n",
              "    </tr>\n",
              "    <tr>\n",
              "      <th>...</th>\n",
              "      <td>...</td>\n",
              "      <td>...</td>\n",
              "    </tr>\n",
              "    <tr>\n",
              "      <th>72855</th>\n",
              "      <td>voicemail.</td>\n",
              "      <td>O</td>\n",
              "    </tr>\n",
              "    <tr>\n",
              "      <th>72856</th>\n",
              "      <td>Thank</td>\n",
              "      <td>O</td>\n",
              "    </tr>\n",
              "    <tr>\n",
              "      <th>72857</th>\n",
              "      <td>you.</td>\n",
              "      <td>O</td>\n",
              "    </tr>\n",
              "    <tr>\n",
              "      <th>72858</th>\n",
              "      <td>Karen</td>\n",
              "      <td>B-PERSON</td>\n",
              "    </tr>\n",
              "    <tr>\n",
              "      <th>72859</th>\n",
              "      <td>x39757</td>\n",
              "      <td>O</td>\n",
              "    </tr>\n",
              "  </tbody>\n",
              "</table>\n",
              "<p>72860 rows × 2 columns</p>\n",
              "</div>\n",
              "    <div class=\"colab-df-buttons\">\n",
              "\n",
              "  <div class=\"colab-df-container\">\n",
              "    <button class=\"colab-df-convert\" onclick=\"convertToInteractive('df-f94b49a4-4594-4749-b1ac-482e1947a72e')\"\n",
              "            title=\"Convert this dataframe to an interactive table.\"\n",
              "            style=\"display:none;\">\n",
              "\n",
              "  <svg xmlns=\"http://www.w3.org/2000/svg\" height=\"24px\" viewBox=\"0 -960 960 960\">\n",
              "    <path d=\"M120-120v-720h720v720H120Zm60-500h600v-160H180v160Zm220 220h160v-160H400v160Zm0 220h160v-160H400v160ZM180-400h160v-160H180v160Zm440 0h160v-160H620v160ZM180-180h160v-160H180v160Zm440 0h160v-160H620v160Z\"/>\n",
              "  </svg>\n",
              "    </button>\n",
              "\n",
              "  <style>\n",
              "    .colab-df-container {\n",
              "      display:flex;\n",
              "      gap: 12px;\n",
              "    }\n",
              "\n",
              "    .colab-df-convert {\n",
              "      background-color: #E8F0FE;\n",
              "      border: none;\n",
              "      border-radius: 50%;\n",
              "      cursor: pointer;\n",
              "      display: none;\n",
              "      fill: #1967D2;\n",
              "      height: 32px;\n",
              "      padding: 0 0 0 0;\n",
              "      width: 32px;\n",
              "    }\n",
              "\n",
              "    .colab-df-convert:hover {\n",
              "      background-color: #E2EBFA;\n",
              "      box-shadow: 0px 1px 2px rgba(60, 64, 67, 0.3), 0px 1px 3px 1px rgba(60, 64, 67, 0.15);\n",
              "      fill: #174EA6;\n",
              "    }\n",
              "\n",
              "    .colab-df-buttons div {\n",
              "      margin-bottom: 4px;\n",
              "    }\n",
              "\n",
              "    [theme=dark] .colab-df-convert {\n",
              "      background-color: #3B4455;\n",
              "      fill: #D2E3FC;\n",
              "    }\n",
              "\n",
              "    [theme=dark] .colab-df-convert:hover {\n",
              "      background-color: #434B5C;\n",
              "      box-shadow: 0px 1px 3px 1px rgba(0, 0, 0, 0.15);\n",
              "      filter: drop-shadow(0px 1px 2px rgba(0, 0, 0, 0.3));\n",
              "      fill: #FFFFFF;\n",
              "    }\n",
              "  </style>\n",
              "\n",
              "    <script>\n",
              "      const buttonEl =\n",
              "        document.querySelector('#df-f94b49a4-4594-4749-b1ac-482e1947a72e button.colab-df-convert');\n",
              "      buttonEl.style.display =\n",
              "        google.colab.kernel.accessAllowed ? 'block' : 'none';\n",
              "\n",
              "      async function convertToInteractive(key) {\n",
              "        const element = document.querySelector('#df-f94b49a4-4594-4749-b1ac-482e1947a72e');\n",
              "        const dataTable =\n",
              "          await google.colab.kernel.invokeFunction('convertToInteractive',\n",
              "                                                    [key], {});\n",
              "        if (!dataTable) return;\n",
              "\n",
              "        const docLinkHtml = 'Like what you see? Visit the ' +\n",
              "          '<a target=\"_blank\" href=https://colab.research.google.com/notebooks/data_table.ipynb>data table notebook</a>'\n",
              "          + ' to learn more about interactive tables.';\n",
              "        element.innerHTML = '';\n",
              "        dataTable['output_type'] = 'display_data';\n",
              "        await google.colab.output.renderOutput(dataTable, element);\n",
              "        const docLink = document.createElement('div');\n",
              "        docLink.innerHTML = docLinkHtml;\n",
              "        element.appendChild(docLink);\n",
              "      }\n",
              "    </script>\n",
              "  </div>\n",
              "\n",
              "\n",
              "<div id=\"df-5727aa71-1bcc-4fcb-b6c8-4a2896fd998d\">\n",
              "  <button class=\"colab-df-quickchart\" onclick=\"quickchart('df-5727aa71-1bcc-4fcb-b6c8-4a2896fd998d')\"\n",
              "            title=\"Suggest charts.\"\n",
              "            style=\"display:none;\">\n",
              "\n",
              "<svg xmlns=\"http://www.w3.org/2000/svg\" height=\"24px\"viewBox=\"0 0 24 24\"\n",
              "     width=\"24px\">\n",
              "    <g>\n",
              "        <path d=\"M19 3H5c-1.1 0-2 .9-2 2v14c0 1.1.9 2 2 2h14c1.1 0 2-.9 2-2V5c0-1.1-.9-2-2-2zM9 17H7v-7h2v7zm4 0h-2V7h2v10zm4 0h-2v-4h2v4z\"/>\n",
              "    </g>\n",
              "</svg>\n",
              "  </button>\n",
              "\n",
              "<style>\n",
              "  .colab-df-quickchart {\n",
              "      --bg-color: #E8F0FE;\n",
              "      --fill-color: #1967D2;\n",
              "      --hover-bg-color: #E2EBFA;\n",
              "      --hover-fill-color: #174EA6;\n",
              "      --disabled-fill-color: #AAA;\n",
              "      --disabled-bg-color: #DDD;\n",
              "  }\n",
              "\n",
              "  [theme=dark] .colab-df-quickchart {\n",
              "      --bg-color: #3B4455;\n",
              "      --fill-color: #D2E3FC;\n",
              "      --hover-bg-color: #434B5C;\n",
              "      --hover-fill-color: #FFFFFF;\n",
              "      --disabled-bg-color: #3B4455;\n",
              "      --disabled-fill-color: #666;\n",
              "  }\n",
              "\n",
              "  .colab-df-quickchart {\n",
              "    background-color: var(--bg-color);\n",
              "    border: none;\n",
              "    border-radius: 50%;\n",
              "    cursor: pointer;\n",
              "    display: none;\n",
              "    fill: var(--fill-color);\n",
              "    height: 32px;\n",
              "    padding: 0;\n",
              "    width: 32px;\n",
              "  }\n",
              "\n",
              "  .colab-df-quickchart:hover {\n",
              "    background-color: var(--hover-bg-color);\n",
              "    box-shadow: 0 1px 2px rgba(60, 64, 67, 0.3), 0 1px 3px 1px rgba(60, 64, 67, 0.15);\n",
              "    fill: var(--button-hover-fill-color);\n",
              "  }\n",
              "\n",
              "  .colab-df-quickchart-complete:disabled,\n",
              "  .colab-df-quickchart-complete:disabled:hover {\n",
              "    background-color: var(--disabled-bg-color);\n",
              "    fill: var(--disabled-fill-color);\n",
              "    box-shadow: none;\n",
              "  }\n",
              "\n",
              "  .colab-df-spinner {\n",
              "    border: 2px solid var(--fill-color);\n",
              "    border-color: transparent;\n",
              "    border-bottom-color: var(--fill-color);\n",
              "    animation:\n",
              "      spin 1s steps(1) infinite;\n",
              "  }\n",
              "\n",
              "  @keyframes spin {\n",
              "    0% {\n",
              "      border-color: transparent;\n",
              "      border-bottom-color: var(--fill-color);\n",
              "      border-left-color: var(--fill-color);\n",
              "    }\n",
              "    20% {\n",
              "      border-color: transparent;\n",
              "      border-left-color: var(--fill-color);\n",
              "      border-top-color: var(--fill-color);\n",
              "    }\n",
              "    30% {\n",
              "      border-color: transparent;\n",
              "      border-left-color: var(--fill-color);\n",
              "      border-top-color: var(--fill-color);\n",
              "      border-right-color: var(--fill-color);\n",
              "    }\n",
              "    40% {\n",
              "      border-color: transparent;\n",
              "      border-right-color: var(--fill-color);\n",
              "      border-top-color: var(--fill-color);\n",
              "    }\n",
              "    60% {\n",
              "      border-color: transparent;\n",
              "      border-right-color: var(--fill-color);\n",
              "    }\n",
              "    80% {\n",
              "      border-color: transparent;\n",
              "      border-right-color: var(--fill-color);\n",
              "      border-bottom-color: var(--fill-color);\n",
              "    }\n",
              "    90% {\n",
              "      border-color: transparent;\n",
              "      border-bottom-color: var(--fill-color);\n",
              "    }\n",
              "  }\n",
              "</style>\n",
              "\n",
              "  <script>\n",
              "    async function quickchart(key) {\n",
              "      const quickchartButtonEl =\n",
              "        document.querySelector('#' + key + ' button');\n",
              "      quickchartButtonEl.disabled = true;  // To prevent multiple clicks.\n",
              "      quickchartButtonEl.classList.add('colab-df-spinner');\n",
              "      try {\n",
              "        const charts = await google.colab.kernel.invokeFunction(\n",
              "            'suggestCharts', [key], {});\n",
              "      } catch (error) {\n",
              "        console.error('Error during call to suggestCharts:', error);\n",
              "      }\n",
              "      quickchartButtonEl.classList.remove('colab-df-spinner');\n",
              "      quickchartButtonEl.classList.add('colab-df-quickchart-complete');\n",
              "    }\n",
              "    (() => {\n",
              "      let quickchartButtonEl =\n",
              "        document.querySelector('#df-5727aa71-1bcc-4fcb-b6c8-4a2896fd998d button');\n",
              "      quickchartButtonEl.style.display =\n",
              "        google.colab.kernel.accessAllowed ? 'block' : 'none';\n",
              "    })();\n",
              "  </script>\n",
              "</div>\n",
              "    </div>\n",
              "  </div>\n"
            ]
          },
          "metadata": {},
          "execution_count": 7
        }
      ]
    },
    {
      "cell_type": "code",
      "source": [
        "train_ds.fillna(0, inplace=True)"
      ],
      "metadata": {
        "id": "VOWYbWXMiiRu"
      },
      "execution_count": 8,
      "outputs": []
    },
    {
      "cell_type": "code",
      "source": [
        "val_ds = pd.read_csv('data/ner/val_word_label.csv')\n",
        "val_ds"
      ],
      "metadata": {
        "colab": {
          "base_uri": "https://localhost:8080/",
          "height": 424
        },
        "id": "OfiwQlAliiPc",
        "outputId": "9f6ff8f6-ebc2-4d16-db62-8c70644165b2"
      },
      "execution_count": 9,
      "outputs": [
        {
          "output_type": "execute_result",
          "data": {
            "text/plain": [
              "           word     label\n",
              "0            Al  B-PERSON\n",
              "1             :         O\n",
              "2           Per         O\n",
              "3            my         O\n",
              "4         voice         O\n",
              "...         ...       ...\n",
              "9077   database         O\n",
              "9078          !         O\n",
              "9079   !Unknown         O\n",
              "9080  database.         O\n",
              "9081      Alias         O\n",
              "\n",
              "[9082 rows x 2 columns]"
            ],
            "text/html": [
              "\n",
              "  <div id=\"df-1e028d93-02bf-441a-844e-8c944819ced4\" class=\"colab-df-container\">\n",
              "    <div>\n",
              "<style scoped>\n",
              "    .dataframe tbody tr th:only-of-type {\n",
              "        vertical-align: middle;\n",
              "    }\n",
              "\n",
              "    .dataframe tbody tr th {\n",
              "        vertical-align: top;\n",
              "    }\n",
              "\n",
              "    .dataframe thead th {\n",
              "        text-align: right;\n",
              "    }\n",
              "</style>\n",
              "<table border=\"1\" class=\"dataframe\">\n",
              "  <thead>\n",
              "    <tr style=\"text-align: right;\">\n",
              "      <th></th>\n",
              "      <th>word</th>\n",
              "      <th>label</th>\n",
              "    </tr>\n",
              "  </thead>\n",
              "  <tbody>\n",
              "    <tr>\n",
              "      <th>0</th>\n",
              "      <td>Al</td>\n",
              "      <td>B-PERSON</td>\n",
              "    </tr>\n",
              "    <tr>\n",
              "      <th>1</th>\n",
              "      <td>:</td>\n",
              "      <td>O</td>\n",
              "    </tr>\n",
              "    <tr>\n",
              "      <th>2</th>\n",
              "      <td>Per</td>\n",
              "      <td>O</td>\n",
              "    </tr>\n",
              "    <tr>\n",
              "      <th>3</th>\n",
              "      <td>my</td>\n",
              "      <td>O</td>\n",
              "    </tr>\n",
              "    <tr>\n",
              "      <th>4</th>\n",
              "      <td>voice</td>\n",
              "      <td>O</td>\n",
              "    </tr>\n",
              "    <tr>\n",
              "      <th>...</th>\n",
              "      <td>...</td>\n",
              "      <td>...</td>\n",
              "    </tr>\n",
              "    <tr>\n",
              "      <th>9077</th>\n",
              "      <td>database</td>\n",
              "      <td>O</td>\n",
              "    </tr>\n",
              "    <tr>\n",
              "      <th>9078</th>\n",
              "      <td>!</td>\n",
              "      <td>O</td>\n",
              "    </tr>\n",
              "    <tr>\n",
              "      <th>9079</th>\n",
              "      <td>!Unknown</td>\n",
              "      <td>O</td>\n",
              "    </tr>\n",
              "    <tr>\n",
              "      <th>9080</th>\n",
              "      <td>database.</td>\n",
              "      <td>O</td>\n",
              "    </tr>\n",
              "    <tr>\n",
              "      <th>9081</th>\n",
              "      <td>Alias</td>\n",
              "      <td>O</td>\n",
              "    </tr>\n",
              "  </tbody>\n",
              "</table>\n",
              "<p>9082 rows × 2 columns</p>\n",
              "</div>\n",
              "    <div class=\"colab-df-buttons\">\n",
              "\n",
              "  <div class=\"colab-df-container\">\n",
              "    <button class=\"colab-df-convert\" onclick=\"convertToInteractive('df-1e028d93-02bf-441a-844e-8c944819ced4')\"\n",
              "            title=\"Convert this dataframe to an interactive table.\"\n",
              "            style=\"display:none;\">\n",
              "\n",
              "  <svg xmlns=\"http://www.w3.org/2000/svg\" height=\"24px\" viewBox=\"0 -960 960 960\">\n",
              "    <path d=\"M120-120v-720h720v720H120Zm60-500h600v-160H180v160Zm220 220h160v-160H400v160Zm0 220h160v-160H400v160ZM180-400h160v-160H180v160Zm440 0h160v-160H620v160ZM180-180h160v-160H180v160Zm440 0h160v-160H620v160Z\"/>\n",
              "  </svg>\n",
              "    </button>\n",
              "\n",
              "  <style>\n",
              "    .colab-df-container {\n",
              "      display:flex;\n",
              "      gap: 12px;\n",
              "    }\n",
              "\n",
              "    .colab-df-convert {\n",
              "      background-color: #E8F0FE;\n",
              "      border: none;\n",
              "      border-radius: 50%;\n",
              "      cursor: pointer;\n",
              "      display: none;\n",
              "      fill: #1967D2;\n",
              "      height: 32px;\n",
              "      padding: 0 0 0 0;\n",
              "      width: 32px;\n",
              "    }\n",
              "\n",
              "    .colab-df-convert:hover {\n",
              "      background-color: #E2EBFA;\n",
              "      box-shadow: 0px 1px 2px rgba(60, 64, 67, 0.3), 0px 1px 3px 1px rgba(60, 64, 67, 0.15);\n",
              "      fill: #174EA6;\n",
              "    }\n",
              "\n",
              "    .colab-df-buttons div {\n",
              "      margin-bottom: 4px;\n",
              "    }\n",
              "\n",
              "    [theme=dark] .colab-df-convert {\n",
              "      background-color: #3B4455;\n",
              "      fill: #D2E3FC;\n",
              "    }\n",
              "\n",
              "    [theme=dark] .colab-df-convert:hover {\n",
              "      background-color: #434B5C;\n",
              "      box-shadow: 0px 1px 3px 1px rgba(0, 0, 0, 0.15);\n",
              "      filter: drop-shadow(0px 1px 2px rgba(0, 0, 0, 0.3));\n",
              "      fill: #FFFFFF;\n",
              "    }\n",
              "  </style>\n",
              "\n",
              "    <script>\n",
              "      const buttonEl =\n",
              "        document.querySelector('#df-1e028d93-02bf-441a-844e-8c944819ced4 button.colab-df-convert');\n",
              "      buttonEl.style.display =\n",
              "        google.colab.kernel.accessAllowed ? 'block' : 'none';\n",
              "\n",
              "      async function convertToInteractive(key) {\n",
              "        const element = document.querySelector('#df-1e028d93-02bf-441a-844e-8c944819ced4');\n",
              "        const dataTable =\n",
              "          await google.colab.kernel.invokeFunction('convertToInteractive',\n",
              "                                                    [key], {});\n",
              "        if (!dataTable) return;\n",
              "\n",
              "        const docLinkHtml = 'Like what you see? Visit the ' +\n",
              "          '<a target=\"_blank\" href=https://colab.research.google.com/notebooks/data_table.ipynb>data table notebook</a>'\n",
              "          + ' to learn more about interactive tables.';\n",
              "        element.innerHTML = '';\n",
              "        dataTable['output_type'] = 'display_data';\n",
              "        await google.colab.output.renderOutput(dataTable, element);\n",
              "        const docLink = document.createElement('div');\n",
              "        docLink.innerHTML = docLinkHtml;\n",
              "        element.appendChild(docLink);\n",
              "      }\n",
              "    </script>\n",
              "  </div>\n",
              "\n",
              "\n",
              "<div id=\"df-5c0d8aa8-7f1f-468d-973e-13514c38800c\">\n",
              "  <button class=\"colab-df-quickchart\" onclick=\"quickchart('df-5c0d8aa8-7f1f-468d-973e-13514c38800c')\"\n",
              "            title=\"Suggest charts.\"\n",
              "            style=\"display:none;\">\n",
              "\n",
              "<svg xmlns=\"http://www.w3.org/2000/svg\" height=\"24px\"viewBox=\"0 0 24 24\"\n",
              "     width=\"24px\">\n",
              "    <g>\n",
              "        <path d=\"M19 3H5c-1.1 0-2 .9-2 2v14c0 1.1.9 2 2 2h14c1.1 0 2-.9 2-2V5c0-1.1-.9-2-2-2zM9 17H7v-7h2v7zm4 0h-2V7h2v10zm4 0h-2v-4h2v4z\"/>\n",
              "    </g>\n",
              "</svg>\n",
              "  </button>\n",
              "\n",
              "<style>\n",
              "  .colab-df-quickchart {\n",
              "      --bg-color: #E8F0FE;\n",
              "      --fill-color: #1967D2;\n",
              "      --hover-bg-color: #E2EBFA;\n",
              "      --hover-fill-color: #174EA6;\n",
              "      --disabled-fill-color: #AAA;\n",
              "      --disabled-bg-color: #DDD;\n",
              "  }\n",
              "\n",
              "  [theme=dark] .colab-df-quickchart {\n",
              "      --bg-color: #3B4455;\n",
              "      --fill-color: #D2E3FC;\n",
              "      --hover-bg-color: #434B5C;\n",
              "      --hover-fill-color: #FFFFFF;\n",
              "      --disabled-bg-color: #3B4455;\n",
              "      --disabled-fill-color: #666;\n",
              "  }\n",
              "\n",
              "  .colab-df-quickchart {\n",
              "    background-color: var(--bg-color);\n",
              "    border: none;\n",
              "    border-radius: 50%;\n",
              "    cursor: pointer;\n",
              "    display: none;\n",
              "    fill: var(--fill-color);\n",
              "    height: 32px;\n",
              "    padding: 0;\n",
              "    width: 32px;\n",
              "  }\n",
              "\n",
              "  .colab-df-quickchart:hover {\n",
              "    background-color: var(--hover-bg-color);\n",
              "    box-shadow: 0 1px 2px rgba(60, 64, 67, 0.3), 0 1px 3px 1px rgba(60, 64, 67, 0.15);\n",
              "    fill: var(--button-hover-fill-color);\n",
              "  }\n",
              "\n",
              "  .colab-df-quickchart-complete:disabled,\n",
              "  .colab-df-quickchart-complete:disabled:hover {\n",
              "    background-color: var(--disabled-bg-color);\n",
              "    fill: var(--disabled-fill-color);\n",
              "    box-shadow: none;\n",
              "  }\n",
              "\n",
              "  .colab-df-spinner {\n",
              "    border: 2px solid var(--fill-color);\n",
              "    border-color: transparent;\n",
              "    border-bottom-color: var(--fill-color);\n",
              "    animation:\n",
              "      spin 1s steps(1) infinite;\n",
              "  }\n",
              "\n",
              "  @keyframes spin {\n",
              "    0% {\n",
              "      border-color: transparent;\n",
              "      border-bottom-color: var(--fill-color);\n",
              "      border-left-color: var(--fill-color);\n",
              "    }\n",
              "    20% {\n",
              "      border-color: transparent;\n",
              "      border-left-color: var(--fill-color);\n",
              "      border-top-color: var(--fill-color);\n",
              "    }\n",
              "    30% {\n",
              "      border-color: transparent;\n",
              "      border-left-color: var(--fill-color);\n",
              "      border-top-color: var(--fill-color);\n",
              "      border-right-color: var(--fill-color);\n",
              "    }\n",
              "    40% {\n",
              "      border-color: transparent;\n",
              "      border-right-color: var(--fill-color);\n",
              "      border-top-color: var(--fill-color);\n",
              "    }\n",
              "    60% {\n",
              "      border-color: transparent;\n",
              "      border-right-color: var(--fill-color);\n",
              "    }\n",
              "    80% {\n",
              "      border-color: transparent;\n",
              "      border-right-color: var(--fill-color);\n",
              "      border-bottom-color: var(--fill-color);\n",
              "    }\n",
              "    90% {\n",
              "      border-color: transparent;\n",
              "      border-bottom-color: var(--fill-color);\n",
              "    }\n",
              "  }\n",
              "</style>\n",
              "\n",
              "  <script>\n",
              "    async function quickchart(key) {\n",
              "      const quickchartButtonEl =\n",
              "        document.querySelector('#' + key + ' button');\n",
              "      quickchartButtonEl.disabled = true;  // To prevent multiple clicks.\n",
              "      quickchartButtonEl.classList.add('colab-df-spinner');\n",
              "      try {\n",
              "        const charts = await google.colab.kernel.invokeFunction(\n",
              "            'suggestCharts', [key], {});\n",
              "      } catch (error) {\n",
              "        console.error('Error during call to suggestCharts:', error);\n",
              "      }\n",
              "      quickchartButtonEl.classList.remove('colab-df-spinner');\n",
              "      quickchartButtonEl.classList.add('colab-df-quickchart-complete');\n",
              "    }\n",
              "    (() => {\n",
              "      let quickchartButtonEl =\n",
              "        document.querySelector('#df-5c0d8aa8-7f1f-468d-973e-13514c38800c button');\n",
              "      quickchartButtonEl.style.display =\n",
              "        google.colab.kernel.accessAllowed ? 'block' : 'none';\n",
              "    })();\n",
              "  </script>\n",
              "</div>\n",
              "    </div>\n",
              "  </div>\n"
            ]
          },
          "metadata": {},
          "execution_count": 9
        }
      ]
    },
    {
      "cell_type": "code",
      "source": [
        "test_ds = pd.read_csv('data/ner/test_word_label.csv')\n",
        "test_ds"
      ],
      "metadata": {
        "colab": {
          "base_uri": "https://localhost:8080/",
          "height": 424
        },
        "id": "Tpw79-wQiiNV",
        "outputId": "4bc330a1-11bc-499a-ebc4-3742a2bf1f8e"
      },
      "execution_count": 10,
      "outputs": [
        {
          "output_type": "execute_result",
          "data": {
            "text/plain": [
              "             word     label\n",
              "0        Allright         O\n",
              "1          fellas         O\n",
              "2            here         O\n",
              "3              's         O\n",
              "4             the         O\n",
              "...           ...       ...\n",
              "8985  information         O\n",
              "8986          was         O\n",
              "8987     supplied         O\n",
              "8988          me.         O\n",
              "8989       Stuart  B-PERSON\n",
              "\n",
              "[8990 rows x 2 columns]"
            ],
            "text/html": [
              "\n",
              "  <div id=\"df-288f08a2-c061-4ad3-a2b1-6f8fcc286de1\" class=\"colab-df-container\">\n",
              "    <div>\n",
              "<style scoped>\n",
              "    .dataframe tbody tr th:only-of-type {\n",
              "        vertical-align: middle;\n",
              "    }\n",
              "\n",
              "    .dataframe tbody tr th {\n",
              "        vertical-align: top;\n",
              "    }\n",
              "\n",
              "    .dataframe thead th {\n",
              "        text-align: right;\n",
              "    }\n",
              "</style>\n",
              "<table border=\"1\" class=\"dataframe\">\n",
              "  <thead>\n",
              "    <tr style=\"text-align: right;\">\n",
              "      <th></th>\n",
              "      <th>word</th>\n",
              "      <th>label</th>\n",
              "    </tr>\n",
              "  </thead>\n",
              "  <tbody>\n",
              "    <tr>\n",
              "      <th>0</th>\n",
              "      <td>Allright</td>\n",
              "      <td>O</td>\n",
              "    </tr>\n",
              "    <tr>\n",
              "      <th>1</th>\n",
              "      <td>fellas</td>\n",
              "      <td>O</td>\n",
              "    </tr>\n",
              "    <tr>\n",
              "      <th>2</th>\n",
              "      <td>here</td>\n",
              "      <td>O</td>\n",
              "    </tr>\n",
              "    <tr>\n",
              "      <th>3</th>\n",
              "      <td>'s</td>\n",
              "      <td>O</td>\n",
              "    </tr>\n",
              "    <tr>\n",
              "      <th>4</th>\n",
              "      <td>the</td>\n",
              "      <td>O</td>\n",
              "    </tr>\n",
              "    <tr>\n",
              "      <th>...</th>\n",
              "      <td>...</td>\n",
              "      <td>...</td>\n",
              "    </tr>\n",
              "    <tr>\n",
              "      <th>8985</th>\n",
              "      <td>information</td>\n",
              "      <td>O</td>\n",
              "    </tr>\n",
              "    <tr>\n",
              "      <th>8986</th>\n",
              "      <td>was</td>\n",
              "      <td>O</td>\n",
              "    </tr>\n",
              "    <tr>\n",
              "      <th>8987</th>\n",
              "      <td>supplied</td>\n",
              "      <td>O</td>\n",
              "    </tr>\n",
              "    <tr>\n",
              "      <th>8988</th>\n",
              "      <td>me.</td>\n",
              "      <td>O</td>\n",
              "    </tr>\n",
              "    <tr>\n",
              "      <th>8989</th>\n",
              "      <td>Stuart</td>\n",
              "      <td>B-PERSON</td>\n",
              "    </tr>\n",
              "  </tbody>\n",
              "</table>\n",
              "<p>8990 rows × 2 columns</p>\n",
              "</div>\n",
              "    <div class=\"colab-df-buttons\">\n",
              "\n",
              "  <div class=\"colab-df-container\">\n",
              "    <button class=\"colab-df-convert\" onclick=\"convertToInteractive('df-288f08a2-c061-4ad3-a2b1-6f8fcc286de1')\"\n",
              "            title=\"Convert this dataframe to an interactive table.\"\n",
              "            style=\"display:none;\">\n",
              "\n",
              "  <svg xmlns=\"http://www.w3.org/2000/svg\" height=\"24px\" viewBox=\"0 -960 960 960\">\n",
              "    <path d=\"M120-120v-720h720v720H120Zm60-500h600v-160H180v160Zm220 220h160v-160H400v160Zm0 220h160v-160H400v160ZM180-400h160v-160H180v160Zm440 0h160v-160H620v160ZM180-180h160v-160H180v160Zm440 0h160v-160H620v160Z\"/>\n",
              "  </svg>\n",
              "    </button>\n",
              "\n",
              "  <style>\n",
              "    .colab-df-container {\n",
              "      display:flex;\n",
              "      gap: 12px;\n",
              "    }\n",
              "\n",
              "    .colab-df-convert {\n",
              "      background-color: #E8F0FE;\n",
              "      border: none;\n",
              "      border-radius: 50%;\n",
              "      cursor: pointer;\n",
              "      display: none;\n",
              "      fill: #1967D2;\n",
              "      height: 32px;\n",
              "      padding: 0 0 0 0;\n",
              "      width: 32px;\n",
              "    }\n",
              "\n",
              "    .colab-df-convert:hover {\n",
              "      background-color: #E2EBFA;\n",
              "      box-shadow: 0px 1px 2px rgba(60, 64, 67, 0.3), 0px 1px 3px 1px rgba(60, 64, 67, 0.15);\n",
              "      fill: #174EA6;\n",
              "    }\n",
              "\n",
              "    .colab-df-buttons div {\n",
              "      margin-bottom: 4px;\n",
              "    }\n",
              "\n",
              "    [theme=dark] .colab-df-convert {\n",
              "      background-color: #3B4455;\n",
              "      fill: #D2E3FC;\n",
              "    }\n",
              "\n",
              "    [theme=dark] .colab-df-convert:hover {\n",
              "      background-color: #434B5C;\n",
              "      box-shadow: 0px 1px 3px 1px rgba(0, 0, 0, 0.15);\n",
              "      filter: drop-shadow(0px 1px 2px rgba(0, 0, 0, 0.3));\n",
              "      fill: #FFFFFF;\n",
              "    }\n",
              "  </style>\n",
              "\n",
              "    <script>\n",
              "      const buttonEl =\n",
              "        document.querySelector('#df-288f08a2-c061-4ad3-a2b1-6f8fcc286de1 button.colab-df-convert');\n",
              "      buttonEl.style.display =\n",
              "        google.colab.kernel.accessAllowed ? 'block' : 'none';\n",
              "\n",
              "      async function convertToInteractive(key) {\n",
              "        const element = document.querySelector('#df-288f08a2-c061-4ad3-a2b1-6f8fcc286de1');\n",
              "        const dataTable =\n",
              "          await google.colab.kernel.invokeFunction('convertToInteractive',\n",
              "                                                    [key], {});\n",
              "        if (!dataTable) return;\n",
              "\n",
              "        const docLinkHtml = 'Like what you see? Visit the ' +\n",
              "          '<a target=\"_blank\" href=https://colab.research.google.com/notebooks/data_table.ipynb>data table notebook</a>'\n",
              "          + ' to learn more about interactive tables.';\n",
              "        element.innerHTML = '';\n",
              "        dataTable['output_type'] = 'display_data';\n",
              "        await google.colab.output.renderOutput(dataTable, element);\n",
              "        const docLink = document.createElement('div');\n",
              "        docLink.innerHTML = docLinkHtml;\n",
              "        element.appendChild(docLink);\n",
              "      }\n",
              "    </script>\n",
              "  </div>\n",
              "\n",
              "\n",
              "<div id=\"df-69b6fbb2-6add-42f9-8dde-c4aba0ef5378\">\n",
              "  <button class=\"colab-df-quickchart\" onclick=\"quickchart('df-69b6fbb2-6add-42f9-8dde-c4aba0ef5378')\"\n",
              "            title=\"Suggest charts.\"\n",
              "            style=\"display:none;\">\n",
              "\n",
              "<svg xmlns=\"http://www.w3.org/2000/svg\" height=\"24px\"viewBox=\"0 0 24 24\"\n",
              "     width=\"24px\">\n",
              "    <g>\n",
              "        <path d=\"M19 3H5c-1.1 0-2 .9-2 2v14c0 1.1.9 2 2 2h14c1.1 0 2-.9 2-2V5c0-1.1-.9-2-2-2zM9 17H7v-7h2v7zm4 0h-2V7h2v10zm4 0h-2v-4h2v4z\"/>\n",
              "    </g>\n",
              "</svg>\n",
              "  </button>\n",
              "\n",
              "<style>\n",
              "  .colab-df-quickchart {\n",
              "      --bg-color: #E8F0FE;\n",
              "      --fill-color: #1967D2;\n",
              "      --hover-bg-color: #E2EBFA;\n",
              "      --hover-fill-color: #174EA6;\n",
              "      --disabled-fill-color: #AAA;\n",
              "      --disabled-bg-color: #DDD;\n",
              "  }\n",
              "\n",
              "  [theme=dark] .colab-df-quickchart {\n",
              "      --bg-color: #3B4455;\n",
              "      --fill-color: #D2E3FC;\n",
              "      --hover-bg-color: #434B5C;\n",
              "      --hover-fill-color: #FFFFFF;\n",
              "      --disabled-bg-color: #3B4455;\n",
              "      --disabled-fill-color: #666;\n",
              "  }\n",
              "\n",
              "  .colab-df-quickchart {\n",
              "    background-color: var(--bg-color);\n",
              "    border: none;\n",
              "    border-radius: 50%;\n",
              "    cursor: pointer;\n",
              "    display: none;\n",
              "    fill: var(--fill-color);\n",
              "    height: 32px;\n",
              "    padding: 0;\n",
              "    width: 32px;\n",
              "  }\n",
              "\n",
              "  .colab-df-quickchart:hover {\n",
              "    background-color: var(--hover-bg-color);\n",
              "    box-shadow: 0 1px 2px rgba(60, 64, 67, 0.3), 0 1px 3px 1px rgba(60, 64, 67, 0.15);\n",
              "    fill: var(--button-hover-fill-color);\n",
              "  }\n",
              "\n",
              "  .colab-df-quickchart-complete:disabled,\n",
              "  .colab-df-quickchart-complete:disabled:hover {\n",
              "    background-color: var(--disabled-bg-color);\n",
              "    fill: var(--disabled-fill-color);\n",
              "    box-shadow: none;\n",
              "  }\n",
              "\n",
              "  .colab-df-spinner {\n",
              "    border: 2px solid var(--fill-color);\n",
              "    border-color: transparent;\n",
              "    border-bottom-color: var(--fill-color);\n",
              "    animation:\n",
              "      spin 1s steps(1) infinite;\n",
              "  }\n",
              "\n",
              "  @keyframes spin {\n",
              "    0% {\n",
              "      border-color: transparent;\n",
              "      border-bottom-color: var(--fill-color);\n",
              "      border-left-color: var(--fill-color);\n",
              "    }\n",
              "    20% {\n",
              "      border-color: transparent;\n",
              "      border-left-color: var(--fill-color);\n",
              "      border-top-color: var(--fill-color);\n",
              "    }\n",
              "    30% {\n",
              "      border-color: transparent;\n",
              "      border-left-color: var(--fill-color);\n",
              "      border-top-color: var(--fill-color);\n",
              "      border-right-color: var(--fill-color);\n",
              "    }\n",
              "    40% {\n",
              "      border-color: transparent;\n",
              "      border-right-color: var(--fill-color);\n",
              "      border-top-color: var(--fill-color);\n",
              "    }\n",
              "    60% {\n",
              "      border-color: transparent;\n",
              "      border-right-color: var(--fill-color);\n",
              "    }\n",
              "    80% {\n",
              "      border-color: transparent;\n",
              "      border-right-color: var(--fill-color);\n",
              "      border-bottom-color: var(--fill-color);\n",
              "    }\n",
              "    90% {\n",
              "      border-color: transparent;\n",
              "      border-bottom-color: var(--fill-color);\n",
              "    }\n",
              "  }\n",
              "</style>\n",
              "\n",
              "  <script>\n",
              "    async function quickchart(key) {\n",
              "      const quickchartButtonEl =\n",
              "        document.querySelector('#' + key + ' button');\n",
              "      quickchartButtonEl.disabled = true;  // To prevent multiple clicks.\n",
              "      quickchartButtonEl.classList.add('colab-df-spinner');\n",
              "      try {\n",
              "        const charts = await google.colab.kernel.invokeFunction(\n",
              "            'suggestCharts', [key], {});\n",
              "      } catch (error) {\n",
              "        console.error('Error during call to suggestCharts:', error);\n",
              "      }\n",
              "      quickchartButtonEl.classList.remove('colab-df-spinner');\n",
              "      quickchartButtonEl.classList.add('colab-df-quickchart-complete');\n",
              "    }\n",
              "    (() => {\n",
              "      let quickchartButtonEl =\n",
              "        document.querySelector('#df-69b6fbb2-6add-42f9-8dde-c4aba0ef5378 button');\n",
              "      quickchartButtonEl.style.display =\n",
              "        google.colab.kernel.accessAllowed ? 'block' : 'none';\n",
              "    })();\n",
              "  </script>\n",
              "</div>\n",
              "    </div>\n",
              "  </div>\n"
            ]
          },
          "metadata": {},
          "execution_count": 10
        }
      ]
    },
    {
      "cell_type": "code",
      "source": [
        "test_ds.fillna(0, inplace=True)"
      ],
      "metadata": {
        "id": "PEMafwD_jo4U"
      },
      "execution_count": 11,
      "outputs": []
    },
    {
      "cell_type": "code",
      "source": [
        "# Convert to numerical format train, test words\n",
        "\n",
        "v = DictVectorizer(sparse=False)\n",
        "\n",
        "X_train = v.fit_transform(\n",
        "    train_ds.drop('label', axis=1).to_dict(orient='records')\n",
        ")\n",
        "X_test = v.transform(\n",
        "    test_ds.drop('label', axis=1).to_dict(orient='records')\n",
        ")"
      ],
      "metadata": {
        "id": "rC2fE8sajqIt"
      },
      "execution_count": 12,
      "outputs": []
    },
    {
      "cell_type": "code",
      "source": [
        "X_train"
      ],
      "metadata": {
        "colab": {
          "base_uri": "https://localhost:8080/"
        },
        "id": "dOo7qb9sjqGo",
        "outputId": "dd5c144b-8b43-432f-9f62-25d8f8567fa8"
      },
      "execution_count": 13,
      "outputs": [
        {
          "output_type": "execute_result",
          "data": {
            "text/plain": [
              "array([[0., 0., 0., ..., 0., 0., 0.],\n",
              "       [0., 0., 0., ..., 0., 0., 0.],\n",
              "       [0., 0., 0., ..., 0., 0., 0.],\n",
              "       ...,\n",
              "       [0., 0., 0., ..., 0., 0., 0.],\n",
              "       [0., 0., 0., ..., 0., 0., 0.],\n",
              "       [0., 0., 0., ..., 0., 0., 0.]])"
            ]
          },
          "metadata": {},
          "execution_count": 13
        }
      ]
    },
    {
      "cell_type": "code",
      "source": [
        "y_train = train_ds.label.values\n",
        "y_train"
      ],
      "metadata": {
        "colab": {
          "base_uri": "https://localhost:8080/"
        },
        "id": "lBIUQVTUjqC2",
        "outputId": "0df4caea-8059-4220-c506-ddea41fd32b2"
      },
      "execution_count": 14,
      "outputs": [
        {
          "output_type": "execute_result",
          "data": {
            "text/plain": [
              "array(['O', 'O', 'B-LOCATION', ..., 'O', 'B-PERSON', 'O'], dtype=object)"
            ]
          },
          "metadata": {},
          "execution_count": 14
        }
      ]
    },
    {
      "cell_type": "code",
      "source": [
        "X_test"
      ],
      "metadata": {
        "colab": {
          "base_uri": "https://localhost:8080/"
        },
        "id": "vOxEjVSakCJE",
        "outputId": "ade79f2d-1a5e-4e52-ee2d-1c4ea0ab3acc"
      },
      "execution_count": 15,
      "outputs": [
        {
          "output_type": "execute_result",
          "data": {
            "text/plain": [
              "array([[0., 0., 0., ..., 0., 0., 0.],\n",
              "       [0., 0., 0., ..., 0., 0., 0.],\n",
              "       [0., 0., 0., ..., 0., 0., 0.],\n",
              "       ...,\n",
              "       [0., 0., 0., ..., 0., 0., 0.],\n",
              "       [0., 0., 0., ..., 0., 0., 0.],\n",
              "       [0., 0., 0., ..., 0., 0., 0.]])"
            ]
          },
          "metadata": {},
          "execution_count": 15
        }
      ]
    },
    {
      "cell_type": "code",
      "source": [
        "y_test = test_ds.label.values\n",
        "y_test"
      ],
      "metadata": {
        "colab": {
          "base_uri": "https://localhost:8080/"
        },
        "id": "cPprbBU5kCG-",
        "outputId": "a6ef5527-467f-4b45-d052-7482ad1a1f1c"
      },
      "execution_count": 16,
      "outputs": [
        {
          "output_type": "execute_result",
          "data": {
            "text/plain": [
              "array(['O', 'O', 'O', ..., 'O', 'O', 'B-PERSON'], dtype=object)"
            ]
          },
          "metadata": {},
          "execution_count": 16
        }
      ]
    },
    {
      "cell_type": "code",
      "source": [
        "X_test.shape, y_test.shape"
      ],
      "metadata": {
        "colab": {
          "base_uri": "https://localhost:8080/"
        },
        "id": "HzSBGUr2kCEo",
        "outputId": "a7ebc7d7-ed62-4939-f4d4-b946ba4e037f"
      },
      "execution_count": 17,
      "outputs": [
        {
          "output_type": "execute_result",
          "data": {
            "text/plain": [
              "((8990, 16230), (8990,))"
            ]
          },
          "metadata": {},
          "execution_count": 17
        }
      ]
    },
    {
      "cell_type": "markdown",
      "source": [
        "We'll use few methods to determine the baseline model.\n",
        "Afterwards we'll compare with BERT for NER task."
      ],
      "metadata": {
        "id": "bO6jNpVTkYky"
      }
    },
    {
      "cell_type": "markdown",
      "source": [
        "**Determining Baseline Model**"
      ],
      "metadata": {
        "id": "Wamc5nKgkbgp"
      }
    },
    {
      "cell_type": "code",
      "source": [
        "# Create utility function to store evaluation metrics\n",
        "\n",
        "# Performance metrics\n",
        "from sklearn.metrics import accuracy_score\n",
        "from sklearn.metrics import precision_score\n",
        "from sklearn.metrics import recall_score\n",
        "from sklearn.metrics import f1_score\n",
        "\n",
        "models_dct = {\n",
        "    'model_type': [],\n",
        "    'precision': [],\n",
        "    'recall': [],\n",
        "    'f1_score': []\n",
        "}\n",
        "\n",
        "def evaluate_model(model, test_labels, labels, model_type):\n",
        "    \"\"\"\n",
        "    Evaluate model\n",
        "    \"\"\"\n",
        "    y_pred = model.predict(X_test)\n",
        "\n",
        "    report = classification_report(\n",
        "        y_pred=y_pred, y_true=y_test, labels=labels, output_dict=True)\n",
        "\n",
        "    _p_score = report['macro avg']['precision']\n",
        "    _r_score = report['macro avg']['recall']\n",
        "    _f1_score = report['macro avg']['f1-score']\n",
        "\n",
        "    models_dct['model_type'].append(model_type)\n",
        "    models_dct['precision'].append(_p_score)\n",
        "    models_dct['recall'].append(_r_score)\n",
        "    models_dct['f1_score'].append(_f1_score)"
      ],
      "metadata": {
        "id": "FIEkTLG1kat6"
      },
      "execution_count": 18,
      "outputs": []
    },
    {
      "cell_type": "markdown",
      "source": [
        "**Perceptron**"
      ],
      "metadata": {
        "id": "PUkCEe-zkjvO"
      }
    },
    {
      "cell_type": "code",
      "source": [
        "all_labels = train_ds['label'].values\n",
        "classes = np.unique(all_labels)\n",
        "classes = classes.tolist()\n",
        "classes"
      ],
      "metadata": {
        "colab": {
          "base_uri": "https://localhost:8080/"
        },
        "id": "YYVfvXZfkaoo",
        "outputId": "aaa54883-ca84-41e3-c09a-9438446ca5d0"
      },
      "execution_count": 19,
      "outputs": [
        {
          "output_type": "execute_result",
          "data": {
            "text/plain": [
              "['B-DATE',\n",
              " 'B-LOCATION',\n",
              " 'B-ORG',\n",
              " 'B-PERSON',\n",
              " 'I-DATE',\n",
              " 'I-LOCATION',\n",
              " 'I-ORG',\n",
              " 'I-PERSON',\n",
              " 'O']"
            ]
          },
          "metadata": {},
          "execution_count": 19
        }
      ]
    },
    {
      "cell_type": "code",
      "source": [
        "# Because the tag \"O\" (outside) is the most common tag, will make our results look much better than they actual are.\n",
        "# Therefore we remove the tag \"O\" when we evaluate classification metrics.\n",
        "\n",
        "new_classes = classes.copy()\n",
        "new_classes.pop()\n",
        "new_classes"
      ],
      "metadata": {
        "colab": {
          "base_uri": "https://localhost:8080/"
        },
        "id": "_tHQZyVfkimC",
        "outputId": "9825cd72-e041-4e36-90d2-bf1adf4fc919"
      },
      "execution_count": 20,
      "outputs": [
        {
          "output_type": "execute_result",
          "data": {
            "text/plain": [
              "['B-DATE',\n",
              " 'B-LOCATION',\n",
              " 'B-ORG',\n",
              " 'B-PERSON',\n",
              " 'I-DATE',\n",
              " 'I-LOCATION',\n",
              " 'I-ORG',\n",
              " 'I-PERSON']"
            ]
          },
          "metadata": {},
          "execution_count": 20
        }
      ]
    },
    {
      "cell_type": "code",
      "source": [
        "per = Perceptron(verbose=10, n_jobs=-1, max_iter=5)\n",
        "per.partial_fit(X_train, y_train, classes)"
      ],
      "metadata": {
        "colab": {
          "base_uri": "https://localhost:8080/",
          "height": 631
        },
        "id": "PdgO2S9Dkijp",
        "outputId": "5280ee7b-6819-4164-b4a6-f7fbc94b15d1"
      },
      "execution_count": 21,
      "outputs": [
        {
          "output_type": "stream",
          "name": "stderr",
          "text": [
            "[Parallel(n_jobs=-1)]: Using backend ThreadingBackend with 2 concurrent workers.\n"
          ]
        },
        {
          "output_type": "stream",
          "name": "stdout",
          "text": [
            "-- Epoch 1\n",
            "-- Epoch 1\n",
            "Norm: 23.30, NNZs: 444, Bias: -1.000000, T: 72860, Avg. loss: 0.007123\n",
            "Total training time: 4.31 seconds.\n",
            "-- Epoch 1\n"
          ]
        },
        {
          "output_type": "stream",
          "name": "stderr",
          "text": [
            "[Parallel(n_jobs=-1)]: Done   1 tasks      | elapsed:    4.3s\n"
          ]
        },
        {
          "output_type": "stream",
          "name": "stdout",
          "text": [
            "Norm: 15.23, NNZs: 192, Bias: -2.000000, T: 72860, Avg. loss: 0.007878\n",
            "Total training time: 4.61 seconds.\n",
            "-- Epoch 1\n",
            "Norm: 34.38, NNZs: 944, Bias: -2.000000, T: 72860, Avg. loss: 0.012970\n",
            "Total training time: 4.57 seconds.\n",
            "-- Epoch 1\n",
            "Norm: 48.63, NNZs: 1554, Bias: -1.000000, T: 72860, Avg. loss: 0.013780\n",
            "Total training time: 4.76 seconds.\n",
            "-- Epoch 1\n"
          ]
        },
        {
          "output_type": "stream",
          "name": "stderr",
          "text": [
            "[Parallel(n_jobs=-1)]: Done   4 tasks      | elapsed:    9.4s\n"
          ]
        },
        {
          "output_type": "stream",
          "name": "stdout",
          "text": [
            "Norm: 16.37, NNZs: 198, Bias: -2.000000, T: 72860, Avg. loss: 0.009360\n",
            "Total training time: 3.01 seconds.\n",
            "-- Epoch 1\n",
            "Norm: 18.87, NNZs: 317, Bias: -2.000000, T: 72860, Avg. loss: 0.004968\n",
            "Total training time: 2.67 seconds.\n",
            "-- Epoch 1\n",
            "Norm: 26.98, NNZs: 541, Bias: -2.000000, T: 72860, Avg. loss: 0.011639\n",
            "Total training time: 2.53 seconds.\n",
            "-- Epoch 1\n",
            "Norm: 37.80, NNZs: 1142, Bias: -1.000000, T: 72860, Avg. loss: 0.010925\n",
            "Total training time: 2.49 seconds.\n"
          ]
        },
        {
          "output_type": "stream",
          "name": "stderr",
          "text": [
            "[Parallel(n_jobs=-1)]: Done   7 out of   9 | elapsed:   14.5s remaining:    4.1s\n"
          ]
        },
        {
          "output_type": "stream",
          "name": "stdout",
          "text": [
            "Norm: 86.22, NNZs: 5012, Bias: 0.000000, T: 72860, Avg. loss: 0.066772\n",
            "Total training time: 2.06 seconds.\n"
          ]
        },
        {
          "output_type": "stream",
          "name": "stderr",
          "text": [
            "[Parallel(n_jobs=-1)]: Done   9 out of   9 | elapsed:   16.5s finished\n"
          ]
        },
        {
          "output_type": "execute_result",
          "data": {
            "text/plain": [
              "Perceptron(max_iter=5, n_jobs=-1, verbose=10)"
            ],
            "text/html": [
              "<style>#sk-container-id-1 {color: black;background-color: white;}#sk-container-id-1 pre{padding: 0;}#sk-container-id-1 div.sk-toggleable {background-color: white;}#sk-container-id-1 label.sk-toggleable__label {cursor: pointer;display: block;width: 100%;margin-bottom: 0;padding: 0.3em;box-sizing: border-box;text-align: center;}#sk-container-id-1 label.sk-toggleable__label-arrow:before {content: \"▸\";float: left;margin-right: 0.25em;color: #696969;}#sk-container-id-1 label.sk-toggleable__label-arrow:hover:before {color: black;}#sk-container-id-1 div.sk-estimator:hover label.sk-toggleable__label-arrow:before {color: black;}#sk-container-id-1 div.sk-toggleable__content {max-height: 0;max-width: 0;overflow: hidden;text-align: left;background-color: #f0f8ff;}#sk-container-id-1 div.sk-toggleable__content pre {margin: 0.2em;color: black;border-radius: 0.25em;background-color: #f0f8ff;}#sk-container-id-1 input.sk-toggleable__control:checked~div.sk-toggleable__content {max-height: 200px;max-width: 100%;overflow: auto;}#sk-container-id-1 input.sk-toggleable__control:checked~label.sk-toggleable__label-arrow:before {content: \"▾\";}#sk-container-id-1 div.sk-estimator input.sk-toggleable__control:checked~label.sk-toggleable__label {background-color: #d4ebff;}#sk-container-id-1 div.sk-label input.sk-toggleable__control:checked~label.sk-toggleable__label {background-color: #d4ebff;}#sk-container-id-1 input.sk-hidden--visually {border: 0;clip: rect(1px 1px 1px 1px);clip: rect(1px, 1px, 1px, 1px);height: 1px;margin: -1px;overflow: hidden;padding: 0;position: absolute;width: 1px;}#sk-container-id-1 div.sk-estimator {font-family: monospace;background-color: #f0f8ff;border: 1px dotted black;border-radius: 0.25em;box-sizing: border-box;margin-bottom: 0.5em;}#sk-container-id-1 div.sk-estimator:hover {background-color: #d4ebff;}#sk-container-id-1 div.sk-parallel-item::after {content: \"\";width: 100%;border-bottom: 1px solid gray;flex-grow: 1;}#sk-container-id-1 div.sk-label:hover label.sk-toggleable__label {background-color: #d4ebff;}#sk-container-id-1 div.sk-serial::before {content: \"\";position: absolute;border-left: 1px solid gray;box-sizing: border-box;top: 0;bottom: 0;left: 50%;z-index: 0;}#sk-container-id-1 div.sk-serial {display: flex;flex-direction: column;align-items: center;background-color: white;padding-right: 0.2em;padding-left: 0.2em;position: relative;}#sk-container-id-1 div.sk-item {position: relative;z-index: 1;}#sk-container-id-1 div.sk-parallel {display: flex;align-items: stretch;justify-content: center;background-color: white;position: relative;}#sk-container-id-1 div.sk-item::before, #sk-container-id-1 div.sk-parallel-item::before {content: \"\";position: absolute;border-left: 1px solid gray;box-sizing: border-box;top: 0;bottom: 0;left: 50%;z-index: -1;}#sk-container-id-1 div.sk-parallel-item {display: flex;flex-direction: column;z-index: 1;position: relative;background-color: white;}#sk-container-id-1 div.sk-parallel-item:first-child::after {align-self: flex-end;width: 50%;}#sk-container-id-1 div.sk-parallel-item:last-child::after {align-self: flex-start;width: 50%;}#sk-container-id-1 div.sk-parallel-item:only-child::after {width: 0;}#sk-container-id-1 div.sk-dashed-wrapped {border: 1px dashed gray;margin: 0 0.4em 0.5em 0.4em;box-sizing: border-box;padding-bottom: 0.4em;background-color: white;}#sk-container-id-1 div.sk-label label {font-family: monospace;font-weight: bold;display: inline-block;line-height: 1.2em;}#sk-container-id-1 div.sk-label-container {text-align: center;}#sk-container-id-1 div.sk-container {/* jupyter's `normalize.less` sets `[hidden] { display: none; }` but bootstrap.min.css set `[hidden] { display: none !important; }` so we also need the `!important` here to be able to override the default hidden behavior on the sphinx rendered scikit-learn.org. See: https://github.com/scikit-learn/scikit-learn/issues/21755 */display: inline-block !important;position: relative;}#sk-container-id-1 div.sk-text-repr-fallback {display: none;}</style><div id=\"sk-container-id-1\" class=\"sk-top-container\"><div class=\"sk-text-repr-fallback\"><pre>Perceptron(max_iter=5, n_jobs=-1, verbose=10)</pre><b>In a Jupyter environment, please rerun this cell to show the HTML representation or trust the notebook. <br />On GitHub, the HTML representation is unable to render, please try loading this page with nbviewer.org.</b></div><div class=\"sk-container\" hidden><div class=\"sk-item\"><div class=\"sk-estimator sk-toggleable\"><input class=\"sk-toggleable__control sk-hidden--visually\" id=\"sk-estimator-id-1\" type=\"checkbox\" checked><label for=\"sk-estimator-id-1\" class=\"sk-toggleable__label sk-toggleable__label-arrow\">Perceptron</label><div class=\"sk-toggleable__content\"><pre>Perceptron(max_iter=5, n_jobs=-1, verbose=10)</pre></div></div></div></div></div>"
            ]
          },
          "metadata": {},
          "execution_count": 21
        }
      ]
    },
    {
      "cell_type": "code",
      "source": [
        "evaluate_model(per, y_test, new_classes, 'Perceptron')"
      ],
      "metadata": {
        "id": "UI-87Njlkihj"
      },
      "execution_count": 22,
      "outputs": []
    },
    {
      "cell_type": "code",
      "source": [
        "models_dct"
      ],
      "metadata": {
        "colab": {
          "base_uri": "https://localhost:8080/"
        },
        "id": "izGJGqvXkifq",
        "outputId": "a1f328b3-5613-4a56-91c9-727fffd4bf77"
      },
      "execution_count": 23,
      "outputs": [
        {
          "output_type": "execute_result",
          "data": {
            "text/plain": [
              "{'model_type': ['Perceptron'],\n",
              " 'precision': [0.45005032404262235],\n",
              " 'recall': [0.30770586146201906],\n",
              " 'f1_score': [0.32818991528950503]}"
            ]
          },
          "metadata": {},
          "execution_count": 23
        }
      ]
    },
    {
      "cell_type": "code",
      "source": [
        "# Output classification report as dictionary to extract F1-score\n",
        "\n",
        "report = classification_report(\n",
        "    y_pred=per.predict(X_test), y_true=y_test, labels=new_classes, zero_division=0, output_dict=True\n",
        ")\n",
        "report"
      ],
      "metadata": {
        "colab": {
          "base_uri": "https://localhost:8080/"
        },
        "id": "V1rICkq2kidm",
        "outputId": "0142d74d-2ea0-45f6-dea0-f5d570ee7d45"
      },
      "execution_count": 24,
      "outputs": [
        {
          "output_type": "execute_result",
          "data": {
            "text/plain": [
              "{'B-DATE': {'precision': 0.2391304347826087,\n",
              "  'recall': 0.22448979591836735,\n",
              "  'f1-score': 0.23157894736842108,\n",
              "  'support': 49},\n",
              " 'B-LOCATION': {'precision': 0.1484375,\n",
              "  'recall': 0.48717948717948717,\n",
              "  'f1-score': 0.22754491017964068,\n",
              "  'support': 78},\n",
              " 'B-ORG': {'precision': 0.7121212121212122,\n",
              "  'recall': 0.3560606060606061,\n",
              "  'f1-score': 0.47474747474747475,\n",
              "  'support': 132},\n",
              " 'B-PERSON': {'precision': 0.7747252747252747,\n",
              "  'recall': 0.6714285714285714,\n",
              "  'f1-score': 0.7193877551020408,\n",
              "  'support': 210},\n",
              " 'I-DATE': {'precision': 0.3684210526315789,\n",
              "  'recall': 0.11666666666666667,\n",
              "  'f1-score': 0.17721518987341772,\n",
              "  'support': 60},\n",
              " 'I-LOCATION': {'precision': 0.3333333333333333,\n",
              "  'recall': 0.047619047619047616,\n",
              "  'f1-score': 0.08333333333333333,\n",
              "  'support': 42},\n",
              " 'I-ORG': {'precision': 0.5652173913043478,\n",
              "  'recall': 0.23636363636363636,\n",
              "  'f1-score': 0.3333333333333333,\n",
              "  'support': 110},\n",
              " 'I-PERSON': {'precision': 0.45901639344262296,\n",
              "  'recall': 0.3218390804597701,\n",
              "  'f1-score': 0.3783783783783784,\n",
              "  'support': 87},\n",
              " 'micro avg': {'precision': 0.4398826979472141,\n",
              "  'recall': 0.390625,\n",
              "  'f1-score': 0.4137931034482758,\n",
              "  'support': 768},\n",
              " 'macro avg': {'precision': 0.45005032404262235,\n",
              "  'recall': 0.30770586146201906,\n",
              "  'f1-score': 0.32818991528950503,\n",
              "  'support': 768},\n",
              " 'weighted avg': {'precision': 0.5445331073275218,\n",
              "  'recall': 0.390625,\n",
              "  'f1-score': 0.42519852035306055,\n",
              "  'support': 768}}"
            ]
          },
          "metadata": {},
          "execution_count": 24
        }
      ]
    },
    {
      "cell_type": "markdown",
      "source": [
        "**Passive Aggresive Classifier**"
      ],
      "metadata": {
        "id": "lcpG6NFXlBd6"
      }
    },
    {
      "cell_type": "code",
      "source": [
        "pa = PassiveAggressiveClassifier()\n",
        "pa.partial_fit(X_train, y_train, classes)"
      ],
      "metadata": {
        "colab": {
          "base_uri": "https://localhost:8080/",
          "height": 75
        },
        "id": "1X0TaE5Kk2lN",
        "outputId": "09eecf3a-6784-4a00-9fcd-c1717a75d420"
      },
      "execution_count": 25,
      "outputs": [
        {
          "output_type": "execute_result",
          "data": {
            "text/plain": [
              "PassiveAggressiveClassifier()"
            ],
            "text/html": [
              "<style>#sk-container-id-2 {color: black;background-color: white;}#sk-container-id-2 pre{padding: 0;}#sk-container-id-2 div.sk-toggleable {background-color: white;}#sk-container-id-2 label.sk-toggleable__label {cursor: pointer;display: block;width: 100%;margin-bottom: 0;padding: 0.3em;box-sizing: border-box;text-align: center;}#sk-container-id-2 label.sk-toggleable__label-arrow:before {content: \"▸\";float: left;margin-right: 0.25em;color: #696969;}#sk-container-id-2 label.sk-toggleable__label-arrow:hover:before {color: black;}#sk-container-id-2 div.sk-estimator:hover label.sk-toggleable__label-arrow:before {color: black;}#sk-container-id-2 div.sk-toggleable__content {max-height: 0;max-width: 0;overflow: hidden;text-align: left;background-color: #f0f8ff;}#sk-container-id-2 div.sk-toggleable__content pre {margin: 0.2em;color: black;border-radius: 0.25em;background-color: #f0f8ff;}#sk-container-id-2 input.sk-toggleable__control:checked~div.sk-toggleable__content {max-height: 200px;max-width: 100%;overflow: auto;}#sk-container-id-2 input.sk-toggleable__control:checked~label.sk-toggleable__label-arrow:before {content: \"▾\";}#sk-container-id-2 div.sk-estimator input.sk-toggleable__control:checked~label.sk-toggleable__label {background-color: #d4ebff;}#sk-container-id-2 div.sk-label input.sk-toggleable__control:checked~label.sk-toggleable__label {background-color: #d4ebff;}#sk-container-id-2 input.sk-hidden--visually {border: 0;clip: rect(1px 1px 1px 1px);clip: rect(1px, 1px, 1px, 1px);height: 1px;margin: -1px;overflow: hidden;padding: 0;position: absolute;width: 1px;}#sk-container-id-2 div.sk-estimator {font-family: monospace;background-color: #f0f8ff;border: 1px dotted black;border-radius: 0.25em;box-sizing: border-box;margin-bottom: 0.5em;}#sk-container-id-2 div.sk-estimator:hover {background-color: #d4ebff;}#sk-container-id-2 div.sk-parallel-item::after {content: \"\";width: 100%;border-bottom: 1px solid gray;flex-grow: 1;}#sk-container-id-2 div.sk-label:hover label.sk-toggleable__label {background-color: #d4ebff;}#sk-container-id-2 div.sk-serial::before {content: \"\";position: absolute;border-left: 1px solid gray;box-sizing: border-box;top: 0;bottom: 0;left: 50%;z-index: 0;}#sk-container-id-2 div.sk-serial {display: flex;flex-direction: column;align-items: center;background-color: white;padding-right: 0.2em;padding-left: 0.2em;position: relative;}#sk-container-id-2 div.sk-item {position: relative;z-index: 1;}#sk-container-id-2 div.sk-parallel {display: flex;align-items: stretch;justify-content: center;background-color: white;position: relative;}#sk-container-id-2 div.sk-item::before, #sk-container-id-2 div.sk-parallel-item::before {content: \"\";position: absolute;border-left: 1px solid gray;box-sizing: border-box;top: 0;bottom: 0;left: 50%;z-index: -1;}#sk-container-id-2 div.sk-parallel-item {display: flex;flex-direction: column;z-index: 1;position: relative;background-color: white;}#sk-container-id-2 div.sk-parallel-item:first-child::after {align-self: flex-end;width: 50%;}#sk-container-id-2 div.sk-parallel-item:last-child::after {align-self: flex-start;width: 50%;}#sk-container-id-2 div.sk-parallel-item:only-child::after {width: 0;}#sk-container-id-2 div.sk-dashed-wrapped {border: 1px dashed gray;margin: 0 0.4em 0.5em 0.4em;box-sizing: border-box;padding-bottom: 0.4em;background-color: white;}#sk-container-id-2 div.sk-label label {font-family: monospace;font-weight: bold;display: inline-block;line-height: 1.2em;}#sk-container-id-2 div.sk-label-container {text-align: center;}#sk-container-id-2 div.sk-container {/* jupyter's `normalize.less` sets `[hidden] { display: none; }` but bootstrap.min.css set `[hidden] { display: none !important; }` so we also need the `!important` here to be able to override the default hidden behavior on the sphinx rendered scikit-learn.org. See: https://github.com/scikit-learn/scikit-learn/issues/21755 */display: inline-block !important;position: relative;}#sk-container-id-2 div.sk-text-repr-fallback {display: none;}</style><div id=\"sk-container-id-2\" class=\"sk-top-container\"><div class=\"sk-text-repr-fallback\"><pre>PassiveAggressiveClassifier()</pre><b>In a Jupyter environment, please rerun this cell to show the HTML representation or trust the notebook. <br />On GitHub, the HTML representation is unable to render, please try loading this page with nbviewer.org.</b></div><div class=\"sk-container\" hidden><div class=\"sk-item\"><div class=\"sk-estimator sk-toggleable\"><input class=\"sk-toggleable__control sk-hidden--visually\" id=\"sk-estimator-id-2\" type=\"checkbox\" checked><label for=\"sk-estimator-id-2\" class=\"sk-toggleable__label sk-toggleable__label-arrow\">PassiveAggressiveClassifier</label><div class=\"sk-toggleable__content\"><pre>PassiveAggressiveClassifier()</pre></div></div></div></div></div>"
            ]
          },
          "metadata": {},
          "execution_count": 25
        }
      ]
    },
    {
      "cell_type": "code",
      "source": [
        "evaluate_model(pa, y_test, new_classes, 'Passive Aggresive Classifier')"
      ],
      "metadata": {
        "id": "TmLZ6GeDk2iZ"
      },
      "execution_count": 26,
      "outputs": []
    },
    {
      "cell_type": "markdown",
      "source": [
        "**Naive Bayes Classifier**"
      ],
      "metadata": {
        "id": "0a1R575_lIsF"
      }
    },
    {
      "cell_type": "code",
      "source": [
        "nb = MultinomialNB(alpha=0.01)\n",
        "nb.partial_fit(X_train, y_train, classes)"
      ],
      "metadata": {
        "colab": {
          "base_uri": "https://localhost:8080/",
          "height": 75
        },
        "id": "hYoQj0hrk2gO",
        "outputId": "abea0e30-7882-434d-badd-a8cc96b19b05"
      },
      "execution_count": 27,
      "outputs": [
        {
          "output_type": "execute_result",
          "data": {
            "text/plain": [
              "MultinomialNB(alpha=0.01)"
            ],
            "text/html": [
              "<style>#sk-container-id-3 {color: black;background-color: white;}#sk-container-id-3 pre{padding: 0;}#sk-container-id-3 div.sk-toggleable {background-color: white;}#sk-container-id-3 label.sk-toggleable__label {cursor: pointer;display: block;width: 100%;margin-bottom: 0;padding: 0.3em;box-sizing: border-box;text-align: center;}#sk-container-id-3 label.sk-toggleable__label-arrow:before {content: \"▸\";float: left;margin-right: 0.25em;color: #696969;}#sk-container-id-3 label.sk-toggleable__label-arrow:hover:before {color: black;}#sk-container-id-3 div.sk-estimator:hover label.sk-toggleable__label-arrow:before {color: black;}#sk-container-id-3 div.sk-toggleable__content {max-height: 0;max-width: 0;overflow: hidden;text-align: left;background-color: #f0f8ff;}#sk-container-id-3 div.sk-toggleable__content pre {margin: 0.2em;color: black;border-radius: 0.25em;background-color: #f0f8ff;}#sk-container-id-3 input.sk-toggleable__control:checked~div.sk-toggleable__content {max-height: 200px;max-width: 100%;overflow: auto;}#sk-container-id-3 input.sk-toggleable__control:checked~label.sk-toggleable__label-arrow:before {content: \"▾\";}#sk-container-id-3 div.sk-estimator input.sk-toggleable__control:checked~label.sk-toggleable__label {background-color: #d4ebff;}#sk-container-id-3 div.sk-label input.sk-toggleable__control:checked~label.sk-toggleable__label {background-color: #d4ebff;}#sk-container-id-3 input.sk-hidden--visually {border: 0;clip: rect(1px 1px 1px 1px);clip: rect(1px, 1px, 1px, 1px);height: 1px;margin: -1px;overflow: hidden;padding: 0;position: absolute;width: 1px;}#sk-container-id-3 div.sk-estimator {font-family: monospace;background-color: #f0f8ff;border: 1px dotted black;border-radius: 0.25em;box-sizing: border-box;margin-bottom: 0.5em;}#sk-container-id-3 div.sk-estimator:hover {background-color: #d4ebff;}#sk-container-id-3 div.sk-parallel-item::after {content: \"\";width: 100%;border-bottom: 1px solid gray;flex-grow: 1;}#sk-container-id-3 div.sk-label:hover label.sk-toggleable__label {background-color: #d4ebff;}#sk-container-id-3 div.sk-serial::before {content: \"\";position: absolute;border-left: 1px solid gray;box-sizing: border-box;top: 0;bottom: 0;left: 50%;z-index: 0;}#sk-container-id-3 div.sk-serial {display: flex;flex-direction: column;align-items: center;background-color: white;padding-right: 0.2em;padding-left: 0.2em;position: relative;}#sk-container-id-3 div.sk-item {position: relative;z-index: 1;}#sk-container-id-3 div.sk-parallel {display: flex;align-items: stretch;justify-content: center;background-color: white;position: relative;}#sk-container-id-3 div.sk-item::before, #sk-container-id-3 div.sk-parallel-item::before {content: \"\";position: absolute;border-left: 1px solid gray;box-sizing: border-box;top: 0;bottom: 0;left: 50%;z-index: -1;}#sk-container-id-3 div.sk-parallel-item {display: flex;flex-direction: column;z-index: 1;position: relative;background-color: white;}#sk-container-id-3 div.sk-parallel-item:first-child::after {align-self: flex-end;width: 50%;}#sk-container-id-3 div.sk-parallel-item:last-child::after {align-self: flex-start;width: 50%;}#sk-container-id-3 div.sk-parallel-item:only-child::after {width: 0;}#sk-container-id-3 div.sk-dashed-wrapped {border: 1px dashed gray;margin: 0 0.4em 0.5em 0.4em;box-sizing: border-box;padding-bottom: 0.4em;background-color: white;}#sk-container-id-3 div.sk-label label {font-family: monospace;font-weight: bold;display: inline-block;line-height: 1.2em;}#sk-container-id-3 div.sk-label-container {text-align: center;}#sk-container-id-3 div.sk-container {/* jupyter's `normalize.less` sets `[hidden] { display: none; }` but bootstrap.min.css set `[hidden] { display: none !important; }` so we also need the `!important` here to be able to override the default hidden behavior on the sphinx rendered scikit-learn.org. See: https://github.com/scikit-learn/scikit-learn/issues/21755 */display: inline-block !important;position: relative;}#sk-container-id-3 div.sk-text-repr-fallback {display: none;}</style><div id=\"sk-container-id-3\" class=\"sk-top-container\"><div class=\"sk-text-repr-fallback\"><pre>MultinomialNB(alpha=0.01)</pre><b>In a Jupyter environment, please rerun this cell to show the HTML representation or trust the notebook. <br />On GitHub, the HTML representation is unable to render, please try loading this page with nbviewer.org.</b></div><div class=\"sk-container\" hidden><div class=\"sk-item\"><div class=\"sk-estimator sk-toggleable\"><input class=\"sk-toggleable__control sk-hidden--visually\" id=\"sk-estimator-id-3\" type=\"checkbox\" checked><label for=\"sk-estimator-id-3\" class=\"sk-toggleable__label sk-toggleable__label-arrow\">MultinomialNB</label><div class=\"sk-toggleable__content\"><pre>MultinomialNB(alpha=0.01)</pre></div></div></div></div></div>"
            ]
          },
          "metadata": {},
          "execution_count": 27
        }
      ]
    },
    {
      "cell_type": "code",
      "source": [
        "evaluate_model(nb, y_test, new_classes, 'Naive Bayes Classifier')"
      ],
      "metadata": {
        "id": "OOEWAzQ9k2d-"
      },
      "execution_count": 28,
      "outputs": []
    },
    {
      "cell_type": "markdown",
      "source": [
        "**Liniar SGD Classifier**"
      ],
      "metadata": {
        "id": "XIsyateblT4l"
      }
    },
    {
      "cell_type": "code",
      "source": [
        "sgd = SGDClassifier()\n",
        "sgd.partial_fit(X_train, y_train, classes)"
      ],
      "metadata": {
        "colab": {
          "base_uri": "https://localhost:8080/",
          "height": 75
        },
        "id": "QrX16uEQlTpU",
        "outputId": "a48a4823-ac09-48d3-e063-1de4edad57cb"
      },
      "execution_count": 29,
      "outputs": [
        {
          "output_type": "execute_result",
          "data": {
            "text/plain": [
              "SGDClassifier()"
            ],
            "text/html": [
              "<style>#sk-container-id-4 {color: black;background-color: white;}#sk-container-id-4 pre{padding: 0;}#sk-container-id-4 div.sk-toggleable {background-color: white;}#sk-container-id-4 label.sk-toggleable__label {cursor: pointer;display: block;width: 100%;margin-bottom: 0;padding: 0.3em;box-sizing: border-box;text-align: center;}#sk-container-id-4 label.sk-toggleable__label-arrow:before {content: \"▸\";float: left;margin-right: 0.25em;color: #696969;}#sk-container-id-4 label.sk-toggleable__label-arrow:hover:before {color: black;}#sk-container-id-4 div.sk-estimator:hover label.sk-toggleable__label-arrow:before {color: black;}#sk-container-id-4 div.sk-toggleable__content {max-height: 0;max-width: 0;overflow: hidden;text-align: left;background-color: #f0f8ff;}#sk-container-id-4 div.sk-toggleable__content pre {margin: 0.2em;color: black;border-radius: 0.25em;background-color: #f0f8ff;}#sk-container-id-4 input.sk-toggleable__control:checked~div.sk-toggleable__content {max-height: 200px;max-width: 100%;overflow: auto;}#sk-container-id-4 input.sk-toggleable__control:checked~label.sk-toggleable__label-arrow:before {content: \"▾\";}#sk-container-id-4 div.sk-estimator input.sk-toggleable__control:checked~label.sk-toggleable__label {background-color: #d4ebff;}#sk-container-id-4 div.sk-label input.sk-toggleable__control:checked~label.sk-toggleable__label {background-color: #d4ebff;}#sk-container-id-4 input.sk-hidden--visually {border: 0;clip: rect(1px 1px 1px 1px);clip: rect(1px, 1px, 1px, 1px);height: 1px;margin: -1px;overflow: hidden;padding: 0;position: absolute;width: 1px;}#sk-container-id-4 div.sk-estimator {font-family: monospace;background-color: #f0f8ff;border: 1px dotted black;border-radius: 0.25em;box-sizing: border-box;margin-bottom: 0.5em;}#sk-container-id-4 div.sk-estimator:hover {background-color: #d4ebff;}#sk-container-id-4 div.sk-parallel-item::after {content: \"\";width: 100%;border-bottom: 1px solid gray;flex-grow: 1;}#sk-container-id-4 div.sk-label:hover label.sk-toggleable__label {background-color: #d4ebff;}#sk-container-id-4 div.sk-serial::before {content: \"\";position: absolute;border-left: 1px solid gray;box-sizing: border-box;top: 0;bottom: 0;left: 50%;z-index: 0;}#sk-container-id-4 div.sk-serial {display: flex;flex-direction: column;align-items: center;background-color: white;padding-right: 0.2em;padding-left: 0.2em;position: relative;}#sk-container-id-4 div.sk-item {position: relative;z-index: 1;}#sk-container-id-4 div.sk-parallel {display: flex;align-items: stretch;justify-content: center;background-color: white;position: relative;}#sk-container-id-4 div.sk-item::before, #sk-container-id-4 div.sk-parallel-item::before {content: \"\";position: absolute;border-left: 1px solid gray;box-sizing: border-box;top: 0;bottom: 0;left: 50%;z-index: -1;}#sk-container-id-4 div.sk-parallel-item {display: flex;flex-direction: column;z-index: 1;position: relative;background-color: white;}#sk-container-id-4 div.sk-parallel-item:first-child::after {align-self: flex-end;width: 50%;}#sk-container-id-4 div.sk-parallel-item:last-child::after {align-self: flex-start;width: 50%;}#sk-container-id-4 div.sk-parallel-item:only-child::after {width: 0;}#sk-container-id-4 div.sk-dashed-wrapped {border: 1px dashed gray;margin: 0 0.4em 0.5em 0.4em;box-sizing: border-box;padding-bottom: 0.4em;background-color: white;}#sk-container-id-4 div.sk-label label {font-family: monospace;font-weight: bold;display: inline-block;line-height: 1.2em;}#sk-container-id-4 div.sk-label-container {text-align: center;}#sk-container-id-4 div.sk-container {/* jupyter's `normalize.less` sets `[hidden] { display: none; }` but bootstrap.min.css set `[hidden] { display: none !important; }` so we also need the `!important` here to be able to override the default hidden behavior on the sphinx rendered scikit-learn.org. See: https://github.com/scikit-learn/scikit-learn/issues/21755 */display: inline-block !important;position: relative;}#sk-container-id-4 div.sk-text-repr-fallback {display: none;}</style><div id=\"sk-container-id-4\" class=\"sk-top-container\"><div class=\"sk-text-repr-fallback\"><pre>SGDClassifier()</pre><b>In a Jupyter environment, please rerun this cell to show the HTML representation or trust the notebook. <br />On GitHub, the HTML representation is unable to render, please try loading this page with nbviewer.org.</b></div><div class=\"sk-container\" hidden><div class=\"sk-item\"><div class=\"sk-estimator sk-toggleable\"><input class=\"sk-toggleable__control sk-hidden--visually\" id=\"sk-estimator-id-4\" type=\"checkbox\" checked><label for=\"sk-estimator-id-4\" class=\"sk-toggleable__label sk-toggleable__label-arrow\">SGDClassifier</label><div class=\"sk-toggleable__content\"><pre>SGDClassifier()</pre></div></div></div></div></div>"
            ]
          },
          "metadata": {},
          "execution_count": 29
        }
      ]
    },
    {
      "cell_type": "code",
      "source": [
        "evaluate_model(sgd, y_test, new_classes, 'SGD Classifier')"
      ],
      "metadata": {
        "colab": {
          "base_uri": "https://localhost:8080/"
        },
        "id": "GoYUTLV4lNmy",
        "outputId": "369242c1-b0b8-403c-abda-417b8752aee8"
      },
      "execution_count": 30,
      "outputs": [
        {
          "output_type": "stream",
          "name": "stderr",
          "text": [
            "/usr/local/lib/python3.10/dist-packages/sklearn/metrics/_classification.py:1344: UndefinedMetricWarning: Precision and F-score are ill-defined and being set to 0.0 in labels with no predicted samples. Use `zero_division` parameter to control this behavior.\n",
            "  _warn_prf(average, modifier, msg_start, len(result))\n",
            "/usr/local/lib/python3.10/dist-packages/sklearn/metrics/_classification.py:1344: UndefinedMetricWarning: Precision and F-score are ill-defined and being set to 0.0 in labels with no predicted samples. Use `zero_division` parameter to control this behavior.\n",
            "  _warn_prf(average, modifier, msg_start, len(result))\n",
            "/usr/local/lib/python3.10/dist-packages/sklearn/metrics/_classification.py:1344: UndefinedMetricWarning: Precision and F-score are ill-defined and being set to 0.0 in labels with no predicted samples. Use `zero_division` parameter to control this behavior.\n",
            "  _warn_prf(average, modifier, msg_start, len(result))\n"
          ]
        }
      ]
    },
    {
      "cell_type": "code",
      "source": [
        "models_dct"
      ],
      "metadata": {
        "colab": {
          "base_uri": "https://localhost:8080/"
        },
        "id": "Q3qeqNAFlNkL",
        "outputId": "a13327e6-7577-48ce-9ccf-ebd85cd47347"
      },
      "execution_count": 31,
      "outputs": [
        {
          "output_type": "execute_result",
          "data": {
            "text/plain": [
              "{'model_type': ['Perceptron',\n",
              "  'Passive Aggresive Classifier',\n",
              "  'Naive Bayes Classifier',\n",
              "  'SGD Classifier'],\n",
              " 'precision': [0.45005032404262235,\n",
              "  0.4914428713668629,\n",
              "  0.4882471350436121,\n",
              "  0.4213529936186186],\n",
              " 'recall': [0.30770586146201906,\n",
              "  0.3114502082482378,\n",
              "  0.267575579182722,\n",
              "  0.09009603901845281],\n",
              " 'f1_score': [0.32818991528950503,\n",
              "  0.36177860495555403,\n",
              "  0.33272083494314847,\n",
              "  0.14333242705137994]}"
            ]
          },
          "metadata": {},
          "execution_count": 31
        }
      ]
    },
    {
      "cell_type": "code",
      "source": [
        "eval_df = pd.DataFrame(models_dct)\n",
        "eval_df"
      ],
      "metadata": {
        "colab": {
          "base_uri": "https://localhost:8080/",
          "height": 175
        },
        "id": "tHltXgiAlNeA",
        "outputId": "141ae2ca-0b45-4400-ab6a-a597da8b7961"
      },
      "execution_count": 32,
      "outputs": [
        {
          "output_type": "execute_result",
          "data": {
            "text/plain": [
              "                     model_type  precision    recall  f1_score\n",
              "0                    Perceptron   0.450050  0.307706  0.328190\n",
              "1  Passive Aggresive Classifier   0.491443  0.311450  0.361779\n",
              "2        Naive Bayes Classifier   0.488247  0.267576  0.332721\n",
              "3                SGD Classifier   0.421353  0.090096  0.143332"
            ],
            "text/html": [
              "\n",
              "  <div id=\"df-9c46cf4c-1043-4739-ad2d-a79e2ddbf972\" class=\"colab-df-container\">\n",
              "    <div>\n",
              "<style scoped>\n",
              "    .dataframe tbody tr th:only-of-type {\n",
              "        vertical-align: middle;\n",
              "    }\n",
              "\n",
              "    .dataframe tbody tr th {\n",
              "        vertical-align: top;\n",
              "    }\n",
              "\n",
              "    .dataframe thead th {\n",
              "        text-align: right;\n",
              "    }\n",
              "</style>\n",
              "<table border=\"1\" class=\"dataframe\">\n",
              "  <thead>\n",
              "    <tr style=\"text-align: right;\">\n",
              "      <th></th>\n",
              "      <th>model_type</th>\n",
              "      <th>precision</th>\n",
              "      <th>recall</th>\n",
              "      <th>f1_score</th>\n",
              "    </tr>\n",
              "  </thead>\n",
              "  <tbody>\n",
              "    <tr>\n",
              "      <th>0</th>\n",
              "      <td>Perceptron</td>\n",
              "      <td>0.450050</td>\n",
              "      <td>0.307706</td>\n",
              "      <td>0.328190</td>\n",
              "    </tr>\n",
              "    <tr>\n",
              "      <th>1</th>\n",
              "      <td>Passive Aggresive Classifier</td>\n",
              "      <td>0.491443</td>\n",
              "      <td>0.311450</td>\n",
              "      <td>0.361779</td>\n",
              "    </tr>\n",
              "    <tr>\n",
              "      <th>2</th>\n",
              "      <td>Naive Bayes Classifier</td>\n",
              "      <td>0.488247</td>\n",
              "      <td>0.267576</td>\n",
              "      <td>0.332721</td>\n",
              "    </tr>\n",
              "    <tr>\n",
              "      <th>3</th>\n",
              "      <td>SGD Classifier</td>\n",
              "      <td>0.421353</td>\n",
              "      <td>0.090096</td>\n",
              "      <td>0.143332</td>\n",
              "    </tr>\n",
              "  </tbody>\n",
              "</table>\n",
              "</div>\n",
              "    <div class=\"colab-df-buttons\">\n",
              "\n",
              "  <div class=\"colab-df-container\">\n",
              "    <button class=\"colab-df-convert\" onclick=\"convertToInteractive('df-9c46cf4c-1043-4739-ad2d-a79e2ddbf972')\"\n",
              "            title=\"Convert this dataframe to an interactive table.\"\n",
              "            style=\"display:none;\">\n",
              "\n",
              "  <svg xmlns=\"http://www.w3.org/2000/svg\" height=\"24px\" viewBox=\"0 -960 960 960\">\n",
              "    <path d=\"M120-120v-720h720v720H120Zm60-500h600v-160H180v160Zm220 220h160v-160H400v160Zm0 220h160v-160H400v160ZM180-400h160v-160H180v160Zm440 0h160v-160H620v160ZM180-180h160v-160H180v160Zm440 0h160v-160H620v160Z\"/>\n",
              "  </svg>\n",
              "    </button>\n",
              "\n",
              "  <style>\n",
              "    .colab-df-container {\n",
              "      display:flex;\n",
              "      gap: 12px;\n",
              "    }\n",
              "\n",
              "    .colab-df-convert {\n",
              "      background-color: #E8F0FE;\n",
              "      border: none;\n",
              "      border-radius: 50%;\n",
              "      cursor: pointer;\n",
              "      display: none;\n",
              "      fill: #1967D2;\n",
              "      height: 32px;\n",
              "      padding: 0 0 0 0;\n",
              "      width: 32px;\n",
              "    }\n",
              "\n",
              "    .colab-df-convert:hover {\n",
              "      background-color: #E2EBFA;\n",
              "      box-shadow: 0px 1px 2px rgba(60, 64, 67, 0.3), 0px 1px 3px 1px rgba(60, 64, 67, 0.15);\n",
              "      fill: #174EA6;\n",
              "    }\n",
              "\n",
              "    .colab-df-buttons div {\n",
              "      margin-bottom: 4px;\n",
              "    }\n",
              "\n",
              "    [theme=dark] .colab-df-convert {\n",
              "      background-color: #3B4455;\n",
              "      fill: #D2E3FC;\n",
              "    }\n",
              "\n",
              "    [theme=dark] .colab-df-convert:hover {\n",
              "      background-color: #434B5C;\n",
              "      box-shadow: 0px 1px 3px 1px rgba(0, 0, 0, 0.15);\n",
              "      filter: drop-shadow(0px 1px 2px rgba(0, 0, 0, 0.3));\n",
              "      fill: #FFFFFF;\n",
              "    }\n",
              "  </style>\n",
              "\n",
              "    <script>\n",
              "      const buttonEl =\n",
              "        document.querySelector('#df-9c46cf4c-1043-4739-ad2d-a79e2ddbf972 button.colab-df-convert');\n",
              "      buttonEl.style.display =\n",
              "        google.colab.kernel.accessAllowed ? 'block' : 'none';\n",
              "\n",
              "      async function convertToInteractive(key) {\n",
              "        const element = document.querySelector('#df-9c46cf4c-1043-4739-ad2d-a79e2ddbf972');\n",
              "        const dataTable =\n",
              "          await google.colab.kernel.invokeFunction('convertToInteractive',\n",
              "                                                    [key], {});\n",
              "        if (!dataTable) return;\n",
              "\n",
              "        const docLinkHtml = 'Like what you see? Visit the ' +\n",
              "          '<a target=\"_blank\" href=https://colab.research.google.com/notebooks/data_table.ipynb>data table notebook</a>'\n",
              "          + ' to learn more about interactive tables.';\n",
              "        element.innerHTML = '';\n",
              "        dataTable['output_type'] = 'display_data';\n",
              "        await google.colab.output.renderOutput(dataTable, element);\n",
              "        const docLink = document.createElement('div');\n",
              "        docLink.innerHTML = docLinkHtml;\n",
              "        element.appendChild(docLink);\n",
              "      }\n",
              "    </script>\n",
              "  </div>\n",
              "\n",
              "\n",
              "<div id=\"df-94e93078-369f-4e67-a5aa-5437517bea15\">\n",
              "  <button class=\"colab-df-quickchart\" onclick=\"quickchart('df-94e93078-369f-4e67-a5aa-5437517bea15')\"\n",
              "            title=\"Suggest charts.\"\n",
              "            style=\"display:none;\">\n",
              "\n",
              "<svg xmlns=\"http://www.w3.org/2000/svg\" height=\"24px\"viewBox=\"0 0 24 24\"\n",
              "     width=\"24px\">\n",
              "    <g>\n",
              "        <path d=\"M19 3H5c-1.1 0-2 .9-2 2v14c0 1.1.9 2 2 2h14c1.1 0 2-.9 2-2V5c0-1.1-.9-2-2-2zM9 17H7v-7h2v7zm4 0h-2V7h2v10zm4 0h-2v-4h2v4z\"/>\n",
              "    </g>\n",
              "</svg>\n",
              "  </button>\n",
              "\n",
              "<style>\n",
              "  .colab-df-quickchart {\n",
              "      --bg-color: #E8F0FE;\n",
              "      --fill-color: #1967D2;\n",
              "      --hover-bg-color: #E2EBFA;\n",
              "      --hover-fill-color: #174EA6;\n",
              "      --disabled-fill-color: #AAA;\n",
              "      --disabled-bg-color: #DDD;\n",
              "  }\n",
              "\n",
              "  [theme=dark] .colab-df-quickchart {\n",
              "      --bg-color: #3B4455;\n",
              "      --fill-color: #D2E3FC;\n",
              "      --hover-bg-color: #434B5C;\n",
              "      --hover-fill-color: #FFFFFF;\n",
              "      --disabled-bg-color: #3B4455;\n",
              "      --disabled-fill-color: #666;\n",
              "  }\n",
              "\n",
              "  .colab-df-quickchart {\n",
              "    background-color: var(--bg-color);\n",
              "    border: none;\n",
              "    border-radius: 50%;\n",
              "    cursor: pointer;\n",
              "    display: none;\n",
              "    fill: var(--fill-color);\n",
              "    height: 32px;\n",
              "    padding: 0;\n",
              "    width: 32px;\n",
              "  }\n",
              "\n",
              "  .colab-df-quickchart:hover {\n",
              "    background-color: var(--hover-bg-color);\n",
              "    box-shadow: 0 1px 2px rgba(60, 64, 67, 0.3), 0 1px 3px 1px rgba(60, 64, 67, 0.15);\n",
              "    fill: var(--button-hover-fill-color);\n",
              "  }\n",
              "\n",
              "  .colab-df-quickchart-complete:disabled,\n",
              "  .colab-df-quickchart-complete:disabled:hover {\n",
              "    background-color: var(--disabled-bg-color);\n",
              "    fill: var(--disabled-fill-color);\n",
              "    box-shadow: none;\n",
              "  }\n",
              "\n",
              "  .colab-df-spinner {\n",
              "    border: 2px solid var(--fill-color);\n",
              "    border-color: transparent;\n",
              "    border-bottom-color: var(--fill-color);\n",
              "    animation:\n",
              "      spin 1s steps(1) infinite;\n",
              "  }\n",
              "\n",
              "  @keyframes spin {\n",
              "    0% {\n",
              "      border-color: transparent;\n",
              "      border-bottom-color: var(--fill-color);\n",
              "      border-left-color: var(--fill-color);\n",
              "    }\n",
              "    20% {\n",
              "      border-color: transparent;\n",
              "      border-left-color: var(--fill-color);\n",
              "      border-top-color: var(--fill-color);\n",
              "    }\n",
              "    30% {\n",
              "      border-color: transparent;\n",
              "      border-left-color: var(--fill-color);\n",
              "      border-top-color: var(--fill-color);\n",
              "      border-right-color: var(--fill-color);\n",
              "    }\n",
              "    40% {\n",
              "      border-color: transparent;\n",
              "      border-right-color: var(--fill-color);\n",
              "      border-top-color: var(--fill-color);\n",
              "    }\n",
              "    60% {\n",
              "      border-color: transparent;\n",
              "      border-right-color: var(--fill-color);\n",
              "    }\n",
              "    80% {\n",
              "      border-color: transparent;\n",
              "      border-right-color: var(--fill-color);\n",
              "      border-bottom-color: var(--fill-color);\n",
              "    }\n",
              "    90% {\n",
              "      border-color: transparent;\n",
              "      border-bottom-color: var(--fill-color);\n",
              "    }\n",
              "  }\n",
              "</style>\n",
              "\n",
              "  <script>\n",
              "    async function quickchart(key) {\n",
              "      const quickchartButtonEl =\n",
              "        document.querySelector('#' + key + ' button');\n",
              "      quickchartButtonEl.disabled = true;  // To prevent multiple clicks.\n",
              "      quickchartButtonEl.classList.add('colab-df-spinner');\n",
              "      try {\n",
              "        const charts = await google.colab.kernel.invokeFunction(\n",
              "            'suggestCharts', [key], {});\n",
              "      } catch (error) {\n",
              "        console.error('Error during call to suggestCharts:', error);\n",
              "      }\n",
              "      quickchartButtonEl.classList.remove('colab-df-spinner');\n",
              "      quickchartButtonEl.classList.add('colab-df-quickchart-complete');\n",
              "    }\n",
              "    (() => {\n",
              "      let quickchartButtonEl =\n",
              "        document.querySelector('#df-94e93078-369f-4e67-a5aa-5437517bea15 button');\n",
              "      quickchartButtonEl.style.display =\n",
              "        google.colab.kernel.accessAllowed ? 'block' : 'none';\n",
              "    })();\n",
              "  </script>\n",
              "</div>\n",
              "    </div>\n",
              "  </div>\n"
            ]
          },
          "metadata": {},
          "execution_count": 32
        }
      ]
    },
    {
      "cell_type": "code",
      "source": [
        "model_types = models_dct['model_type']\n",
        "model_types"
      ],
      "metadata": {
        "colab": {
          "base_uri": "https://localhost:8080/"
        },
        "id": "EtJ05AOalkOg",
        "outputId": "b5bb5f22-33dc-4ac5-a01c-28d40a61f22b"
      },
      "execution_count": 33,
      "outputs": [
        {
          "output_type": "execute_result",
          "data": {
            "text/plain": [
              "['Perceptron',\n",
              " 'Passive Aggresive Classifier',\n",
              " 'Naive Bayes Classifier',\n",
              " 'SGD Classifier']"
            ]
          },
          "metadata": {},
          "execution_count": 33
        }
      ]
    },
    {
      "cell_type": "code",
      "source": [
        "# Make model types as dataframe index\n",
        "\n",
        "eval_df.index = model_types\n",
        "eval_df"
      ],
      "metadata": {
        "colab": {
          "base_uri": "https://localhost:8080/",
          "height": 175
        },
        "id": "KeQmLNmElkMj",
        "outputId": "11914372-4edb-4c5c-b22b-a3129b416c08"
      },
      "execution_count": 34,
      "outputs": [
        {
          "output_type": "execute_result",
          "data": {
            "text/plain": [
              "                                                model_type  precision  \\\n",
              "Perceptron                                      Perceptron   0.450050   \n",
              "Passive Aggresive Classifier  Passive Aggresive Classifier   0.491443   \n",
              "Naive Bayes Classifier              Naive Bayes Classifier   0.488247   \n",
              "SGD Classifier                              SGD Classifier   0.421353   \n",
              "\n",
              "                                recall  f1_score  \n",
              "Perceptron                    0.307706  0.328190  \n",
              "Passive Aggresive Classifier  0.311450  0.361779  \n",
              "Naive Bayes Classifier        0.267576  0.332721  \n",
              "SGD Classifier                0.090096  0.143332  "
            ],
            "text/html": [
              "\n",
              "  <div id=\"df-3df9bb04-62b7-440a-9ccb-558a49d4d49e\" class=\"colab-df-container\">\n",
              "    <div>\n",
              "<style scoped>\n",
              "    .dataframe tbody tr th:only-of-type {\n",
              "        vertical-align: middle;\n",
              "    }\n",
              "\n",
              "    .dataframe tbody tr th {\n",
              "        vertical-align: top;\n",
              "    }\n",
              "\n",
              "    .dataframe thead th {\n",
              "        text-align: right;\n",
              "    }\n",
              "</style>\n",
              "<table border=\"1\" class=\"dataframe\">\n",
              "  <thead>\n",
              "    <tr style=\"text-align: right;\">\n",
              "      <th></th>\n",
              "      <th>model_type</th>\n",
              "      <th>precision</th>\n",
              "      <th>recall</th>\n",
              "      <th>f1_score</th>\n",
              "    </tr>\n",
              "  </thead>\n",
              "  <tbody>\n",
              "    <tr>\n",
              "      <th>Perceptron</th>\n",
              "      <td>Perceptron</td>\n",
              "      <td>0.450050</td>\n",
              "      <td>0.307706</td>\n",
              "      <td>0.328190</td>\n",
              "    </tr>\n",
              "    <tr>\n",
              "      <th>Passive Aggresive Classifier</th>\n",
              "      <td>Passive Aggresive Classifier</td>\n",
              "      <td>0.491443</td>\n",
              "      <td>0.311450</td>\n",
              "      <td>0.361779</td>\n",
              "    </tr>\n",
              "    <tr>\n",
              "      <th>Naive Bayes Classifier</th>\n",
              "      <td>Naive Bayes Classifier</td>\n",
              "      <td>0.488247</td>\n",
              "      <td>0.267576</td>\n",
              "      <td>0.332721</td>\n",
              "    </tr>\n",
              "    <tr>\n",
              "      <th>SGD Classifier</th>\n",
              "      <td>SGD Classifier</td>\n",
              "      <td>0.421353</td>\n",
              "      <td>0.090096</td>\n",
              "      <td>0.143332</td>\n",
              "    </tr>\n",
              "  </tbody>\n",
              "</table>\n",
              "</div>\n",
              "    <div class=\"colab-df-buttons\">\n",
              "\n",
              "  <div class=\"colab-df-container\">\n",
              "    <button class=\"colab-df-convert\" onclick=\"convertToInteractive('df-3df9bb04-62b7-440a-9ccb-558a49d4d49e')\"\n",
              "            title=\"Convert this dataframe to an interactive table.\"\n",
              "            style=\"display:none;\">\n",
              "\n",
              "  <svg xmlns=\"http://www.w3.org/2000/svg\" height=\"24px\" viewBox=\"0 -960 960 960\">\n",
              "    <path d=\"M120-120v-720h720v720H120Zm60-500h600v-160H180v160Zm220 220h160v-160H400v160Zm0 220h160v-160H400v160ZM180-400h160v-160H180v160Zm440 0h160v-160H620v160ZM180-180h160v-160H180v160Zm440 0h160v-160H620v160Z\"/>\n",
              "  </svg>\n",
              "    </button>\n",
              "\n",
              "  <style>\n",
              "    .colab-df-container {\n",
              "      display:flex;\n",
              "      gap: 12px;\n",
              "    }\n",
              "\n",
              "    .colab-df-convert {\n",
              "      background-color: #E8F0FE;\n",
              "      border: none;\n",
              "      border-radius: 50%;\n",
              "      cursor: pointer;\n",
              "      display: none;\n",
              "      fill: #1967D2;\n",
              "      height: 32px;\n",
              "      padding: 0 0 0 0;\n",
              "      width: 32px;\n",
              "    }\n",
              "\n",
              "    .colab-df-convert:hover {\n",
              "      background-color: #E2EBFA;\n",
              "      box-shadow: 0px 1px 2px rgba(60, 64, 67, 0.3), 0px 1px 3px 1px rgba(60, 64, 67, 0.15);\n",
              "      fill: #174EA6;\n",
              "    }\n",
              "\n",
              "    .colab-df-buttons div {\n",
              "      margin-bottom: 4px;\n",
              "    }\n",
              "\n",
              "    [theme=dark] .colab-df-convert {\n",
              "      background-color: #3B4455;\n",
              "      fill: #D2E3FC;\n",
              "    }\n",
              "\n",
              "    [theme=dark] .colab-df-convert:hover {\n",
              "      background-color: #434B5C;\n",
              "      box-shadow: 0px 1px 3px 1px rgba(0, 0, 0, 0.15);\n",
              "      filter: drop-shadow(0px 1px 2px rgba(0, 0, 0, 0.3));\n",
              "      fill: #FFFFFF;\n",
              "    }\n",
              "  </style>\n",
              "\n",
              "    <script>\n",
              "      const buttonEl =\n",
              "        document.querySelector('#df-3df9bb04-62b7-440a-9ccb-558a49d4d49e button.colab-df-convert');\n",
              "      buttonEl.style.display =\n",
              "        google.colab.kernel.accessAllowed ? 'block' : 'none';\n",
              "\n",
              "      async function convertToInteractive(key) {\n",
              "        const element = document.querySelector('#df-3df9bb04-62b7-440a-9ccb-558a49d4d49e');\n",
              "        const dataTable =\n",
              "          await google.colab.kernel.invokeFunction('convertToInteractive',\n",
              "                                                    [key], {});\n",
              "        if (!dataTable) return;\n",
              "\n",
              "        const docLinkHtml = 'Like what you see? Visit the ' +\n",
              "          '<a target=\"_blank\" href=https://colab.research.google.com/notebooks/data_table.ipynb>data table notebook</a>'\n",
              "          + ' to learn more about interactive tables.';\n",
              "        element.innerHTML = '';\n",
              "        dataTable['output_type'] = 'display_data';\n",
              "        await google.colab.output.renderOutput(dataTable, element);\n",
              "        const docLink = document.createElement('div');\n",
              "        docLink.innerHTML = docLinkHtml;\n",
              "        element.appendChild(docLink);\n",
              "      }\n",
              "    </script>\n",
              "  </div>\n",
              "\n",
              "\n",
              "<div id=\"df-d36db121-a0c0-40be-8eeb-df1c7e69df39\">\n",
              "  <button class=\"colab-df-quickchart\" onclick=\"quickchart('df-d36db121-a0c0-40be-8eeb-df1c7e69df39')\"\n",
              "            title=\"Suggest charts.\"\n",
              "            style=\"display:none;\">\n",
              "\n",
              "<svg xmlns=\"http://www.w3.org/2000/svg\" height=\"24px\"viewBox=\"0 0 24 24\"\n",
              "     width=\"24px\">\n",
              "    <g>\n",
              "        <path d=\"M19 3H5c-1.1 0-2 .9-2 2v14c0 1.1.9 2 2 2h14c1.1 0 2-.9 2-2V5c0-1.1-.9-2-2-2zM9 17H7v-7h2v7zm4 0h-2V7h2v10zm4 0h-2v-4h2v4z\"/>\n",
              "    </g>\n",
              "</svg>\n",
              "  </button>\n",
              "\n",
              "<style>\n",
              "  .colab-df-quickchart {\n",
              "      --bg-color: #E8F0FE;\n",
              "      --fill-color: #1967D2;\n",
              "      --hover-bg-color: #E2EBFA;\n",
              "      --hover-fill-color: #174EA6;\n",
              "      --disabled-fill-color: #AAA;\n",
              "      --disabled-bg-color: #DDD;\n",
              "  }\n",
              "\n",
              "  [theme=dark] .colab-df-quickchart {\n",
              "      --bg-color: #3B4455;\n",
              "      --fill-color: #D2E3FC;\n",
              "      --hover-bg-color: #434B5C;\n",
              "      --hover-fill-color: #FFFFFF;\n",
              "      --disabled-bg-color: #3B4455;\n",
              "      --disabled-fill-color: #666;\n",
              "  }\n",
              "\n",
              "  .colab-df-quickchart {\n",
              "    background-color: var(--bg-color);\n",
              "    border: none;\n",
              "    border-radius: 50%;\n",
              "    cursor: pointer;\n",
              "    display: none;\n",
              "    fill: var(--fill-color);\n",
              "    height: 32px;\n",
              "    padding: 0;\n",
              "    width: 32px;\n",
              "  }\n",
              "\n",
              "  .colab-df-quickchart:hover {\n",
              "    background-color: var(--hover-bg-color);\n",
              "    box-shadow: 0 1px 2px rgba(60, 64, 67, 0.3), 0 1px 3px 1px rgba(60, 64, 67, 0.15);\n",
              "    fill: var(--button-hover-fill-color);\n",
              "  }\n",
              "\n",
              "  .colab-df-quickchart-complete:disabled,\n",
              "  .colab-df-quickchart-complete:disabled:hover {\n",
              "    background-color: var(--disabled-bg-color);\n",
              "    fill: var(--disabled-fill-color);\n",
              "    box-shadow: none;\n",
              "  }\n",
              "\n",
              "  .colab-df-spinner {\n",
              "    border: 2px solid var(--fill-color);\n",
              "    border-color: transparent;\n",
              "    border-bottom-color: var(--fill-color);\n",
              "    animation:\n",
              "      spin 1s steps(1) infinite;\n",
              "  }\n",
              "\n",
              "  @keyframes spin {\n",
              "    0% {\n",
              "      border-color: transparent;\n",
              "      border-bottom-color: var(--fill-color);\n",
              "      border-left-color: var(--fill-color);\n",
              "    }\n",
              "    20% {\n",
              "      border-color: transparent;\n",
              "      border-left-color: var(--fill-color);\n",
              "      border-top-color: var(--fill-color);\n",
              "    }\n",
              "    30% {\n",
              "      border-color: transparent;\n",
              "      border-left-color: var(--fill-color);\n",
              "      border-top-color: var(--fill-color);\n",
              "      border-right-color: var(--fill-color);\n",
              "    }\n",
              "    40% {\n",
              "      border-color: transparent;\n",
              "      border-right-color: var(--fill-color);\n",
              "      border-top-color: var(--fill-color);\n",
              "    }\n",
              "    60% {\n",
              "      border-color: transparent;\n",
              "      border-right-color: var(--fill-color);\n",
              "    }\n",
              "    80% {\n",
              "      border-color: transparent;\n",
              "      border-right-color: var(--fill-color);\n",
              "      border-bottom-color: var(--fill-color);\n",
              "    }\n",
              "    90% {\n",
              "      border-color: transparent;\n",
              "      border-bottom-color: var(--fill-color);\n",
              "    }\n",
              "  }\n",
              "</style>\n",
              "\n",
              "  <script>\n",
              "    async function quickchart(key) {\n",
              "      const quickchartButtonEl =\n",
              "        document.querySelector('#' + key + ' button');\n",
              "      quickchartButtonEl.disabled = true;  // To prevent multiple clicks.\n",
              "      quickchartButtonEl.classList.add('colab-df-spinner');\n",
              "      try {\n",
              "        const charts = await google.colab.kernel.invokeFunction(\n",
              "            'suggestCharts', [key], {});\n",
              "      } catch (error) {\n",
              "        console.error('Error during call to suggestCharts:', error);\n",
              "      }\n",
              "      quickchartButtonEl.classList.remove('colab-df-spinner');\n",
              "      quickchartButtonEl.classList.add('colab-df-quickchart-complete');\n",
              "    }\n",
              "    (() => {\n",
              "      let quickchartButtonEl =\n",
              "        document.querySelector('#df-d36db121-a0c0-40be-8eeb-df1c7e69df39 button');\n",
              "      quickchartButtonEl.style.display =\n",
              "        google.colab.kernel.accessAllowed ? 'block' : 'none';\n",
              "    })();\n",
              "  </script>\n",
              "</div>\n",
              "    </div>\n",
              "  </div>\n"
            ]
          },
          "metadata": {},
          "execution_count": 34
        }
      ]
    },
    {
      "cell_type": "code",
      "source": [
        "# Plot evaluation by f1_score\n",
        "\n",
        "import matplotlib.pyplot as plt\n",
        "\n",
        "eval_df['f1_score'].plot(kind=\"barh\")\n",
        "plt.title(\"Model evaluation by F1-score metric\", fontsize=11)\n",
        "plt.ylabel('Model type', fontsize=11)\n",
        "plt.xlabel('F1 score', fontsize=11)"
      ],
      "metadata": {
        "colab": {
          "base_uri": "https://localhost:8080/",
          "height": 488
        },
        "id": "b6lx7xDyln_Q",
        "outputId": "b982cc68-f1d0-42b4-fe60-7f4d2da98116"
      },
      "execution_count": 35,
      "outputs": [
        {
          "output_type": "execute_result",
          "data": {
            "text/plain": [
              "Text(0.5, 0, 'F1 score')"
            ]
          },
          "metadata": {},
          "execution_count": 35
        },
        {
          "output_type": "display_data",
          "data": {
            "text/plain": [
              "<Figure size 640x480 with 1 Axes>"
            ],
            "image/png": "[encoded data removed]"
          },
          "metadata": {}
        }
      ]
    },
    {
      "cell_type": "code",
      "source": [
        "# Based on F1-score metrics, the best model is Passive Aggresive Classifier with macro average F1-score of 0.36\n",
        "\n",
        "print(classification_report(y_pred=pa.predict(X_test), y_true=y_test, labels=new_classes))"
      ],
      "metadata": {
        "colab": {
          "base_uri": "https://localhost:8080/"
        },
        "id": "wfI0SKFhln9K",
        "outputId": "5f5d8fd9-93e1-45f1-b05f-0a325d2d5422"
      },
      "execution_count": 37,
      "outputs": [
        {
          "output_type": "stream",
          "name": "stdout",
          "text": [
            "              precision    recall  f1-score   support\n",
            "\n",
            "      B-DATE       0.26      0.12      0.17        49\n",
            "  B-LOCATION       0.55      0.21      0.30        78\n",
            "       B-ORG       0.52      0.50      0.51       132\n",
            "    B-PERSON       0.78      0.68      0.72       210\n",
            "      I-DATE       0.29      0.13      0.18        60\n",
            "  I-LOCATION       0.43      0.07      0.12        42\n",
            "       I-ORG       0.47      0.47      0.47       110\n",
            "    I-PERSON       0.63      0.31      0.42        87\n",
            "\n",
            "   micro avg       0.58      0.42      0.49       768\n",
            "   macro avg       0.49      0.31      0.36       768\n",
            "weighted avg       0.56      0.42      0.46       768\n",
            "\n"
          ]
        }
      ]
    },
    {
      "cell_type": "markdown",
      "metadata": {
        "id": "irxJS9fWn18x"
      },
      "source": [
        "**BERT**"
      ]
    },
    {
      "cell_type": "code",
      "execution_count": 7,
      "metadata": {
        "id": "FUb2WvRLngOQ"
      },
      "outputs": [],
      "source": [
        "from flair.data import Corpus\n",
        "from flair.datasets import ColumnCorpus"
      ]
    },
    {
      "cell_type": "code",
      "source": [
        "# Load train, validation, test word label datasets\n",
        "\n",
        "train = pd.read_csv('data/ner/train.csv')\n",
        "train"
      ],
      "metadata": {
        "colab": {
          "base_uri": "https://localhost:8080/",
          "height": 597
        },
        "id": "c2k-I-SqqNAz",
        "outputId": "295a5608-0b07-4b51-bd22-5aae28c98e1d"
      },
      "execution_count": 9,
      "outputs": [
        {
          "output_type": "execute_result",
          "data": {
            "text/plain": [
              "                                        message_id  \\\n",
              "0    <11792830.1075859955495.JavaMail.evans@thyme>   \n",
              "1    <16461482.1075846947944.JavaMail.evans@thyme>   \n",
              "2    <27347038.1075842439828.JavaMail.evans@thyme>   \n",
              "3    <22015863.1075844739388.JavaMail.evans@thyme>   \n",
              "4    <27358009.1075862249772.JavaMail.evans@thyme>   \n",
              "..                                             ...   \n",
              "763  <23887193.1075840960293.JavaMail.evans@thyme>   \n",
              "764  <12852426.1075844351646.JavaMail.evans@thyme>   \n",
              "765    <685271.1075852754266.JavaMail.evans@thyme>   \n",
              "766   <3384182.1075849303276.JavaMail.evans@thyme>   \n",
              "767   <2826937.1075862373832.JavaMail.evans@thyme>   \n",
              "\n",
              "                                                  text  \\\n",
              "0    Good catch.  NY law should apply throughout th...   \n",
              "1    Tana,\\nWow, you are really on the ball.  Looks...   \n",
              "2    I am very pleased to announce that L.D. Stephe...   \n",
              "3    Chris:\\n\\nWe should chat.  Per the ISDA, ENA i...   \n",
              "4    I have made additional changes on pages 11-12 ...   \n",
              "..                                                 ...   \n",
              "763  We plan to have a conference call at 2pm Sunda...   \n",
              "764  Attached in WordPerfect are blacklines of the ...   \n",
              "765  We intend to start officializing a gas book fo...   \n",
              "766  We are very close to sending out a redline.? A...   \n",
              "767  The attached press release is the latest draft...   \n",
              "\n",
              "                                              entities  \\\n",
              "0    [{'word': 'Leonardo Pacheco', 'tag': 'PERSON'}...   \n",
              "1    [{'word': 'Tana', 'tag': 'PERSON'}, {'word': '...   \n",
              "2    [{'word': 'L.D. Stephens', 'tag': 'PERSON'}, {...   \n",
              "3    [{'word': 'Chris H Foster', 'tag': 'PERSON'}, ...   \n",
              "4    [{'word': 'Mark Mayer', 'tag': 'PERSON'}, {'wo...   \n",
              "..                                                 ...   \n",
              "763  [{'word': 'David', 'tag': 'PERSON'}, {'word': ...   \n",
              "764  [{'word': 'Deborah Lowe', 'tag': 'PERSON'}, {'...   \n",
              "765  [{'word': 'Kathy', 'tag': 'PERSON'}, {'word': ...   \n",
              "766  [{'word': 'Linda Y. Sherif', 'tag': 'PERSON'},...   \n",
              "767  [{'word': 'Enron', 'tag': 'PERSON'}, {'word': ...   \n",
              "\n",
              "                                            annotation  \n",
              "0    [('Leonardo Pacheco', 'PERSON'), ('NY', 'LOCAT...  \n",
              "1    [('Tana', 'PERSON'), ('Matthias', 'PERSON'), (...  \n",
              "2    [('L.D. Stephens', 'PERSON'), ('Enron', 'PERSO...  \n",
              "3    [('Chris H Foster', 'PERSON'), ('Sara Shacklet...  \n",
              "4    [('Mark Mayer', 'PERSON'), ('BPA', 'PERSON'), ...  \n",
              "..                                                 ...  \n",
              "763  [('David', 'PERSON'), ('Tammie', 'PERSON'), ('...  \n",
              "764  [('Deborah Lowe', 'PERSON'), ('1717 Main Stree...  \n",
              "765  [('Kathy', 'PERSON'), ('McKay', 'PERSON'), ('J...  \n",
              "766  [('Linda Y. Sherif', 'PERSON'), ('120 Montgome...  \n",
              "767  [('Enron', 'PERSON'), ('Citigroup', 'PERSON'),...  \n",
              "\n",
              "[768 rows x 4 columns]"
            ],
            "text/html": [
              "\n",
              "  <div id=\"df-f2101ec1-fa74-4837-b396-b993ce55b7c7\" class=\"colab-df-container\">\n",
              "    <div>\n",
              "<style scoped>\n",
              "    .dataframe tbody tr th:only-of-type {\n",
              "        vertical-align: middle;\n",
              "    }\n",
              "\n",
              "    .dataframe tbody tr th {\n",
              "        vertical-align: top;\n",
              "    }\n",
              "\n",
              "    .dataframe thead th {\n",
              "        text-align: right;\n",
              "    }\n",
              "</style>\n",
              "<table border=\"1\" class=\"dataframe\">\n",
              "  <thead>\n",
              "    <tr style=\"text-align: right;\">\n",
              "      <th></th>\n",
              "      <th>message_id</th>\n",
              "      <th>text</th>\n",
              "      <th>entities</th>\n",
              "      <th>annotation</th>\n",
              "    </tr>\n",
              "  </thead>\n",
              "  <tbody>\n",
              "    <tr>\n",
              "      <th>0</th>\n",
              "      <td>&lt;11792830.1075859955495.JavaMail.evans@thyme&gt;</td>\n",
              "      <td>Good catch.  NY law should apply throughout th...</td>\n",
              "      <td>[{'word': 'Leonardo Pacheco', 'tag': 'PERSON'}...</td>\n",
              "      <td>[('Leonardo Pacheco', 'PERSON'), ('NY', 'LOCAT...</td>\n",
              "    </tr>\n",
              "    <tr>\n",
              "      <th>1</th>\n",
              "      <td>&lt;16461482.1075846947944.JavaMail.evans@thyme&gt;</td>\n",
              "      <td>Tana,\\nWow, you are really on the ball.  Looks...</td>\n",
              "      <td>[{'word': 'Tana', 'tag': 'PERSON'}, {'word': '...</td>\n",
              "      <td>[('Tana', 'PERSON'), ('Matthias', 'PERSON'), (...</td>\n",
              "    </tr>\n",
              "    <tr>\n",
              "      <th>2</th>\n",
              "      <td>&lt;27347038.1075842439828.JavaMail.evans@thyme&gt;</td>\n",
              "      <td>I am very pleased to announce that L.D. Stephe...</td>\n",
              "      <td>[{'word': 'L.D. Stephens', 'tag': 'PERSON'}, {...</td>\n",
              "      <td>[('L.D. Stephens', 'PERSON'), ('Enron', 'PERSO...</td>\n",
              "    </tr>\n",
              "    <tr>\n",
              "      <th>3</th>\n",
              "      <td>&lt;22015863.1075844739388.JavaMail.evans@thyme&gt;</td>\n",
              "      <td>Chris:\\n\\nWe should chat.  Per the ISDA, ENA i...</td>\n",
              "      <td>[{'word': 'Chris H Foster', 'tag': 'PERSON'}, ...</td>\n",
              "      <td>[('Chris H Foster', 'PERSON'), ('Sara Shacklet...</td>\n",
              "    </tr>\n",
              "    <tr>\n",
              "      <th>4</th>\n",
              "      <td>&lt;27358009.1075862249772.JavaMail.evans@thyme&gt;</td>\n",
              "      <td>I have made additional changes on pages 11-12 ...</td>\n",
              "      <td>[{'word': 'Mark Mayer', 'tag': 'PERSON'}, {'wo...</td>\n",
              "      <td>[('Mark Mayer', 'PERSON'), ('BPA', 'PERSON'), ...</td>\n",
              "    </tr>\n",
              "    <tr>\n",
              "      <th>...</th>\n",
              "      <td>...</td>\n",
              "      <td>...</td>\n",
              "      <td>...</td>\n",
              "      <td>...</td>\n",
              "    </tr>\n",
              "    <tr>\n",
              "      <th>763</th>\n",
              "      <td>&lt;23887193.1075840960293.JavaMail.evans@thyme&gt;</td>\n",
              "      <td>We plan to have a conference call at 2pm Sunda...</td>\n",
              "      <td>[{'word': 'David', 'tag': 'PERSON'}, {'word': ...</td>\n",
              "      <td>[('David', 'PERSON'), ('Tammie', 'PERSON'), ('...</td>\n",
              "    </tr>\n",
              "    <tr>\n",
              "      <th>764</th>\n",
              "      <td>&lt;12852426.1075844351646.JavaMail.evans@thyme&gt;</td>\n",
              "      <td>Attached in WordPerfect are blacklines of the ...</td>\n",
              "      <td>[{'word': 'Deborah Lowe', 'tag': 'PERSON'}, {'...</td>\n",
              "      <td>[('Deborah Lowe', 'PERSON'), ('1717 Main Stree...</td>\n",
              "    </tr>\n",
              "    <tr>\n",
              "      <th>765</th>\n",
              "      <td>&lt;685271.1075852754266.JavaMail.evans@thyme&gt;</td>\n",
              "      <td>We intend to start officializing a gas book fo...</td>\n",
              "      <td>[{'word': 'Kathy', 'tag': 'PERSON'}, {'word': ...</td>\n",
              "      <td>[('Kathy', 'PERSON'), ('McKay', 'PERSON'), ('J...</td>\n",
              "    </tr>\n",
              "    <tr>\n",
              "      <th>766</th>\n",
              "      <td>&lt;3384182.1075849303276.JavaMail.evans@thyme&gt;</td>\n",
              "      <td>We are very close to sending out a redline.? A...</td>\n",
              "      <td>[{'word': 'Linda Y. Sherif', 'tag': 'PERSON'},...</td>\n",
              "      <td>[('Linda Y. Sherif', 'PERSON'), ('120 Montgome...</td>\n",
              "    </tr>\n",
              "    <tr>\n",
              "      <th>767</th>\n",
              "      <td>&lt;2826937.1075862373832.JavaMail.evans@thyme&gt;</td>\n",
              "      <td>The attached press release is the latest draft...</td>\n",
              "      <td>[{'word': 'Enron', 'tag': 'PERSON'}, {'word': ...</td>\n",
              "      <td>[('Enron', 'PERSON'), ('Citigroup', 'PERSON'),...</td>\n",
              "    </tr>\n",
              "  </tbody>\n",
              "</table>\n",
              "<p>768 rows × 4 columns</p>\n",
              "</div>\n",
              "    <div class=\"colab-df-buttons\">\n",
              "\n",
              "  <div class=\"colab-df-container\">\n",
              "    <button class=\"colab-df-convert\" onclick=\"convertToInteractive('df-f2101ec1-fa74-4837-b396-b993ce55b7c7')\"\n",
              "            title=\"Convert this dataframe to an interactive table.\"\n",
              "            style=\"display:none;\">\n",
              "\n",
              "  <svg xmlns=\"http://www.w3.org/2000/svg\" height=\"24px\" viewBox=\"0 -960 960 960\">\n",
              "    <path d=\"M120-120v-720h720v720H120Zm60-500h600v-160H180v160Zm220 220h160v-160H400v160Zm0 220h160v-160H400v160ZM180-400h160v-160H180v160Zm440 0h160v-160H620v160ZM180-180h160v-160H180v160Zm440 0h160v-160H620v160Z\"/>\n",
              "  </svg>\n",
              "    </button>\n",
              "\n",
              "  <style>\n",
              "    .colab-df-container {\n",
              "      display:flex;\n",
              "      gap: 12px;\n",
              "    }\n",
              "\n",
              "    .colab-df-convert {\n",
              "      background-color: #E8F0FE;\n",
              "      border: none;\n",
              "      border-radius: 50%;\n",
              "      cursor: pointer;\n",
              "      display: none;\n",
              "      fill: #1967D2;\n",
              "      height: 32px;\n",
              "      padding: 0 0 0 0;\n",
              "      width: 32px;\n",
              "    }\n",
              "\n",
              "    .colab-df-convert:hover {\n",
              "      background-color: #E2EBFA;\n",
              "      box-shadow: 0px 1px 2px rgba(60, 64, 67, 0.3), 0px 1px 3px 1px rgba(60, 64, 67, 0.15);\n",
              "      fill: #174EA6;\n",
              "    }\n",
              "\n",
              "    .colab-df-buttons div {\n",
              "      margin-bottom: 4px;\n",
              "    }\n",
              "\n",
              "    [theme=dark] .colab-df-convert {\n",
              "      background-color: #3B4455;\n",
              "      fill: #D2E3FC;\n",
              "    }\n",
              "\n",
              "    [theme=dark] .colab-df-convert:hover {\n",
              "      background-color: #434B5C;\n",
              "      box-shadow: 0px 1px 3px 1px rgba(0, 0, 0, 0.15);\n",
              "      filter: drop-shadow(0px 1px 2px rgba(0, 0, 0, 0.3));\n",
              "      fill: #FFFFFF;\n",
              "    }\n",
              "  </style>\n",
              "\n",
              "    <script>\n",
              "      const buttonEl =\n",
              "        document.querySelector('#df-f2101ec1-fa74-4837-b396-b993ce55b7c7 button.colab-df-convert');\n",
              "      buttonEl.style.display =\n",
              "        google.colab.kernel.accessAllowed ? 'block' : 'none';\n",
              "\n",
              "      async function convertToInteractive(key) {\n",
              "        const element = document.querySelector('#df-f2101ec1-fa74-4837-b396-b993ce55b7c7');\n",
              "        const dataTable =\n",
              "          await google.colab.kernel.invokeFunction('convertToInteractive',\n",
              "                                                    [key], {});\n",
              "        if (!dataTable) return;\n",
              "\n",
              "        const docLinkHtml = 'Like what you see? Visit the ' +\n",
              "          '<a target=\"_blank\" href=https://colab.research.google.com/notebooks/data_table.ipynb>data table notebook</a>'\n",
              "          + ' to learn more about interactive tables.';\n",
              "        element.innerHTML = '';\n",
              "        dataTable['output_type'] = 'display_data';\n",
              "        await google.colab.output.renderOutput(dataTable, element);\n",
              "        const docLink = document.createElement('div');\n",
              "        docLink.innerHTML = docLinkHtml;\n",
              "        element.appendChild(docLink);\n",
              "      }\n",
              "    </script>\n",
              "  </div>\n",
              "\n",
              "\n",
              "<div id=\"df-3318d4c4-4282-4640-b331-a1381fb36022\">\n",
              "  <button class=\"colab-df-quickchart\" onclick=\"quickchart('df-3318d4c4-4282-4640-b331-a1381fb36022')\"\n",
              "            title=\"Suggest charts.\"\n",
              "            style=\"display:none;\">\n",
              "\n",
              "<svg xmlns=\"http://www.w3.org/2000/svg\" height=\"24px\"viewBox=\"0 0 24 24\"\n",
              "     width=\"24px\">\n",
              "    <g>\n",
              "        <path d=\"M19 3H5c-1.1 0-2 .9-2 2v14c0 1.1.9 2 2 2h14c1.1 0 2-.9 2-2V5c0-1.1-.9-2-2-2zM9 17H7v-7h2v7zm4 0h-2V7h2v10zm4 0h-2v-4h2v4z\"/>\n",
              "    </g>\n",
              "</svg>\n",
              "  </button>\n",
              "\n",
              "<style>\n",
              "  .colab-df-quickchart {\n",
              "      --bg-color: #E8F0FE;\n",
              "      --fill-color: #1967D2;\n",
              "      --hover-bg-color: #E2EBFA;\n",
              "      --hover-fill-color: #174EA6;\n",
              "      --disabled-fill-color: #AAA;\n",
              "      --disabled-bg-color: #DDD;\n",
              "  }\n",
              "\n",
              "  [theme=dark] .colab-df-quickchart {\n",
              "      --bg-color: #3B4455;\n",
              "      --fill-color: #D2E3FC;\n",
              "      --hover-bg-color: #434B5C;\n",
              "      --hover-fill-color: #FFFFFF;\n",
              "      --disabled-bg-color: #3B4455;\n",
              "      --disabled-fill-color: #666;\n",
              "  }\n",
              "\n",
              "  .colab-df-quickchart {\n",
              "    background-color: var(--bg-color);\n",
              "    border: none;\n",
              "    border-radius: 50%;\n",
              "    cursor: pointer;\n",
              "    display: none;\n",
              "    fill: var(--fill-color);\n",
              "    height: 32px;\n",
              "    padding: 0;\n",
              "    width: 32px;\n",
              "  }\n",
              "\n",
              "  .colab-df-quickchart:hover {\n",
              "    background-color: var(--hover-bg-color);\n",
              "    box-shadow: 0 1px 2px rgba(60, 64, 67, 0.3), 0 1px 3px 1px rgba(60, 64, 67, 0.15);\n",
              "    fill: var(--button-hover-fill-color);\n",
              "  }\n",
              "\n",
              "  .colab-df-quickchart-complete:disabled,\n",
              "  .colab-df-quickchart-complete:disabled:hover {\n",
              "    background-color: var(--disabled-bg-color);\n",
              "    fill: var(--disabled-fill-color);\n",
              "    box-shadow: none;\n",
              "  }\n",
              "\n",
              "  .colab-df-spinner {\n",
              "    border: 2px solid var(--fill-color);\n",
              "    border-color: transparent;\n",
              "    border-bottom-color: var(--fill-color);\n",
              "    animation:\n",
              "      spin 1s steps(1) infinite;\n",
              "  }\n",
              "\n",
              "  @keyframes spin {\n",
              "    0% {\n",
              "      border-color: transparent;\n",
              "      border-bottom-color: var(--fill-color);\n",
              "      border-left-color: var(--fill-color);\n",
              "    }\n",
              "    20% {\n",
              "      border-color: transparent;\n",
              "      border-left-color: var(--fill-color);\n",
              "      border-top-color: var(--fill-color);\n",
              "    }\n",
              "    30% {\n",
              "      border-color: transparent;\n",
              "      border-left-color: var(--fill-color);\n",
              "      border-top-color: var(--fill-color);\n",
              "      border-right-color: var(--fill-color);\n",
              "    }\n",
              "    40% {\n",
              "      border-color: transparent;\n",
              "      border-right-color: var(--fill-color);\n",
              "      border-top-color: var(--fill-color);\n",
              "    }\n",
              "    60% {\n",
              "      border-color: transparent;\n",
              "      border-right-color: var(--fill-color);\n",
              "    }\n",
              "    80% {\n",
              "      border-color: transparent;\n",
              "      border-right-color: var(--fill-color);\n",
              "      border-bottom-color: var(--fill-color);\n",
              "    }\n",
              "    90% {\n",
              "      border-color: transparent;\n",
              "      border-bottom-color: var(--fill-color);\n",
              "    }\n",
              "  }\n",
              "</style>\n",
              "\n",
              "  <script>\n",
              "    async function quickchart(key) {\n",
              "      const quickchartButtonEl =\n",
              "        document.querySelector('#' + key + ' button');\n",
              "      quickchartButtonEl.disabled = true;  // To prevent multiple clicks.\n",
              "      quickchartButtonEl.classList.add('colab-df-spinner');\n",
              "      try {\n",
              "        const charts = await google.colab.kernel.invokeFunction(\n",
              "            'suggestCharts', [key], {});\n",
              "      } catch (error) {\n",
              "        console.error('Error during call to suggestCharts:', error);\n",
              "      }\n",
              "      quickchartButtonEl.classList.remove('colab-df-spinner');\n",
              "      quickchartButtonEl.classList.add('colab-df-quickchart-complete');\n",
              "    }\n",
              "    (() => {\n",
              "      let quickchartButtonEl =\n",
              "        document.querySelector('#df-3318d4c4-4282-4640-b331-a1381fb36022 button');\n",
              "      quickchartButtonEl.style.display =\n",
              "        google.colab.kernel.accessAllowed ? 'block' : 'none';\n",
              "    })();\n",
              "  </script>\n",
              "</div>\n",
              "    </div>\n",
              "  </div>\n"
            ]
          },
          "metadata": {},
          "execution_count": 9
        }
      ]
    },
    {
      "cell_type": "code",
      "source": [
        "val = pd.read_csv('data/ner/val.csv')\n",
        "val"
      ],
      "metadata": {
        "colab": {
          "base_uri": "https://localhost:8080/",
          "height": 615
        },
        "id": "1qTxf4CSqM-s",
        "outputId": "ed5820a7-6425-44b9-8c09-9abed2e064e0"
      },
      "execution_count": 10,
      "outputs": [
        {
          "output_type": "execute_result",
          "data": {
            "text/plain": [
              "                                       message_id  \\\n",
              "0   <18050053.1075859962876.JavaMail.evans@thyme>   \n",
              "1   <31623156.1075845089208.JavaMail.evans@thyme>   \n",
              "2   <24135778.1075846138474.JavaMail.evans@thyme>   \n",
              "3    <9457688.1075861461211.JavaMail.evans@thyme>   \n",
              "4   <26484226.1075855280232.JavaMail.evans@thyme>   \n",
              "..                                            ...   \n",
              "91  <10689485.1075851883019.JavaMail.evans@thyme>   \n",
              "92  <12019737.1075861047362.JavaMail.evans@thyme>   \n",
              "93  <31192798.1075842099616.JavaMail.evans@thyme>   \n",
              "94  <28609896.1075861988637.JavaMail.evans@thyme>   \n",
              "95  <12936604.1075841300752.JavaMail.evans@thyme>   \n",
              "\n",
              "                                                 text  \\\n",
              "0   Al:\\n\\nPer my voice mail, I have left a messag...   \n",
              "1   To all,\\n\\nI visited with Kam earlier today to...   \n",
              "2   Beth, Mark - \\n\\nI think we are ready to move ...   \n",
              "3   Dear Jason Wolfe,\\n\\nWe are happy to inform yo...   \n",
              "4   Scheduling Issue:\\t\\n\\n\\t1024\\tMIRANT(Rala) to...   \n",
              "..                                                ...   \n",
              "91  ?\\n?\\n?\\n?\\n?\\n?\\n?\\n?\\nHi all, Merry Christma...   \n",
              "92  March 13, 2002\\nNotice No. NMS-22\\n\\n\\nNOTICE ...   \n",
              "93  Steve:\\nI am faxing you our remaining comments...   \n",
              "94  Mark,\\n\\nI spoke to the postmaster and she sta...   \n",
              "95  Start Date: 1/20/02; HourAhead hour: 3;  HourA...   \n",
              "\n",
              "                                             entities  \\\n",
              "0   [{'word': 'Al', 'tag': 'PERSON'}, {'word': 'Ma...   \n",
              "1   [{'word': 'Kam', 'tag': 'PERSON'}, {'word': 'P...   \n",
              "2   [{'word': 'Beth', 'tag': 'PERSON'}, {'word': '...   \n",
              "3   [{'word': 'Jason Wolfe', 'tag': 'PERSON'}, {'w...   \n",
              "4   [{'word': 'Rala', 'tag': 'PERSON'}, {'word': '...   \n",
              "..                                                ...   \n",
              "91  [{'word': 'Diane', 'tag': 'PERSON'}, {'word': ...   \n",
              "92  [{'word': 'Michael Cokeley', 'tag': 'PERSON'},...   \n",
              "93  [{'word': 'Steve', 'tag': 'PERSON'}, {'word': ...   \n",
              "94  [{'word': 'Mark', 'tag': 'PERSON'}, {'word': '...   \n",
              "95               [{'word': '1/20/02', 'tag': 'DATE'}]   \n",
              "\n",
              "                                           annotation  \n",
              "0   [('Al', 'PERSON'), ('Mark', 'PERSON'), ('Alfre...  \n",
              "1   [('Kam', 'PERSON'), ('Pete', 'PERSON'), ('Scot...  \n",
              "2   [('Beth', 'PERSON'), ('Mark', 'PERSON'), ('Ste...  \n",
              "3   [('Jason Wolfe', 'PERSON'), ('Sergei', 'PERSON...  \n",
              "4   [('Rala', 'PERSON'), ('Katherine', 'PERSON'), ...  \n",
              "..                                                ...  \n",
              "91  [('Diane', 'PERSON'), ('Christmas', 'DATE'), (...  \n",
              "92  [('Michael Cokeley', 'PERSON'), ('David Kimmel...  \n",
              "93  [('Steve', 'PERSON'), ('DB', 'PERSON'), ('Caro...  \n",
              "94       [('Mark', 'PERSON'), ('Veronica', 'PERSON')]  \n",
              "95                              [('1/20/02', 'DATE')]  \n",
              "\n",
              "[96 rows x 4 columns]"
            ],
            "text/html": [
              "\n",
              "  <div id=\"df-f24572cd-7394-4e11-88d9-b3261adc2e09\" class=\"colab-df-container\">\n",
              "    <div>\n",
              "<style scoped>\n",
              "    .dataframe tbody tr th:only-of-type {\n",
              "        vertical-align: middle;\n",
              "    }\n",
              "\n",
              "    .dataframe tbody tr th {\n",
              "        vertical-align: top;\n",
              "    }\n",
              "\n",
              "    .dataframe thead th {\n",
              "        text-align: right;\n",
              "    }\n",
              "</style>\n",
              "<table border=\"1\" class=\"dataframe\">\n",
              "  <thead>\n",
              "    <tr style=\"text-align: right;\">\n",
              "      <th></th>\n",
              "      <th>message_id</th>\n",
              "      <th>text</th>\n",
              "      <th>entities</th>\n",
              "      <th>annotation</th>\n",
              "    </tr>\n",
              "  </thead>\n",
              "  <tbody>\n",
              "    <tr>\n",
              "      <th>0</th>\n",
              "      <td>&lt;18050053.1075859962876.JavaMail.evans@thyme&gt;</td>\n",
              "      <td>Al:\\n\\nPer my voice mail, I have left a messag...</td>\n",
              "      <td>[{'word': 'Al', 'tag': 'PERSON'}, {'word': 'Ma...</td>\n",
              "      <td>[('Al', 'PERSON'), ('Mark', 'PERSON'), ('Alfre...</td>\n",
              "    </tr>\n",
              "    <tr>\n",
              "      <th>1</th>\n",
              "      <td>&lt;31623156.1075845089208.JavaMail.evans@thyme&gt;</td>\n",
              "      <td>To all,\\n\\nI visited with Kam earlier today to...</td>\n",
              "      <td>[{'word': 'Kam', 'tag': 'PERSON'}, {'word': 'P...</td>\n",
              "      <td>[('Kam', 'PERSON'), ('Pete', 'PERSON'), ('Scot...</td>\n",
              "    </tr>\n",
              "    <tr>\n",
              "      <th>2</th>\n",
              "      <td>&lt;24135778.1075846138474.JavaMail.evans@thyme&gt;</td>\n",
              "      <td>Beth, Mark - \\n\\nI think we are ready to move ...</td>\n",
              "      <td>[{'word': 'Beth', 'tag': 'PERSON'}, {'word': '...</td>\n",
              "      <td>[('Beth', 'PERSON'), ('Mark', 'PERSON'), ('Ste...</td>\n",
              "    </tr>\n",
              "    <tr>\n",
              "      <th>3</th>\n",
              "      <td>&lt;9457688.1075861461211.JavaMail.evans@thyme&gt;</td>\n",
              "      <td>Dear Jason Wolfe,\\n\\nWe are happy to inform yo...</td>\n",
              "      <td>[{'word': 'Jason Wolfe', 'tag': 'PERSON'}, {'w...</td>\n",
              "      <td>[('Jason Wolfe', 'PERSON'), ('Sergei', 'PERSON...</td>\n",
              "    </tr>\n",
              "    <tr>\n",
              "      <th>4</th>\n",
              "      <td>&lt;26484226.1075855280232.JavaMail.evans@thyme&gt;</td>\n",
              "      <td>Scheduling Issue:\\t\\n\\n\\t1024\\tMIRANT(Rala) to...</td>\n",
              "      <td>[{'word': 'Rala', 'tag': 'PERSON'}, {'word': '...</td>\n",
              "      <td>[('Rala', 'PERSON'), ('Katherine', 'PERSON'), ...</td>\n",
              "    </tr>\n",
              "    <tr>\n",
              "      <th>...</th>\n",
              "      <td>...</td>\n",
              "      <td>...</td>\n",
              "      <td>...</td>\n",
              "      <td>...</td>\n",
              "    </tr>\n",
              "    <tr>\n",
              "      <th>91</th>\n",
              "      <td>&lt;10689485.1075851883019.JavaMail.evans@thyme&gt;</td>\n",
              "      <td>?\\n?\\n?\\n?\\n?\\n?\\n?\\n?\\nHi all, Merry Christma...</td>\n",
              "      <td>[{'word': 'Diane', 'tag': 'PERSON'}, {'word': ...</td>\n",
              "      <td>[('Diane', 'PERSON'), ('Christmas', 'DATE'), (...</td>\n",
              "    </tr>\n",
              "    <tr>\n",
              "      <th>92</th>\n",
              "      <td>&lt;12019737.1075861047362.JavaMail.evans@thyme&gt;</td>\n",
              "      <td>March 13, 2002\\nNotice No. NMS-22\\n\\n\\nNOTICE ...</td>\n",
              "      <td>[{'word': 'Michael Cokeley', 'tag': 'PERSON'},...</td>\n",
              "      <td>[('Michael Cokeley', 'PERSON'), ('David Kimmel...</td>\n",
              "    </tr>\n",
              "    <tr>\n",
              "      <th>93</th>\n",
              "      <td>&lt;31192798.1075842099616.JavaMail.evans@thyme&gt;</td>\n",
              "      <td>Steve:\\nI am faxing you our remaining comments...</td>\n",
              "      <td>[{'word': 'Steve', 'tag': 'PERSON'}, {'word': ...</td>\n",
              "      <td>[('Steve', 'PERSON'), ('DB', 'PERSON'), ('Caro...</td>\n",
              "    </tr>\n",
              "    <tr>\n",
              "      <th>94</th>\n",
              "      <td>&lt;28609896.1075861988637.JavaMail.evans@thyme&gt;</td>\n",
              "      <td>Mark,\\n\\nI spoke to the postmaster and she sta...</td>\n",
              "      <td>[{'word': 'Mark', 'tag': 'PERSON'}, {'word': '...</td>\n",
              "      <td>[('Mark', 'PERSON'), ('Veronica', 'PERSON')]</td>\n",
              "    </tr>\n",
              "    <tr>\n",
              "      <th>95</th>\n",
              "      <td>&lt;12936604.1075841300752.JavaMail.evans@thyme&gt;</td>\n",
              "      <td>Start Date: 1/20/02; HourAhead hour: 3;  HourA...</td>\n",
              "      <td>[{'word': '1/20/02', 'tag': 'DATE'}]</td>\n",
              "      <td>[('1/20/02', 'DATE')]</td>\n",
              "    </tr>\n",
              "  </tbody>\n",
              "</table>\n",
              "<p>96 rows × 4 columns</p>\n",
              "</div>\n",
              "    <div class=\"colab-df-buttons\">\n",
              "\n",
              "  <div class=\"colab-df-container\">\n",
              "    <button class=\"colab-df-convert\" onclick=\"convertToInteractive('df-f24572cd-7394-4e11-88d9-b3261adc2e09')\"\n",
              "            title=\"Convert this dataframe to an interactive table.\"\n",
              "            style=\"display:none;\">\n",
              "\n",
              "  <svg xmlns=\"http://www.w3.org/2000/svg\" height=\"24px\" viewBox=\"0 -960 960 960\">\n",
              "    <path d=\"M120-120v-720h720v720H120Zm60-500h600v-160H180v160Zm220 220h160v-160H400v160Zm0 220h160v-160H400v160ZM180-400h160v-160H180v160Zm440 0h160v-160H620v160ZM180-180h160v-160H180v160Zm440 0h160v-160H620v160Z\"/>\n",
              "  </svg>\n",
              "    </button>\n",
              "\n",
              "  <style>\n",
              "    .colab-df-container {\n",
              "      display:flex;\n",
              "      gap: 12px;\n",
              "    }\n",
              "\n",
              "    .colab-df-convert {\n",
              "      background-color: #E8F0FE;\n",
              "      border: none;\n",
              "      border-radius: 50%;\n",
              "      cursor: pointer;\n",
              "      display: none;\n",
              "      fill: #1967D2;\n",
              "      height: 32px;\n",
              "      padding: 0 0 0 0;\n",
              "      width: 32px;\n",
              "    }\n",
              "\n",
              "    .colab-df-convert:hover {\n",
              "      background-color: #E2EBFA;\n",
              "      box-shadow: 0px 1px 2px rgba(60, 64, 67, 0.3), 0px 1px 3px 1px rgba(60, 64, 67, 0.15);\n",
              "      fill: #174EA6;\n",
              "    }\n",
              "\n",
              "    .colab-df-buttons div {\n",
              "      margin-bottom: 4px;\n",
              "    }\n",
              "\n",
              "    [theme=dark] .colab-df-convert {\n",
              "      background-color: #3B4455;\n",
              "      fill: #D2E3FC;\n",
              "    }\n",
              "\n",
              "    [theme=dark] .colab-df-convert:hover {\n",
              "      background-color: #434B5C;\n",
              "      box-shadow: 0px 1px 3px 1px rgba(0, 0, 0, 0.15);\n",
              "      filter: drop-shadow(0px 1px 2px rgba(0, 0, 0, 0.3));\n",
              "      fill: #FFFFFF;\n",
              "    }\n",
              "  </style>\n",
              "\n",
              "    <script>\n",
              "      const buttonEl =\n",
              "        document.querySelector('#df-f24572cd-7394-4e11-88d9-b3261adc2e09 button.colab-df-convert');\n",
              "      buttonEl.style.display =\n",
              "        google.colab.kernel.accessAllowed ? 'block' : 'none';\n",
              "\n",
              "      async function convertToInteractive(key) {\n",
              "        const element = document.querySelector('#df-f24572cd-7394-4e11-88d9-b3261adc2e09');\n",
              "        const dataTable =\n",
              "          await google.colab.kernel.invokeFunction('convertToInteractive',\n",
              "                                                    [key], {});\n",
              "        if (!dataTable) return;\n",
              "\n",
              "        const docLinkHtml = 'Like what you see? Visit the ' +\n",
              "          '<a target=\"_blank\" href=https://colab.research.google.com/notebooks/data_table.ipynb>data table notebook</a>'\n",
              "          + ' to learn more about interactive tables.';\n",
              "        element.innerHTML = '';\n",
              "        dataTable['output_type'] = 'display_data';\n",
              "        await google.colab.output.renderOutput(dataTable, element);\n",
              "        const docLink = document.createElement('div');\n",
              "        docLink.innerHTML = docLinkHtml;\n",
              "        element.appendChild(docLink);\n",
              "      }\n",
              "    </script>\n",
              "  </div>\n",
              "\n",
              "\n",
              "<div id=\"df-2fa2a836-2ffa-4fcb-82cc-a2c4ca0483a1\">\n",
              "  <button class=\"colab-df-quickchart\" onclick=\"quickchart('df-2fa2a836-2ffa-4fcb-82cc-a2c4ca0483a1')\"\n",
              "            title=\"Suggest charts.\"\n",
              "            style=\"display:none;\">\n",
              "\n",
              "<svg xmlns=\"http://www.w3.org/2000/svg\" height=\"24px\"viewBox=\"0 0 24 24\"\n",
              "     width=\"24px\">\n",
              "    <g>\n",
              "        <path d=\"M19 3H5c-1.1 0-2 .9-2 2v14c0 1.1.9 2 2 2h14c1.1 0 2-.9 2-2V5c0-1.1-.9-2-2-2zM9 17H7v-7h2v7zm4 0h-2V7h2v10zm4 0h-2v-4h2v4z\"/>\n",
              "    </g>\n",
              "</svg>\n",
              "  </button>\n",
              "\n",
              "<style>\n",
              "  .colab-df-quickchart {\n",
              "      --bg-color: #E8F0FE;\n",
              "      --fill-color: #1967D2;\n",
              "      --hover-bg-color: #E2EBFA;\n",
              "      --hover-fill-color: #174EA6;\n",
              "      --disabled-fill-color: #AAA;\n",
              "      --disabled-bg-color: #DDD;\n",
              "  }\n",
              "\n",
              "  [theme=dark] .colab-df-quickchart {\n",
              "      --bg-color: #3B4455;\n",
              "      --fill-color: #D2E3FC;\n",
              "      --hover-bg-color: #434B5C;\n",
              "      --hover-fill-color: #FFFFFF;\n",
              "      --disabled-bg-color: #3B4455;\n",
              "      --disabled-fill-color: #666;\n",
              "  }\n",
              "\n",
              "  .colab-df-quickchart {\n",
              "    background-color: var(--bg-color);\n",
              "    border: none;\n",
              "    border-radius: 50%;\n",
              "    cursor: pointer;\n",
              "    display: none;\n",
              "    fill: var(--fill-color);\n",
              "    height: 32px;\n",
              "    padding: 0;\n",
              "    width: 32px;\n",
              "  }\n",
              "\n",
              "  .colab-df-quickchart:hover {\n",
              "    background-color: var(--hover-bg-color);\n",
              "    box-shadow: 0 1px 2px rgba(60, 64, 67, 0.3), 0 1px 3px 1px rgba(60, 64, 67, 0.15);\n",
              "    fill: var(--button-hover-fill-color);\n",
              "  }\n",
              "\n",
              "  .colab-df-quickchart-complete:disabled,\n",
              "  .colab-df-quickchart-complete:disabled:hover {\n",
              "    background-color: var(--disabled-bg-color);\n",
              "    fill: var(--disabled-fill-color);\n",
              "    box-shadow: none;\n",
              "  }\n",
              "\n",
              "  .colab-df-spinner {\n",
              "    border: 2px solid var(--fill-color);\n",
              "    border-color: transparent;\n",
              "    border-bottom-color: var(--fill-color);\n",
              "    animation:\n",
              "      spin 1s steps(1) infinite;\n",
              "  }\n",
              "\n",
              "  @keyframes spin {\n",
              "    0% {\n",
              "      border-color: transparent;\n",
              "      border-bottom-color: var(--fill-color);\n",
              "      border-left-color: var(--fill-color);\n",
              "    }\n",
              "    20% {\n",
              "      border-color: transparent;\n",
              "      border-left-color: var(--fill-color);\n",
              "      border-top-color: var(--fill-color);\n",
              "    }\n",
              "    30% {\n",
              "      border-color: transparent;\n",
              "      border-left-color: var(--fill-color);\n",
              "      border-top-color: var(--fill-color);\n",
              "      border-right-color: var(--fill-color);\n",
              "    }\n",
              "    40% {\n",
              "      border-color: transparent;\n",
              "      border-right-color: var(--fill-color);\n",
              "      border-top-color: var(--fill-color);\n",
              "    }\n",
              "    60% {\n",
              "      border-color: transparent;\n",
              "      border-right-color: var(--fill-color);\n",
              "    }\n",
              "    80% {\n",
              "      border-color: transparent;\n",
              "      border-right-color: var(--fill-color);\n",
              "      border-bottom-color: var(--fill-color);\n",
              "    }\n",
              "    90% {\n",
              "      border-color: transparent;\n",
              "      border-bottom-color: var(--fill-color);\n",
              "    }\n",
              "  }\n",
              "</style>\n",
              "\n",
              "  <script>\n",
              "    async function quickchart(key) {\n",
              "      const quickchartButtonEl =\n",
              "        document.querySelector('#' + key + ' button');\n",
              "      quickchartButtonEl.disabled = true;  // To prevent multiple clicks.\n",
              "      quickchartButtonEl.classList.add('colab-df-spinner');\n",
              "      try {\n",
              "        const charts = await google.colab.kernel.invokeFunction(\n",
              "            'suggestCharts', [key], {});\n",
              "      } catch (error) {\n",
              "        console.error('Error during call to suggestCharts:', error);\n",
              "      }\n",
              "      quickchartButtonEl.classList.remove('colab-df-spinner');\n",
              "      quickchartButtonEl.classList.add('colab-df-quickchart-complete');\n",
              "    }\n",
              "    (() => {\n",
              "      let quickchartButtonEl =\n",
              "        document.querySelector('#df-2fa2a836-2ffa-4fcb-82cc-a2c4ca0483a1 button');\n",
              "      quickchartButtonEl.style.display =\n",
              "        google.colab.kernel.accessAllowed ? 'block' : 'none';\n",
              "    })();\n",
              "  </script>\n",
              "</div>\n",
              "    </div>\n",
              "  </div>\n"
            ]
          },
          "metadata": {},
          "execution_count": 10
        }
      ]
    },
    {
      "cell_type": "code",
      "source": [
        "test = pd.read_csv('data/ner/test.csv')\n",
        "test"
      ],
      "metadata": {
        "colab": {
          "base_uri": "https://localhost:8080/",
          "height": 597
        },
        "id": "oQL80BvltJT5",
        "outputId": "974169b2-07ca-4da3-ced2-d86be5091a64"
      },
      "execution_count": 11,
      "outputs": [
        {
          "output_type": "execute_result",
          "data": {
            "text/plain": [
              "                                       message_id  \\\n",
              "0   <15886210.1075854965508.JavaMail.evans@thyme>   \n",
              "1   <17217905.1075853978006.JavaMail.evans@thyme>   \n",
              "2   <28372483.1075843343800.JavaMail.evans@thyme>   \n",
              "3    <7553175.1075863444700.JavaMail.evans@thyme>   \n",
              "4   <16687289.1075862330552.JavaMail.evans@thyme>   \n",
              "..                                            ...   \n",
              "91  <17780105.1075840540168.JavaMail.evans@thyme>   \n",
              "92  <16492427.1075847631885.JavaMail.evans@thyme>   \n",
              "93  <11901989.1075844026014.JavaMail.evans@thyme>   \n",
              "94  <17922592.1075839996237.JavaMail.evans@thyme>   \n",
              "95  <26340375.1075840808386.JavaMail.evans@thyme>   \n",
              "\n",
              "                                                 text  \\\n",
              "0   Allright fellas here's the gameplan . . . I'll...   \n",
              "1   Tina,\\nKoch never returned my calls. Based on ...   \n",
              "2   I wanted to follow-up with everyone following ...   \n",
              "3   Vince,\\n\\n  I agree with you that it's a lesso...   \n",
              "4   I trust everything is going well.  Please let ...   \n",
              "..                                                ...   \n",
              "91  Heidi,\\n\\nI have no way of being able to discu...   \n",
              "92  Teh rest of the parts for Phil's PC arrived to...   \n",
              "93  Hey guys thanks a million for supporting the g...   \n",
              "94  Keoni,\\nI am not concerned with the improperly...   \n",
              "95  I will be circulating in the next few minutes ...   \n",
              "\n",
              "                                             entities  \\\n",
              "0   [{'word': 'Kevin A. Boone', 'tag': 'PERSON'}, ...   \n",
              "1   [{'word': 'Tina', 'tag': 'PERSON'}, {'word': '...   \n",
              "2   [{'word': 'Steve M', 'tag': 'PERSON'}, {'word'...   \n",
              "3   [{'word': 'Vince', 'tag': 'PERSON'}, {'word': ...   \n",
              "4   [{'word': 'next Board meeting', 'tag': 'DATE'}...   \n",
              "..                                                ...   \n",
              "91  [{'word': 'Heidi', 'tag': 'PERSON'}, {'word': ...   \n",
              "92  [{'word': 'Phil', 'tag': 'PERSON'}, {'word': '...   \n",
              "93  [{'word': 'Next Wednesday August 16th', 'tag':...   \n",
              "94  [{'word': 'Keoni', 'tag': 'PERSON'}, {'word': ...   \n",
              "95  [{'word': 'Cris Sherman', 'tag': 'PERSON'}, {'...   \n",
              "\n",
              "                                           annotation  \n",
              "0   [('Kevin A. Boone', 'PERSON'), ('Matt', 'PERSO...  \n",
              "1   [('Tina', 'PERSON'), ('Koch', 'PERSON'), ('Cyn...  \n",
              "2   [('Steve M', 'PERSON'), ('Janine', 'PERSON'), ...  \n",
              "3   [('Vince', 'PERSON'), ('Frank', 'PERSON'), ('S...  \n",
              "4   [('next Board meeting', 'DATE'), ('2001', 'DAT...  \n",
              "..                                                ...  \n",
              "91  [('Heidi', 'PERSON'), ('Randall Chapman', 'PER...  \n",
              "92  [('Phil', 'PERSON'), ('Kathy', 'PERSON'), ('Al...  \n",
              "93  [('Next Wednesday August 16th', 'DATE'), ('41s...  \n",
              "94  [('Keoni', 'PERSON'), ('Bill', 'PERSON'), ('CA...  \n",
              "95  [('Cris Sherman', 'PERSON'), ('Theresa Vos', '...  \n",
              "\n",
              "[96 rows x 4 columns]"
            ],
            "text/html": [
              "\n",
              "  <div id=\"df-67ac907f-79a0-4965-9e43-2fef63534afe\" class=\"colab-df-container\">\n",
              "    <div>\n",
              "<style scoped>\n",
              "    .dataframe tbody tr th:only-of-type {\n",
              "        vertical-align: middle;\n",
              "    }\n",
              "\n",
              "    .dataframe tbody tr th {\n",
              "        vertical-align: top;\n",
              "    }\n",
              "\n",
              "    .dataframe thead th {\n",
              "        text-align: right;\n",
              "    }\n",
              "</style>\n",
              "<table border=\"1\" class=\"dataframe\">\n",
              "  <thead>\n",
              "    <tr style=\"text-align: right;\">\n",
              "      <th></th>\n",
              "      <th>message_id</th>\n",
              "      <th>text</th>\n",
              "      <th>entities</th>\n",
              "      <th>annotation</th>\n",
              "    </tr>\n",
              "  </thead>\n",
              "  <tbody>\n",
              "    <tr>\n",
              "      <th>0</th>\n",
              "      <td>&lt;15886210.1075854965508.JavaMail.evans@thyme&gt;</td>\n",
              "      <td>Allright fellas here's the gameplan . . . I'll...</td>\n",
              "      <td>[{'word': 'Kevin A. Boone', 'tag': 'PERSON'}, ...</td>\n",
              "      <td>[('Kevin A. Boone', 'PERSON'), ('Matt', 'PERSO...</td>\n",
              "    </tr>\n",
              "    <tr>\n",
              "      <th>1</th>\n",
              "      <td>&lt;17217905.1075853978006.JavaMail.evans@thyme&gt;</td>\n",
              "      <td>Tina,\\nKoch never returned my calls. Based on ...</td>\n",
              "      <td>[{'word': 'Tina', 'tag': 'PERSON'}, {'word': '...</td>\n",
              "      <td>[('Tina', 'PERSON'), ('Koch', 'PERSON'), ('Cyn...</td>\n",
              "    </tr>\n",
              "    <tr>\n",
              "      <th>2</th>\n",
              "      <td>&lt;28372483.1075843343800.JavaMail.evans@thyme&gt;</td>\n",
              "      <td>I wanted to follow-up with everyone following ...</td>\n",
              "      <td>[{'word': 'Steve M', 'tag': 'PERSON'}, {'word'...</td>\n",
              "      <td>[('Steve M', 'PERSON'), ('Janine', 'PERSON'), ...</td>\n",
              "    </tr>\n",
              "    <tr>\n",
              "      <th>3</th>\n",
              "      <td>&lt;7553175.1075863444700.JavaMail.evans@thyme&gt;</td>\n",
              "      <td>Vince,\\n\\n  I agree with you that it's a lesso...</td>\n",
              "      <td>[{'word': 'Vince', 'tag': 'PERSON'}, {'word': ...</td>\n",
              "      <td>[('Vince', 'PERSON'), ('Frank', 'PERSON'), ('S...</td>\n",
              "    </tr>\n",
              "    <tr>\n",
              "      <th>4</th>\n",
              "      <td>&lt;16687289.1075862330552.JavaMail.evans@thyme&gt;</td>\n",
              "      <td>I trust everything is going well.  Please let ...</td>\n",
              "      <td>[{'word': 'next Board meeting', 'tag': 'DATE'}...</td>\n",
              "      <td>[('next Board meeting', 'DATE'), ('2001', 'DAT...</td>\n",
              "    </tr>\n",
              "    <tr>\n",
              "      <th>...</th>\n",
              "      <td>...</td>\n",
              "      <td>...</td>\n",
              "      <td>...</td>\n",
              "      <td>...</td>\n",
              "    </tr>\n",
              "    <tr>\n",
              "      <th>91</th>\n",
              "      <td>&lt;17780105.1075840540168.JavaMail.evans@thyme&gt;</td>\n",
              "      <td>Heidi,\\n\\nI have no way of being able to discu...</td>\n",
              "      <td>[{'word': 'Heidi', 'tag': 'PERSON'}, {'word': ...</td>\n",
              "      <td>[('Heidi', 'PERSON'), ('Randall Chapman', 'PER...</td>\n",
              "    </tr>\n",
              "    <tr>\n",
              "      <th>92</th>\n",
              "      <td>&lt;16492427.1075847631885.JavaMail.evans@thyme&gt;</td>\n",
              "      <td>Teh rest of the parts for Phil's PC arrived to...</td>\n",
              "      <td>[{'word': 'Phil', 'tag': 'PERSON'}, {'word': '...</td>\n",
              "      <td>[('Phil', 'PERSON'), ('Kathy', 'PERSON'), ('Al...</td>\n",
              "    </tr>\n",
              "    <tr>\n",
              "      <th>93</th>\n",
              "      <td>&lt;11901989.1075844026014.JavaMail.evans@thyme&gt;</td>\n",
              "      <td>Hey guys thanks a million for supporting the g...</td>\n",
              "      <td>[{'word': 'Next Wednesday August 16th', 'tag':...</td>\n",
              "      <td>[('Next Wednesday August 16th', 'DATE'), ('41s...</td>\n",
              "    </tr>\n",
              "    <tr>\n",
              "      <th>94</th>\n",
              "      <td>&lt;17922592.1075839996237.JavaMail.evans@thyme&gt;</td>\n",
              "      <td>Keoni,\\nI am not concerned with the improperly...</td>\n",
              "      <td>[{'word': 'Keoni', 'tag': 'PERSON'}, {'word': ...</td>\n",
              "      <td>[('Keoni', 'PERSON'), ('Bill', 'PERSON'), ('CA...</td>\n",
              "    </tr>\n",
              "    <tr>\n",
              "      <th>95</th>\n",
              "      <td>&lt;26340375.1075840808386.JavaMail.evans@thyme&gt;</td>\n",
              "      <td>I will be circulating in the next few minutes ...</td>\n",
              "      <td>[{'word': 'Cris Sherman', 'tag': 'PERSON'}, {'...</td>\n",
              "      <td>[('Cris Sherman', 'PERSON'), ('Theresa Vos', '...</td>\n",
              "    </tr>\n",
              "  </tbody>\n",
              "</table>\n",
              "<p>96 rows × 4 columns</p>\n",
              "</div>\n",
              "    <div class=\"colab-df-buttons\">\n",
              "\n",
              "  <div class=\"colab-df-container\">\n",
              "    <button class=\"colab-df-convert\" onclick=\"convertToInteractive('df-67ac907f-79a0-4965-9e43-2fef63534afe')\"\n",
              "            title=\"Convert this dataframe to an interactive table.\"\n",
              "            style=\"display:none;\">\n",
              "\n",
              "  <svg xmlns=\"http://www.w3.org/2000/svg\" height=\"24px\" viewBox=\"0 -960 960 960\">\n",
              "    <path d=\"M120-120v-720h720v720H120Zm60-500h600v-160H180v160Zm220 220h160v-160H400v160Zm0 220h160v-160H400v160ZM180-400h160v-160H180v160Zm440 0h160v-160H620v160ZM180-180h160v-160H180v160Zm440 0h160v-160H620v160Z\"/>\n",
              "  </svg>\n",
              "    </button>\n",
              "\n",
              "  <style>\n",
              "    .colab-df-container {\n",
              "      display:flex;\n",
              "      gap: 12px;\n",
              "    }\n",
              "\n",
              "    .colab-df-convert {\n",
              "      background-color: #E8F0FE;\n",
              "      border: none;\n",
              "      border-radius: 50%;\n",
              "      cursor: pointer;\n",
              "      display: none;\n",
              "      fill: #1967D2;\n",
              "      height: 32px;\n",
              "      padding: 0 0 0 0;\n",
              "      width: 32px;\n",
              "    }\n",
              "\n",
              "    .colab-df-convert:hover {\n",
              "      background-color: #E2EBFA;\n",
              "      box-shadow: 0px 1px 2px rgba(60, 64, 67, 0.3), 0px 1px 3px 1px rgba(60, 64, 67, 0.15);\n",
              "      fill: #174EA6;\n",
              "    }\n",
              "\n",
              "    .colab-df-buttons div {\n",
              "      margin-bottom: 4px;\n",
              "    }\n",
              "\n",
              "    [theme=dark] .colab-df-convert {\n",
              "      background-color: #3B4455;\n",
              "      fill: #D2E3FC;\n",
              "    }\n",
              "\n",
              "    [theme=dark] .colab-df-convert:hover {\n",
              "      background-color: #434B5C;\n",
              "      box-shadow: 0px 1px 3px 1px rgba(0, 0, 0, 0.15);\n",
              "      filter: drop-shadow(0px 1px 2px rgba(0, 0, 0, 0.3));\n",
              "      fill: #FFFFFF;\n",
              "    }\n",
              "  </style>\n",
              "\n",
              "    <script>\n",
              "      const buttonEl =\n",
              "        document.querySelector('#df-67ac907f-79a0-4965-9e43-2fef63534afe button.colab-df-convert');\n",
              "      buttonEl.style.display =\n",
              "        google.colab.kernel.accessAllowed ? 'block' : 'none';\n",
              "\n",
              "      async function convertToInteractive(key) {\n",
              "        const element = document.querySelector('#df-67ac907f-79a0-4965-9e43-2fef63534afe');\n",
              "        const dataTable =\n",
              "          await google.colab.kernel.invokeFunction('convertToInteractive',\n",
              "                                                    [key], {});\n",
              "        if (!dataTable) return;\n",
              "\n",
              "        const docLinkHtml = 'Like what you see? Visit the ' +\n",
              "          '<a target=\"_blank\" href=https://colab.research.google.com/notebooks/data_table.ipynb>data table notebook</a>'\n",
              "          + ' to learn more about interactive tables.';\n",
              "        element.innerHTML = '';\n",
              "        dataTable['output_type'] = 'display_data';\n",
              "        await google.colab.output.renderOutput(dataTable, element);\n",
              "        const docLink = document.createElement('div');\n",
              "        docLink.innerHTML = docLinkHtml;\n",
              "        element.appendChild(docLink);\n",
              "      }\n",
              "    </script>\n",
              "  </div>\n",
              "\n",
              "\n",
              "<div id=\"df-0172b59b-c41f-4701-865a-8a432b0ba3bc\">\n",
              "  <button class=\"colab-df-quickchart\" onclick=\"quickchart('df-0172b59b-c41f-4701-865a-8a432b0ba3bc')\"\n",
              "            title=\"Suggest charts.\"\n",
              "            style=\"display:none;\">\n",
              "\n",
              "<svg xmlns=\"http://www.w3.org/2000/svg\" height=\"24px\"viewBox=\"0 0 24 24\"\n",
              "     width=\"24px\">\n",
              "    <g>\n",
              "        <path d=\"M19 3H5c-1.1 0-2 .9-2 2v14c0 1.1.9 2 2 2h14c1.1 0 2-.9 2-2V5c0-1.1-.9-2-2-2zM9 17H7v-7h2v7zm4 0h-2V7h2v10zm4 0h-2v-4h2v4z\"/>\n",
              "    </g>\n",
              "</svg>\n",
              "  </button>\n",
              "\n",
              "<style>\n",
              "  .colab-df-quickchart {\n",
              "      --bg-color: #E8F0FE;\n",
              "      --fill-color: #1967D2;\n",
              "      --hover-bg-color: #E2EBFA;\n",
              "      --hover-fill-color: #174EA6;\n",
              "      --disabled-fill-color: #AAA;\n",
              "      --disabled-bg-color: #DDD;\n",
              "  }\n",
              "\n",
              "  [theme=dark] .colab-df-quickchart {\n",
              "      --bg-color: #3B4455;\n",
              "      --fill-color: #D2E3FC;\n",
              "      --hover-bg-color: #434B5C;\n",
              "      --hover-fill-color: #FFFFFF;\n",
              "      --disabled-bg-color: #3B4455;\n",
              "      --disabled-fill-color: #666;\n",
              "  }\n",
              "\n",
              "  .colab-df-quickchart {\n",
              "    background-color: var(--bg-color);\n",
              "    border: none;\n",
              "    border-radius: 50%;\n",
              "    cursor: pointer;\n",
              "    display: none;\n",
              "    fill: var(--fill-color);\n",
              "    height: 32px;\n",
              "    padding: 0;\n",
              "    width: 32px;\n",
              "  }\n",
              "\n",
              "  .colab-df-quickchart:hover {\n",
              "    background-color: var(--hover-bg-color);\n",
              "    box-shadow: 0 1px 2px rgba(60, 64, 67, 0.3), 0 1px 3px 1px rgba(60, 64, 67, 0.15);\n",
              "    fill: var(--button-hover-fill-color);\n",
              "  }\n",
              "\n",
              "  .colab-df-quickchart-complete:disabled,\n",
              "  .colab-df-quickchart-complete:disabled:hover {\n",
              "    background-color: var(--disabled-bg-color);\n",
              "    fill: var(--disabled-fill-color);\n",
              "    box-shadow: none;\n",
              "  }\n",
              "\n",
              "  .colab-df-spinner {\n",
              "    border: 2px solid var(--fill-color);\n",
              "    border-color: transparent;\n",
              "    border-bottom-color: var(--fill-color);\n",
              "    animation:\n",
              "      spin 1s steps(1) infinite;\n",
              "  }\n",
              "\n",
              "  @keyframes spin {\n",
              "    0% {\n",
              "      border-color: transparent;\n",
              "      border-bottom-color: var(--fill-color);\n",
              "      border-left-color: var(--fill-color);\n",
              "    }\n",
              "    20% {\n",
              "      border-color: transparent;\n",
              "      border-left-color: var(--fill-color);\n",
              "      border-top-color: var(--fill-color);\n",
              "    }\n",
              "    30% {\n",
              "      border-color: transparent;\n",
              "      border-left-color: var(--fill-color);\n",
              "      border-top-color: var(--fill-color);\n",
              "      border-right-color: var(--fill-color);\n",
              "    }\n",
              "    40% {\n",
              "      border-color: transparent;\n",
              "      border-right-color: var(--fill-color);\n",
              "      border-top-color: var(--fill-color);\n",
              "    }\n",
              "    60% {\n",
              "      border-color: transparent;\n",
              "      border-right-color: var(--fill-color);\n",
              "    }\n",
              "    80% {\n",
              "      border-color: transparent;\n",
              "      border-right-color: var(--fill-color);\n",
              "      border-bottom-color: var(--fill-color);\n",
              "    }\n",
              "    90% {\n",
              "      border-color: transparent;\n",
              "      border-bottom-color: var(--fill-color);\n",
              "    }\n",
              "  }\n",
              "</style>\n",
              "\n",
              "  <script>\n",
              "    async function quickchart(key) {\n",
              "      const quickchartButtonEl =\n",
              "        document.querySelector('#' + key + ' button');\n",
              "      quickchartButtonEl.disabled = true;  // To prevent multiple clicks.\n",
              "      quickchartButtonEl.classList.add('colab-df-spinner');\n",
              "      try {\n",
              "        const charts = await google.colab.kernel.invokeFunction(\n",
              "            'suggestCharts', [key], {});\n",
              "      } catch (error) {\n",
              "        console.error('Error during call to suggestCharts:', error);\n",
              "      }\n",
              "      quickchartButtonEl.classList.remove('colab-df-spinner');\n",
              "      quickchartButtonEl.classList.add('colab-df-quickchart-complete');\n",
              "    }\n",
              "    (() => {\n",
              "      let quickchartButtonEl =\n",
              "        document.querySelector('#df-0172b59b-c41f-4701-865a-8a432b0ba3bc button');\n",
              "      quickchartButtonEl.style.display =\n",
              "        google.colab.kernel.accessAllowed ? 'block' : 'none';\n",
              "    })();\n",
              "  </script>\n",
              "</div>\n",
              "    </div>\n",
              "  </div>\n"
            ]
          },
          "metadata": {},
          "execution_count": 11
        }
      ]
    },
    {
      "cell_type": "code",
      "source": [
        "from tqdm import tqdm\n",
        "tqdm.pandas()\n",
        "import ast\n",
        "\n",
        "# Convert list as string to list\n",
        "train['annotation'] = train['annotation'].progress_apply(lambda x: ast.literal_eval(x))\n",
        "val['annotation'] = val['annotation'].progress_apply(lambda x: ast.literal_eval(x))\n",
        "test['annotation'] = test['annotation'].progress_apply(lambda x: ast.literal_eval(x))"
      ],
      "metadata": {
        "colab": {
          "base_uri": "https://localhost:8080/"
        },
        "id": "aY8NuAAnvC_J",
        "outputId": "bc372a0c-077f-4eaf-8721-5b31aa1ac46b"
      },
      "execution_count": 12,
      "outputs": [
        {
          "output_type": "stream",
          "name": "stderr",
          "text": [
            "100%|██████████| 768/768 [00:00<00:00, 14793.84it/s]\n",
            "100%|██████████| 96/96 [00:00<00:00, 9388.92it/s]\n",
            "100%|██████████| 96/96 [00:00<00:00, 3612.11it/s]\n"
          ]
        }
      ]
    },
    {
      "cell_type": "code",
      "source": [
        "from difflib import SequenceMatcher\n",
        "import re\n",
        "import pickle\n",
        "\n",
        "def matcher(string, pattern):\n",
        "    '''\n",
        "    Return the start and end index of any pattern present in the text.\n",
        "    '''\n",
        "    match_list = []\n",
        "    pattern = pattern.strip()\n",
        "    seqMatch = SequenceMatcher(None, string, pattern, autojunk=False)\n",
        "    match = seqMatch.find_longest_match(0, len(string), 0, len(pattern))\n",
        "    if (match.size == len(pattern)):\n",
        "        start = match.a\n",
        "        end = match.a + match.size\n",
        "        match_tup = (start, end)\n",
        "        string = string.replace(pattern, \"X\" * len(pattern), 1)\n",
        "        match_list.append(match_tup)\n",
        "\n",
        "    return match_list, string\n",
        "\n",
        "def mark_sentence(s, match_list):\n",
        "    '''\n",
        "    Marks all the entities in the sentence as per the BIO scheme.\n",
        "    '''\n",
        "    word_dict = {}\n",
        "    for word in s.split():\n",
        "        word_dict[word] = 'O'\n",
        "\n",
        "    for start, end, e_type in match_list:\n",
        "        temp_str = s[start:end]\n",
        "        tmp_list = temp_str.split()\n",
        "        if len(tmp_list) > 1:\n",
        "            word_dict[tmp_list[0]] = 'B-' + e_type\n",
        "            for w in tmp_list[1:]:\n",
        "                word_dict[w] = 'I-' + e_type\n",
        "        else:\n",
        "            word_dict[temp_str] = 'B-' + e_type\n",
        "    return word_dict\n",
        "\n",
        "def isFound(substr, string):\n",
        "    if (string.find(substr) == -1):\n",
        "        return False\n",
        "    return True\n",
        "\n",
        "def clean(text):\n",
        "    \"\"\"\n",
        "    Helper fuction to add a space before the punctuations.\n",
        "    This is for better tokenization.\n",
        "    \"\"\"\n",
        "    filters = [\"!\", \"#\", \"$\", \"%\", \"&\", \"(\", \")\", \"/\", \"*\", \".\", \":\", \";\", \"<\", \"=\", \">\", \"?\", \"@\", \"[\",\n",
        "               \"\\\\\", \"]\", \"_\", \"`\", \"{\", \"}\", \"~\", \"'\", \",\"]\n",
        "    for i in text:\n",
        "        if i in filters:\n",
        "            text = text.replace(i, \" \" + i)\n",
        "    return text\n",
        "\n",
        "def create_data(df):\n",
        "    '''\n",
        "    Function responsible for the creation of data\n",
        "    '''\n",
        "    data = []\n",
        "    for text, annotation in zip(df.text, df.annotation):\n",
        "\n",
        "        # Keep only entities that are found in text\n",
        "        annotation = [\n",
        "            entity for entity in annotation\n",
        "                if isFound(entity[0], text)\n",
        "        ]\n",
        "\n",
        "        text = clean(text)\n",
        "        text_ = text\n",
        "\n",
        "        match_list = []\n",
        "        for i in annotation:\n",
        "            a, text_ = matcher(text, i[0])\n",
        "            if a:\n",
        "                match_list.append((a[0][0], a[0][1], i[1]))\n",
        "\n",
        "        d = mark_sentence(text, match_list)\n",
        "        data.append(d)\n",
        "\n",
        "    return data"
      ],
      "metadata": {
        "id": "WJ71xdZ1vC9G"
      },
      "execution_count": 13,
      "outputs": []
    },
    {
      "cell_type": "code",
      "source": [
        "# Convert data to IOB format\n",
        "\n",
        "train_ner_data = create_data(train)\n",
        "val_ner_data = create_data(val)\n",
        "test_ner_data = create_data(test)"
      ],
      "metadata": {
        "id": "7J05XwNguYUX"
      },
      "execution_count": 14,
      "outputs": []
    },
    {
      "cell_type": "code",
      "source": [
        "%pprint\n",
        "train_ner_data[0]"
      ],
      "metadata": {
        "colab": {
          "base_uri": "https://localhost:8080/"
        },
        "id": "Bq3kNPtYuYSQ",
        "outputId": "2ac0854a-9a60-4ef5-902d-855a98251314"
      },
      "execution_count": 15,
      "outputs": [
        {
          "output_type": "stream",
          "name": "stdout",
          "text": [
            "Pretty printing has been turned OFF\n"
          ]
        },
        {
          "output_type": "execute_result",
          "data": {
            "text/plain": [
              "{'Good': 'O', 'catch': 'O', '.': 'O', 'NY': 'B-LOCATION', 'law': 'O', 'should': 'O', 'apply': 'O', 'throughout': 'O', 'the': 'O', 'Americas': 'B-LOCATION', 'and': 'O', 'in': 'O', 'Japan': 'B-LOCATION', 'We': 'O', 'used': 'O', 'UK': 'O', 'Europe': 'B-LOCATION', 'Singapore': 'B-LOCATION', 'on': 'O', 'theory': 'O', 'counterparties': 'O', 'there': 'O', 'would': 'O', 'be': 'O', 'more': 'O', 'comfortable': 'O', 'with': 'O', 'Uk': 'O', 'I': 'O', \"'m\": 'O', 'not': 'O', 'sure': 'O', 'which': 'O', 'Australians': 'O', 'prefer': 'O', 'What': 'O', 'do': 'O', 'you': 'O', 'think': 'O', 'of': 'O', 'following': 'O', ':': 'O', '16': 'O', 'If': 'O', 'are': 'O', 'accessing': 'O', 'this': 'O', 'website': 'O', 'from': 'O', 'North': 'B-LOCATION', 'America': 'I-LOCATION', ',': 'O', 'South': 'B-LOCATION', 'or': 'O', 'terms': 'O', 'legal': 'O', 'Privacy': 'O', 'statement': 'O', 'shall': 'O', 'governed': 'O', 'by': 'O', 'laws': 'O', 'State': 'O', 'New': 'O', 'York': 'O', ';': 'O', 'if': 'O', 'any': 'O', 'other': 'O', 'location': 'O', 'its': 'O', 'English': 'O', 'Leonardo': 'B-PERSON', 'Pacheco': 'I-PERSON', '@ENRON': 'O', 'Australia': 'B-LOCATION'}"
            ]
          },
          "metadata": {},
          "execution_count": 15
        }
      ]
    },
    {
      "cell_type": "code",
      "source": [
        "val_ner_data[0]"
      ],
      "metadata": {
        "colab": {
          "base_uri": "https://localhost:8080/"
        },
        "id": "-uoEBYcrv5GB",
        "outputId": "ca327ba5-30b7-4f33-bfaf-0e35934c2448"
      },
      "execution_count": 16,
      "outputs": [
        {
          "output_type": "execute_result",
          "data": {
            "text/plain": [
              "{'Al': 'B-PERSON', ':': 'O', 'Per': 'O', 'my': 'O', 'voice': 'O', 'mail': 'O', ',': 'O', 'I': 'O', 'have': 'O', 'left': 'O', 'a': 'O', 'message': 'O', 'for': 'O', 'Mark': 'B-PERSON', 'to': 'O', 'give': 'O', 'his': 'O', 'input': 'O', '.': 'O', 'think': 'O', 'you': 'O', 'should': 'O', 'revise': 'O', 'the': 'O', 'letter': 'O', 'as': 'O', 'follows': 'O', 'subject': 'O', \"'s\": 'O', 'edits': 'O', '\"Please': 'O', 'be': 'O', 'advised': 'O', 'that': 'O', 'effective': 'O', 'July': 'O', '17': 'O', '2000': 'O', 'MGplc': 'B-ORG', 'was': 'O', 'aquired': 'O', 'by': 'O', 'Enron': 'B-ORG', 'group': 'O', 'MG': 'B-ORG', 'London': 'I-ORG', 'Inc': 'I-ORG', 'part': 'O', 'of': 'O', 'Effective': 'O', 'October': 'O', '9': 'O', 'changed': 'O', 'its': 'O', 'name': 'O', '\"Enron': 'O', 'Trading': 'O', 'Services': 'O', 'Inc\"': 'O', 'Also': 'O', 'please': 'O', 'Financial': 'O', 'Status': 'O', '(now': 'O', ')': 'O', 'has': 'O', 'not': 'O', 'If': 'O', 'there': 'O', 'are': 'O', 'any': 'O', 'questions': 'O', 'call': 'O', 'me': 'O', 'at': 'O', '212': 'O', '715': 'O', '5845': 'O', '.\"': 'O', 'Alfred': 'B-PERSON', 'Pennisi': 'I-PERSON', '@MGUSA': 'O'}"
            ]
          },
          "metadata": {},
          "execution_count": 16
        }
      ]
    },
    {
      "cell_type": "code",
      "source": [
        "test_ner_data[0]"
      ],
      "metadata": {
        "colab": {
          "base_uri": "https://localhost:8080/"
        },
        "id": "WPv6YvvRv5D7",
        "outputId": "7148263d-de2a-45c1-b17a-04142f2f6752"
      },
      "execution_count": 17,
      "outputs": [
        {
          "output_type": "execute_result",
          "data": {
            "text/plain": [
              "{'Allright': 'O', 'fellas': 'O', 'here': 'O', \"'s\": 'O', 'the': 'O', 'gameplan': 'O', '.': 'O', 'I': 'O', \"'ll\": 'O', 'drive': 'O', 'leave': 'O', 'at': 'O', '8am': 'O', 'tomorrow': 'O', 'morning': 'O', 'we': 'O', 'can': 'O', 'meet': 'O', 'my': 'O', 'house': 'O', 'or': 'O', 'Matt': 'B-PERSON', 'it': 'O', 'doesn': 'O', \"'t\": 'O', 'really': 'O', 'matter': 'O', 'to': 'O', 'me': 'O', 'plan': 'O', 'on': 'O', 'leaving': 'O', 'BR': 'O', 'no': 'O', 'later': 'O', 'than': 'O', '9am': 'O', 'sunday': 'O', 'morn': 'O', 'Geaux': 'O', 'Tigers': 'O', 'Regards': 'O', ',': 'O', 'Kevin': 'O', 'A': 'O', 'Boone': 'O', 'Accenture': 'B-ORG', 'Houston': 'O', 'Consultant': 'O', 'Energy': 'O', '(Octel': 'O', ')': 'O', '713': 'O', '.837': 'O', '.1638': 'O', '(Client': 'O', '281': 'O', '.848': 'O', '.1619': 'O', '(C': 'O', '.306': 'O', '.7940': 'O', '(H': 'O', '.864': 'O', '.4149': 'O', '.A': 'O', '.Boone': 'O', '@accenture': 'O', '.com': 'O', 'Our': 'O', 'web': 'O', 'address': 'O', 'is': 'O', 'http': 'O', ':': 'O', '/': 'O', '/www': 'O', '.accenture': 'O', 'This': 'O', 'message': 'O', 'for': 'O', 'designated': 'O', 'recipient': 'O', 'only': 'O', 'and': 'O', 'may': 'O', 'contain': 'O', 'privileged': 'O', 'confidential': 'O', 'information': 'O', 'If': 'O', 'you': 'O', 'have': 'O', 'received': 'O', 'in': 'O', 'error': 'O', 'please': 'O', 'notify': 'O', 'sender': 'O', 'immediately': 'O', 'delete': 'O', 'original': 'O', 'Any': 'O', 'other': 'O', 'use': 'O', 'of': 'O', 'email': 'O', 'by': 'O', 'prohibited': 'O'}"
            ]
          },
          "metadata": {},
          "execution_count": 17
        }
      ]
    },
    {
      "cell_type": "code",
      "source": [
        "# Create utility function to write annotated text to .txt file format\n",
        "\n",
        "def dump_to_txt_file(data, filepath):\n",
        "    \"\"\"\n",
        "    Dump data to txt file\n",
        "\n",
        "    :param data     : data to save\n",
        "    :param filepath : output filepath name\n",
        "    \"\"\"\n",
        "    with open(filepath, 'w') as f:\n",
        "        for d in data:\n",
        "            for i in d.keys():\n",
        "                f.writelines(i + ' ' + d[i] +'\\n')\n",
        "            f.writelines('\\n')"
      ],
      "metadata": {
        "id": "oc2NeiJcv0z1"
      },
      "execution_count": 18,
      "outputs": []
    },
    {
      "cell_type": "code",
      "source": [
        "# We need to save train_ds, val_ds, and test_ds as txt file. This is the required format expected by flairNLP library.\n",
        "\n",
        "dump_to_txt_file(train_ner_data, \"data/ner/train_ner_data.txt\")\n",
        "dump_to_txt_file(val_ner_data, \"data/ner/val_ner_data.txt\")\n",
        "dump_to_txt_file(test_ner_data, \"data/ner/test_ner_data.txt\")"
      ],
      "metadata": {
        "id": "paWtdN1Lv0xu"
      },
      "execution_count": 19,
      "outputs": []
    },
    {
      "cell_type": "code",
      "execution_count": 8,
      "metadata": {
        "id": "PM7BvbYbngMK",
        "colab": {
          "base_uri": "https://localhost:8080/"
        },
        "outputId": "e1915b0d-8b32-44a1-f085-1073f7fae1d9"
      },
      "outputs": [
        {
          "output_type": "stream",
          "name": "stdout",
          "text": [
            "2023-09-24 20:15:14,342 Reading data from data/ner\n",
            "2023-09-24 20:15:14,344 Train: data/ner/train_ner_data.txt\n",
            "2023-09-24 20:15:14,345 Dev: data/ner/val_ner_data.txt\n",
            "2023-09-24 20:15:14,346 Test: data/ner/test_ner_data.txt\n"
          ]
        }
      ],
      "source": [
        "# define columns\n",
        "\n",
        "columns = {0: \"text\", 1: \"ner\"}\n",
        "\n",
        "# this is the folder in which train, validation and test files reside\n",
        "data_folder = \"data/ner\"\n",
        "\n",
        "# init a corpus using column format, data folder and the names of the train, val, and test files\n",
        "corpus: Corpus = ColumnCorpus(data_folder, columns,\n",
        "                              train_file=\"train_ner_data.txt\",\n",
        "                              test_file=\"test_ner_data.txt\",\n",
        "                              dev_file=\"val_ner_data.txt\")"
      ]
    },
    {
      "cell_type": "code",
      "source": [
        "print(len(corpus.train))"
      ],
      "metadata": {
        "colab": {
          "base_uri": "https://localhost:8080/"
        },
        "id": "rjBQTO_VqWxc",
        "outputId": "7e1db807-24ff-46d0-d8b3-6ecacb0d6d8a"
      },
      "execution_count": 9,
      "outputs": [
        {
          "output_type": "stream",
          "name": "stdout",
          "text": [
            "768\n"
          ]
        }
      ]
    },
    {
      "cell_type": "code",
      "source": [
        "corpus.train[0]"
      ],
      "metadata": {
        "colab": {
          "base_uri": "https://localhost:8080/"
        },
        "id": "dRyrEYXSqWvY",
        "outputId": "d4dcd1b4-cefc-4bbb-b472-e73012e04797"
      },
      "execution_count": 10,
      "outputs": [
        {
          "output_type": "execute_result",
          "data": {
            "text/plain": [
              "Sentence[76]: \"Good catch . NY law should apply throughout the Americas and in Japan We used UK Europe Singapore on theory counterparties there would be more comfortable with Uk I 'm not sure which Australians prefer What do you think of following : 16 If are accessing this website from North America , South or terms legal Privacy statement shall governed by laws State New York ; if any other location its English Leonardo Pacheco @ENRON Australia\" → [\"NY\"/LOCATION, \"Americas\"/LOCATION, \"Japan\"/LOCATION, \"Europe\"/LOCATION, \"Singapore\"/LOCATION, \"North America\"/LOCATION, \"South\"/LOCATION, \"Leonardo Pacheco\"/PERSON, \"Australia\"/LOCATION]"
            ]
          },
          "metadata": {},
          "execution_count": 10
        }
      ]
    },
    {
      "cell_type": "code",
      "source": [
        "print(len(corpus.test))"
      ],
      "metadata": {
        "colab": {
          "base_uri": "https://localhost:8080/"
        },
        "id": "C_N0KS-MCZtM",
        "outputId": "678bb951-885d-45c1-f998-9611f8ccd7ee"
      },
      "execution_count": 11,
      "outputs": [
        {
          "output_type": "stream",
          "name": "stdout",
          "text": [
            "96\n"
          ]
        }
      ]
    },
    {
      "cell_type": "code",
      "source": [
        "corpus.test[0]"
      ],
      "metadata": {
        "colab": {
          "base_uri": "https://localhost:8080/"
        },
        "id": "R5LlzwXtD0v1",
        "outputId": "2a2d558e-87c1-4998-929a-163708bd9f2e"
      },
      "execution_count": 12,
      "outputs": [
        {
          "output_type": "execute_result",
          "data": {
            "text/plain": [
              "Sentence[109]: \"Allright fellas here 's the gameplan . I 'll drive leave at 8am tomorrow morning we can meet my house or Matt it doesn 't really matter to me plan on leaving BR no later than 9am sunday morn Geaux Tigers Regards , Kevin A Boone Accenture Houston Consultant Energy (Octel ) 713 .837 .1638 (Client 281 .848 .1619 (C .306 .7940 (H .864 .4149 .A .Boone @accenture .com Our web address is http : / /www .accenture This message for designated recipient only and may contain privileged confidential information If you have received in error please notify sender immediately delete original Any other use of email by prohibited\" → [\"Matt\"/PERSON, \"Accenture\"/ORG]"
            ]
          },
          "metadata": {},
          "execution_count": 12
        }
      ]
    },
    {
      "cell_type": "code",
      "source": [
        "print(len(corpus.dev))"
      ],
      "metadata": {
        "colab": {
          "base_uri": "https://localhost:8080/"
        },
        "id": "sNcVU92qCZqm",
        "outputId": "90ab0801-b1ef-42c7-d9c3-bc443000cc2e"
      },
      "execution_count": 13,
      "outputs": [
        {
          "output_type": "stream",
          "name": "stdout",
          "text": [
            "96\n"
          ]
        }
      ]
    },
    {
      "cell_type": "code",
      "source": [
        "corpus.dev[0]"
      ],
      "metadata": {
        "colab": {
          "base_uri": "https://localhost:8080/"
        },
        "id": "DOREHIS9D4WC",
        "outputId": "38133148-fd9e-4a76-c6dd-a2a63b7f0735"
      },
      "execution_count": 14,
      "outputs": [
        {
          "output_type": "execute_result",
          "data": {
            "text/plain": [
              "Sentence[82]: \"Al : Per my voice mail , I have left a message for Mark to give his input . think you should revise the letter as follows subject 's edits \"Please be advised that effective July 17 2000 MGplc was aquired by Enron group MG London Inc part of Effective October 9 changed its name \"Enron Trading Services Inc\" Also please Financial Status (now ) has not If there are any questions call me at 212 715 5845 .\" Alfred Pennisi @MGUSA\" → [\"Al\"/PERSON, \"Mark\"/PERSON, \"MGplc\"/ORG, \"Enron\"/ORG, \"MG London Inc\"/ORG, \"Alfred Pennisi\"/PERSON]"
            ]
          },
          "metadata": {},
          "execution_count": 14
        }
      ]
    },
    {
      "cell_type": "code",
      "source": [
        "# make the label dictionary from the corpus\n",
        "\n",
        "label_type = 'ner'\n",
        "label_dict = corpus.make_label_dictionary(label_type=label_type, add_unk=False)\n",
        "print(label_dict)"
      ],
      "metadata": {
        "colab": {
          "base_uri": "https://localhost:8080/"
        },
        "id": "9t0Rfj90qglA",
        "outputId": "1925cce5-a931-40c2-d61c-7f729a802851"
      },
      "execution_count": 15,
      "outputs": [
        {
          "output_type": "stream",
          "name": "stdout",
          "text": [
            "2023-09-24 20:15:23,527 Computing label dictionary. Progress:\n"
          ]
        },
        {
          "output_type": "stream",
          "name": "stderr",
          "text": [
            "768it [00:00, 31300.47it/s]"
          ]
        },
        {
          "output_type": "stream",
          "name": "stdout",
          "text": [
            "2023-09-24 20:15:23,562 Dictionary created for label 'ner' with 4 values: PERSON (seen 1625 times), ORG (seen 924 times), LOCATION (seen 464 times), DATE (seen 442 times)\n",
            "Dictionary with 4 tags: PERSON, ORG, LOCATION, DATE\n"
          ]
        },
        {
          "output_type": "stream",
          "name": "stderr",
          "text": [
            "\n"
          ]
        }
      ]
    },
    {
      "cell_type": "code",
      "source": [
        "from flair.embeddings import TransformerWordEmbeddings\n",
        "from flair.models import SequenceTagger\n",
        "from flair.trainers import ModelTrainer\n",
        "import torch\n",
        "\n",
        "# Initialize fine-tuneable transformer embeddings WITH document context\n",
        "# We'll use a verion of BERT namely 'bert-base-uncased'\n",
        "embeddings = TransformerWordEmbeddings(model='bert-base-uncased',\n",
        "                                       layers=\"-1\",\n",
        "                                       subtoken_pooling=\"first\",\n",
        "                                       fine_tune=True,\n",
        "                                       use_context=True,\n",
        "                                       )\n",
        "\n",
        "tagger = SequenceTagger(hidden_size=256,\n",
        "                        embeddings=embeddings,\n",
        "                        tag_dictionary=label_dict,\n",
        "                        tag_type='ner',\n",
        "                        tag_format='BIO',\n",
        "                        use_crf=False,\n",
        "                        use_rnn=False,\n",
        "                        reproject_embeddings=False,\n",
        "                        )"
      ],
      "metadata": {
        "colab": {
          "base_uri": "https://localhost:8080/"
        },
        "id": "ZMbmUmTOqgi_",
        "outputId": "73e4f797-fca6-42cd-ce09-80f05dad1fe1"
      },
      "execution_count": 16,
      "outputs": [
        {
          "output_type": "stream",
          "name": "stdout",
          "text": [
            "2023-09-24 20:15:31,866 SequenceTagger predicts: Dictionary with 9 tags: O, B-PERSON, I-PERSON, B-ORG, I-ORG, B-LOCATION, I-LOCATION, B-DATE, I-DATE\n"
          ]
        }
      ]
    },
    {
      "cell_type": "code",
      "execution_count": 17,
      "metadata": {
        "id": "6D9RjmLjngKT",
        "colab": {
          "base_uri": "https://localhost:8080/"
        },
        "outputId": "9e2452e4-6dc1-4a0a-f638-d0fa859b380a"
      },
      "outputs": [
        {
          "output_type": "execute_result",
          "data": {
            "text/plain": [
              "<flair.trainers.trainer.ModelTrainer at 0x7ca3d922b610>"
            ]
          },
          "metadata": {},
          "execution_count": 17
        }
      ],
      "source": [
        "# Initialize trainer\n",
        "\n",
        "trainer = ModelTrainer(tagger, corpus)\n",
        "trainer"
      ]
    },
    {
      "cell_type": "code",
      "execution_count": 18,
      "metadata": {
        "id": "GkiUpKlxngIJ"
      },
      "outputs": [],
      "source": [
        "# Define function to determine the current date\n",
        "\n",
        "from datetime import datetime\n",
        "\n",
        "def get_current_date(date_format=\"%Y%m%d\"):\n",
        "    \"\"\" Get current time\n",
        "\n",
        "    :param date_format: input date format\n",
        "    :return: string date\n",
        "    \"\"\"\n",
        "    now = datetime.now()\n",
        "    current_time = now.strftime(f\"{date_format}\")\n",
        "    return current_time"
      ]
    },
    {
      "cell_type": "code",
      "source": [
        "# The current date will serve as the model version number\n",
        "\n",
        "model_version = get_current_date(date_format=\"%Y%m%d%H%M\")\n",
        "model_version"
      ],
      "metadata": {
        "colab": {
          "base_uri": "https://localhost:8080/",
          "height": 36
        },
        "id": "PGnkusbMwP4V",
        "outputId": "feb3bf48-1a55-4c8d-fcce-54c41f7d7ed7"
      },
      "execution_count": 31,
      "outputs": [
        {
          "output_type": "execute_result",
          "data": {
            "text/plain": [
              "'202309241957'"
            ],
            "application/vnd.google.colaboratory.intrinsic+json": {
              "type": "string"
            }
          },
          "metadata": {},
          "execution_count": 31
        }
      ]
    },
    {
      "cell_type": "code",
      "source": [
        "LR = 5e-5\n",
        "BATCH_SIZE = 16\n",
        "NUM_EPOCHS = 5\n",
        "\n",
        "trainer.fine_tune(f\"models/taggers/ner/{model_version}\",\n",
        "              learning_rate=LR,\n",
        "              mini_batch_size=BATCH_SIZE,\n",
        "              max_epochs=NUM_EPOCHS,\n",
        "              optimizer=torch.optim.AdamW,\n",
        "              main_evaluation_metric=(\"micro avg\", \"f1-score\")\n",
        "              )"
      ],
      "metadata": {
        "colab": {
          "base_uri": "https://localhost:8080/"
        },
        "id": "ByzpGWkMwP2t",
        "outputId": "28b1ff17-9716-4ab4-cdca-132a3b2fd8ef"
      },
      "execution_count": 32,
      "outputs": [
        {
          "output_type": "stream",
          "name": "stdout",
          "text": [
            "2023-09-24 19:57:20,101 ----------------------------------------------------------------------------------------------------\n",
            "2023-09-24 19:57:20,112 Model: \"SequenceTagger(\n",
            "  (embeddings): TransformerWordEmbeddings(\n",
            "    (model): BertModel(\n",
            "      (embeddings): BertEmbeddings(\n",
            "        (word_embeddings): Embedding(30523, 768)\n",
            "        (position_embeddings): Embedding(512, 768)\n",
            "        (token_type_embeddings): Embedding(2, 768)\n",
            "        (LayerNorm): LayerNorm((768,), eps=1e-12, elementwise_affine=True)\n",
            "        (dropout): Dropout(p=0.1, inplace=False)\n",
            "      )\n",
            "      (encoder): BertEncoder(\n",
            "        (layer): ModuleList(\n",
            "          (0-11): 12 x BertLayer(\n",
            "            (attention): BertAttention(\n",
            "              (self): BertSelfAttention(\n",
            "                (query): Linear(in_features=768, out_features=768, bias=True)\n",
            "                (key): Linear(in_features=768, out_features=768, bias=True)\n",
            "                (value): Linear(in_features=768, out_features=768, bias=True)\n",
            "                (dropout): Dropout(p=0.1, inplace=False)\n",
            "              )\n",
            "              (output): BertSelfOutput(\n",
            "                (dense): Linear(in_features=768, out_features=768, bias=True)\n",
            "                (LayerNorm): LayerNorm((768,), eps=1e-12, elementwise_affine=True)\n",
            "                (dropout): Dropout(p=0.1, inplace=False)\n",
            "              )\n",
            "            )\n",
            "            (intermediate): BertIntermediate(\n",
            "              (dense): Linear(in_features=768, out_features=3072, bias=True)\n",
            "              (intermediate_act_fn): GELUActivation()\n",
            "            )\n",
            "            (output): BertOutput(\n",
            "              (dense): Linear(in_features=3072, out_features=768, bias=True)\n",
            "              (LayerNorm): LayerNorm((768,), eps=1e-12, elementwise_affine=True)\n",
            "              (dropout): Dropout(p=0.1, inplace=False)\n",
            "            )\n",
            "          )\n",
            "        )\n",
            "      )\n",
            "      (pooler): BertPooler(\n",
            "        (dense): Linear(in_features=768, out_features=768, bias=True)\n",
            "        (activation): Tanh()\n",
            "      )\n",
            "    )\n",
            "  )\n",
            "  (locked_dropout): LockedDropout(p=0.5)\n",
            "  (linear): Linear(in_features=768, out_features=9, bias=True)\n",
            "  (loss_function): CrossEntropyLoss()\n",
            ")\"\n",
            "2023-09-24 19:57:20,124 ----------------------------------------------------------------------------------------------------\n",
            "2023-09-24 19:57:20,131 Corpus: \"Corpus: 768 train + 96 dev + 96 test sentences\"\n",
            "2023-09-24 19:57:20,133 ----------------------------------------------------------------------------------------------------\n",
            "2023-09-24 19:57:20,140 Parameters:\n",
            "2023-09-24 19:57:20,142  - learning_rate: \"0.000050\"\n",
            "2023-09-24 19:57:20,146  - mini_batch_size: \"16\"\n",
            "2023-09-24 19:57:20,148  - patience: \"3\"\n",
            "2023-09-24 19:57:20,155  - anneal_factor: \"0.5\"\n",
            "2023-09-24 19:57:20,163  - max_epochs: \"5\"\n",
            "2023-09-24 19:57:20,171  - shuffle: \"True\"\n",
            "2023-09-24 19:57:20,172  - train_with_dev: \"False\"\n",
            "2023-09-24 19:57:20,173  - batch_growth_annealing: \"False\"\n",
            "2023-09-24 19:57:20,181 ----------------------------------------------------------------------------------------------------\n",
            "2023-09-24 19:57:20,185 Model training base path: \"models/taggers/ner/202309241957\"\n",
            "2023-09-24 19:57:20,186 ----------------------------------------------------------------------------------------------------\n",
            "2023-09-24 19:57:20,197 Device: cuda:0\n",
            "2023-09-24 19:57:20,205 ----------------------------------------------------------------------------------------------------\n",
            "2023-09-24 19:57:20,206 Embeddings storage mode: none\n",
            "2023-09-24 19:57:20,207 ----------------------------------------------------------------------------------------------------\n",
            "2023-09-24 19:57:28,529 epoch 1 - iter 4/48 - loss 1.92894218 - time (sec): 8.31 - samples/sec: 724.17 - lr: 0.000008\n",
            "2023-09-24 19:57:32,002 epoch 1 - iter 8/48 - loss 1.73692696 - time (sec): 11.79 - samples/sec: 1031.99 - lr: 0.000017\n",
            "2023-09-24 19:57:36,186 epoch 1 - iter 12/48 - loss 1.46935047 - time (sec): 15.97 - samples/sec: 1127.97 - lr: 0.000025\n",
            "2023-09-24 19:57:40,954 epoch 1 - iter 16/48 - loss 1.20005544 - time (sec): 20.74 - samples/sec: 1172.85 - lr: 0.000033\n",
            "2023-09-24 19:57:45,362 epoch 1 - iter 20/48 - loss 1.03635389 - time (sec): 25.15 - samples/sec: 1217.92 - lr: 0.000042\n",
            "2023-09-24 19:57:48,794 epoch 1 - iter 24/48 - loss 0.94012017 - time (sec): 28.58 - samples/sec: 1283.20 - lr: 0.000050\n",
            "2023-09-24 19:57:52,382 epoch 1 - iter 28/48 - loss 0.86059935 - time (sec): 32.17 - samples/sec: 1328.80 - lr: 0.000049\n",
            "2023-09-24 19:57:55,672 epoch 1 - iter 32/48 - loss 0.79847938 - time (sec): 35.46 - samples/sec: 1375.40 - lr: 0.000048\n",
            "2023-09-24 19:57:59,205 epoch 1 - iter 36/48 - loss 0.75076891 - time (sec): 38.99 - samples/sec: 1408.06 - lr: 0.000047\n",
            "2023-09-24 19:58:03,326 epoch 1 - iter 40/48 - loss 0.70048022 - time (sec): 43.11 - samples/sec: 1418.49 - lr: 0.000046\n",
            "2023-09-24 19:58:06,657 epoch 1 - iter 44/48 - loss 0.66296341 - time (sec): 46.44 - samples/sec: 1446.07 - lr: 0.000045\n",
            "2023-09-24 19:58:10,935 epoch 1 - iter 48/48 - loss 0.62929893 - time (sec): 50.72 - samples/sec: 1444.64 - lr: 0.000045\n",
            "2023-09-24 19:58:10,938 ----------------------------------------------------------------------------------------------------\n",
            "2023-09-24 19:58:10,940 EPOCH 1 done: loss 0.6293 - lr 0.000045\n"
          ]
        },
        {
          "output_type": "stream",
          "name": "stderr",
          "text": [
            "100%|██████████| 6/6 [00:03<00:00,  1.97it/s]"
          ]
        },
        {
          "output_type": "stream",
          "name": "stdout",
          "text": [
            "2023-09-24 19:58:13,996 Evaluating as a multi-label problem: False\n",
            "2023-09-24 19:58:14,023 DEV : loss 0.2221193164587021 - f1-score (micro avg)  0.2345\n",
            "2023-09-24 19:58:14,036 ----------------------------------------------------------------------------------------------------\n"
          ]
        },
        {
          "output_type": "stream",
          "name": "stderr",
          "text": [
            "\n"
          ]
        },
        {
          "output_type": "stream",
          "name": "stdout",
          "text": [
            "2023-09-24 19:58:19,557 epoch 2 - iter 4/48 - loss 0.22381216 - time (sec): 5.52 - samples/sec: 1145.54 - lr: 0.000044\n",
            "2023-09-24 19:58:22,941 epoch 2 - iter 8/48 - loss 0.22171547 - time (sec): 8.90 - samples/sec: 1384.35 - lr: 0.000043\n",
            "2023-09-24 19:58:26,869 epoch 2 - iter 12/48 - loss 0.21810096 - time (sec): 12.83 - samples/sec: 1427.16 - lr: 0.000042\n",
            "2023-09-24 19:58:31,065 epoch 2 - iter 16/48 - loss 0.21696108 - time (sec): 17.02 - samples/sec: 1435.37 - lr: 0.000041\n",
            "2023-09-24 19:58:36,613 epoch 2 - iter 20/48 - loss 0.21389038 - time (sec): 22.57 - samples/sec: 1353.18 - lr: 0.000040\n",
            "2023-09-24 19:58:40,498 epoch 2 - iter 24/48 - loss 0.21148096 - time (sec): 26.46 - samples/sec: 1382.12 - lr: 0.000039\n",
            "2023-09-24 19:58:44,182 epoch 2 - iter 28/48 - loss 0.21307722 - time (sec): 30.14 - samples/sec: 1410.77 - lr: 0.000038\n",
            "2023-09-24 19:58:48,486 epoch 2 - iter 32/48 - loss 0.20685158 - time (sec): 34.45 - samples/sec: 1409.18 - lr: 0.000037\n",
            "2023-09-24 19:58:51,998 epoch 2 - iter 36/48 - loss 0.20391004 - time (sec): 37.96 - samples/sec: 1435.04 - lr: 0.000036\n",
            "2023-09-24 19:58:55,718 epoch 2 - iter 40/48 - loss 0.20554725 - time (sec): 41.68 - samples/sec: 1458.91 - lr: 0.000035\n",
            "2023-09-24 19:58:59,951 epoch 2 - iter 44/48 - loss 0.20164035 - time (sec): 45.91 - samples/sec: 1456.58 - lr: 0.000035\n",
            "2023-09-24 19:59:04,688 epoch 2 - iter 48/48 - loss 0.20286608 - time (sec): 50.65 - samples/sec: 1446.69 - lr: 0.000034\n",
            "2023-09-24 19:59:04,710 ----------------------------------------------------------------------------------------------------\n",
            "2023-09-24 19:59:04,717 EPOCH 2 done: loss 0.2029 - lr 0.000034\n"
          ]
        },
        {
          "output_type": "stream",
          "name": "stderr",
          "text": [
            "100%|██████████| 6/6 [00:04<00:00,  1.40it/s]"
          ]
        },
        {
          "output_type": "stream",
          "name": "stdout",
          "text": [
            "2023-09-24 19:59:09,044 Evaluating as a multi-label problem: False\n",
            "2023-09-24 19:59:09,069 DEV : loss 0.1413034051656723 - f1-score (micro avg)  0.6184\n",
            "2023-09-24 19:59:09,081 ----------------------------------------------------------------------------------------------------\n"
          ]
        },
        {
          "output_type": "stream",
          "name": "stderr",
          "text": [
            "\n"
          ]
        },
        {
          "output_type": "stream",
          "name": "stdout",
          "text": [
            "2023-09-24 19:59:13,462 epoch 3 - iter 4/48 - loss 0.13167093 - time (sec): 4.38 - samples/sec: 1373.31 - lr: 0.000033\n",
            "2023-09-24 19:59:17,438 epoch 3 - iter 8/48 - loss 0.14176730 - time (sec): 8.36 - samples/sec: 1439.25 - lr: 0.000032\n",
            "2023-09-24 19:59:21,491 epoch 3 - iter 12/48 - loss 0.14270455 - time (sec): 12.41 - samples/sec: 1469.94 - lr: 0.000031\n",
            "2023-09-24 19:59:26,195 epoch 3 - iter 16/48 - loss 0.14008014 - time (sec): 17.11 - samples/sec: 1411.57 - lr: 0.000030\n",
            "2023-09-24 19:59:30,202 epoch 3 - iter 20/48 - loss 0.13761293 - time (sec): 21.12 - samples/sec: 1425.42 - lr: 0.000029\n",
            "2023-09-24 19:59:34,570 epoch 3 - iter 24/48 - loss 0.14276203 - time (sec): 25.49 - samples/sec: 1427.09 - lr: 0.000028\n",
            "2023-09-24 19:59:39,032 epoch 3 - iter 28/48 - loss 0.14102589 - time (sec): 29.95 - samples/sec: 1415.18 - lr: 0.000027\n",
            "2023-09-24 19:59:43,819 epoch 3 - iter 32/48 - loss 0.13952291 - time (sec): 34.74 - samples/sec: 1401.58 - lr: 0.000026\n",
            "2023-09-24 19:59:48,055 epoch 3 - iter 36/48 - loss 0.13868858 - time (sec): 38.97 - samples/sec: 1408.50 - lr: 0.000025\n",
            "2023-09-24 19:59:52,665 epoch 3 - iter 40/48 - loss 0.14064196 - time (sec): 43.58 - samples/sec: 1400.04 - lr: 0.000025\n",
            "2023-09-24 19:59:57,251 epoch 3 - iter 44/48 - loss 0.14199866 - time (sec): 48.17 - samples/sec: 1392.76 - lr: 0.000024\n",
            "2023-09-24 20:00:01,632 epoch 3 - iter 48/48 - loss 0.14068687 - time (sec): 52.55 - samples/sec: 1394.36 - lr: 0.000023\n",
            "2023-09-24 20:00:01,639 ----------------------------------------------------------------------------------------------------\n",
            "2023-09-24 20:00:01,642 EPOCH 3 done: loss 0.1407 - lr 0.000023\n"
          ]
        },
        {
          "output_type": "stream",
          "name": "stderr",
          "text": [
            "100%|██████████| 6/6 [00:03<00:00,  1.83it/s]"
          ]
        },
        {
          "output_type": "stream",
          "name": "stdout",
          "text": [
            "2023-09-24 20:00:04,939 Evaluating as a multi-label problem: False\n",
            "2023-09-24 20:00:04,955 DEV : loss 0.12771132588386536 - f1-score (micro avg)  0.6226\n",
            "2023-09-24 20:00:04,963 ----------------------------------------------------------------------------------------------------\n"
          ]
        },
        {
          "output_type": "stream",
          "name": "stderr",
          "text": [
            "\n"
          ]
        },
        {
          "output_type": "stream",
          "name": "stdout",
          "text": [
            "2023-09-24 20:00:09,790 epoch 4 - iter 4/48 - loss 0.11859390 - time (sec): 4.83 - samples/sec: 1279.75 - lr: 0.000022\n",
            "2023-09-24 20:00:14,475 epoch 4 - iter 8/48 - loss 0.11040869 - time (sec): 9.51 - samples/sec: 1301.33 - lr: 0.000021\n",
            "2023-09-24 20:00:18,754 epoch 4 - iter 12/48 - loss 0.11633330 - time (sec): 13.79 - samples/sec: 1331.16 - lr: 0.000020\n",
            "2023-09-24 20:00:23,273 epoch 4 - iter 16/48 - loss 0.12161531 - time (sec): 18.31 - samples/sec: 1340.03 - lr: 0.000019\n",
            "2023-09-24 20:00:27,322 epoch 4 - iter 20/48 - loss 0.12280147 - time (sec): 22.36 - samples/sec: 1379.69 - lr: 0.000018\n",
            "2023-09-24 20:00:31,283 epoch 4 - iter 24/48 - loss 0.12028609 - time (sec): 26.32 - samples/sec: 1395.49 - lr: 0.000017\n",
            "2023-09-24 20:00:35,604 epoch 4 - iter 28/48 - loss 0.11655327 - time (sec): 30.64 - samples/sec: 1402.66 - lr: 0.000016\n",
            "2023-09-24 20:00:39,147 epoch 4 - iter 32/48 - loss 0.11664830 - time (sec): 34.18 - samples/sec: 1431.57 - lr: 0.000015\n",
            "2023-09-24 20:00:44,263 epoch 4 - iter 36/48 - loss 0.11892099 - time (sec): 39.30 - samples/sec: 1405.52 - lr: 0.000015\n",
            "2023-09-24 20:00:48,531 epoch 4 - iter 40/48 - loss 0.11658320 - time (sec): 43.57 - samples/sec: 1406.53 - lr: 0.000014\n",
            "2023-09-24 20:00:53,051 epoch 4 - iter 44/48 - loss 0.11430632 - time (sec): 48.09 - samples/sec: 1399.22 - lr: 0.000013\n",
            "2023-09-24 20:00:57,405 epoch 4 - iter 48/48 - loss 0.11521556 - time (sec): 52.44 - samples/sec: 1397.25 - lr: 0.000012\n",
            "2023-09-24 20:00:57,410 ----------------------------------------------------------------------------------------------------\n",
            "2023-09-24 20:00:57,412 EPOCH 4 done: loss 0.1152 - lr 0.000012\n"
          ]
        },
        {
          "output_type": "stream",
          "name": "stderr",
          "text": [
            "100%|██████████| 6/6 [00:03<00:00,  1.96it/s]"
          ]
        },
        {
          "output_type": "stream",
          "name": "stdout",
          "text": [
            "2023-09-24 20:01:00,483 Evaluating as a multi-label problem: False\n",
            "2023-09-24 20:01:00,500 DEV : loss 0.1295626312494278 - f1-score (micro avg)  0.6123\n",
            "2023-09-24 20:01:00,511 ----------------------------------------------------------------------------------------------------\n"
          ]
        },
        {
          "output_type": "stream",
          "name": "stderr",
          "text": [
            "\n"
          ]
        },
        {
          "output_type": "stream",
          "name": "stdout",
          "text": [
            "2023-09-24 20:01:04,612 epoch 5 - iter 4/48 - loss 0.10074218 - time (sec): 4.10 - samples/sec: 1428.58 - lr: 0.000011\n",
            "2023-09-24 20:01:08,402 epoch 5 - iter 8/48 - loss 0.09493009 - time (sec): 7.89 - samples/sec: 1542.30 - lr: 0.000010\n",
            "2023-09-24 20:01:12,549 epoch 5 - iter 12/48 - loss 0.09336834 - time (sec): 12.04 - samples/sec: 1522.44 - lr: 0.000009\n",
            "2023-09-24 20:01:17,808 epoch 5 - iter 16/48 - loss 0.09204279 - time (sec): 17.29 - samples/sec: 1412.57 - lr: 0.000008\n",
            "2023-09-24 20:01:21,839 epoch 5 - iter 20/48 - loss 0.09590692 - time (sec): 21.33 - samples/sec: 1437.34 - lr: 0.000007\n",
            "2023-09-24 20:01:26,606 epoch 5 - iter 24/48 - loss 0.09548017 - time (sec): 26.09 - samples/sec: 1407.30 - lr: 0.000006\n",
            "2023-09-24 20:01:32,085 epoch 5 - iter 28/48 - loss 0.09449493 - time (sec): 31.57 - samples/sec: 1360.48 - lr: 0.000005\n",
            "2023-09-24 20:01:36,386 epoch 5 - iter 32/48 - loss 0.09681371 - time (sec): 35.87 - samples/sec: 1368.41 - lr: 0.000005\n",
            "2023-09-24 20:01:40,869 epoch 5 - iter 36/48 - loss 0.09944375 - time (sec): 40.36 - samples/sec: 1363.68 - lr: 0.000004\n",
            "2023-09-24 20:01:44,755 epoch 5 - iter 40/48 - loss 0.10005729 - time (sec): 44.24 - samples/sec: 1381.96 - lr: 0.000003\n",
            "2023-09-24 20:01:48,784 epoch 5 - iter 44/48 - loss 0.09983516 - time (sec): 48.27 - samples/sec: 1389.34 - lr: 0.000002\n",
            "2023-09-24 20:01:53,125 epoch 5 - iter 48/48 - loss 0.09956445 - time (sec): 52.61 - samples/sec: 1392.70 - lr: 0.000001\n",
            "2023-09-24 20:01:53,128 ----------------------------------------------------------------------------------------------------\n",
            "2023-09-24 20:01:53,130 EPOCH 5 done: loss 0.0996 - lr 0.000001\n"
          ]
        },
        {
          "output_type": "stream",
          "name": "stderr",
          "text": [
            "100%|██████████| 6/6 [00:03<00:00,  1.99it/s]"
          ]
        },
        {
          "output_type": "stream",
          "name": "stdout",
          "text": [
            "2023-09-24 20:01:56,167 Evaluating as a multi-label problem: False\n",
            "2023-09-24 20:01:56,189 DEV : loss 0.12764804065227509 - f1-score (micro avg)  0.626\n"
          ]
        },
        {
          "output_type": "stream",
          "name": "stderr",
          "text": [
            "\n"
          ]
        },
        {
          "output_type": "stream",
          "name": "stdout",
          "text": [
            "2023-09-24 20:01:58,170 ----------------------------------------------------------------------------------------------------\n",
            "2023-09-24 20:01:58,175 Testing using last state of model ...\n"
          ]
        },
        {
          "output_type": "stream",
          "name": "stderr",
          "text": [
            "100%|██████████| 6/6 [00:03<00:00,  1.92it/s]"
          ]
        },
        {
          "output_type": "stream",
          "name": "stdout",
          "text": [
            "2023-09-24 20:02:01,349 Evaluating as a multi-label problem: False\n",
            "2023-09-24 20:02:01,372 0.5578\t0.6268\t0.5903\t0.4384\n",
            "2023-09-24 20:02:01,375 \n",
            "Results:\n",
            "- F-score (micro) 0.5903\n",
            "- F-score (macro) 0.5209\n",
            "- Accuracy 0.4384\n",
            "\n",
            "By class:\n",
            "              precision    recall  f1-score   support\n",
            "\n",
            "      PERSON     0.7269    0.7811    0.7530       201\n",
            "         ORG     0.4754    0.5839    0.5241       149\n",
            "    LOCATION     0.5135    0.5135    0.5135        74\n",
            "        DATE     0.2698    0.3208    0.2931        53\n",
            "\n",
            "   micro avg     0.5578    0.6268    0.5903       477\n",
            "   macro avg     0.4964    0.5498    0.5209       477\n",
            "weighted avg     0.5644    0.6268    0.5932       477\n",
            "\n",
            "2023-09-24 20:02:01,378 ----------------------------------------------------------------------------------------------------\n"
          ]
        },
        {
          "output_type": "stream",
          "name": "stderr",
          "text": [
            "\n"
          ]
        },
        {
          "output_type": "execute_result",
          "data": {
            "text/plain": [
              "{'test_score': 0.5903257650542941, 'dev_score_history': [0.2345058626465662, 0.618421052631579, 0.6225961538461537, 0.612330198537095, 0.6260330578512396], 'train_loss_history': [0.629298929330472, 0.20286607726690928, 0.14068687148249842, 0.11521556088726312, 0.09956445255606491], 'dev_loss_history': [0.2221193164587021, 0.1413034051656723, 0.12771132588386536, 0.1295626312494278, 0.12764804065227509]}"
            ]
          },
          "metadata": {},
          "execution_count": 32
        }
      ]
    },
    {
      "cell_type": "code",
      "source": [
        "from collections import defaultdict\n",
        "import matplotlib.pyplot as plt\n",
        "\n",
        "history = defaultdict(list)\n",
        "history['train_loss_history'] = [0.629298929330472, 0.20286607726690928, 0.14068687148249842, 0.11521556088726312, 0.09956445255606491]\n",
        "history['dev_loss_history'] = [0.2221193164587021, 0.1413034051656723, 0.12771132588386536, 0.1295626312494278, 0.12764804065227509]\n",
        "\n",
        "plt.figure()\n",
        "plt.plot(history['train_loss_history'], label='train loss')\n",
        "plt.plot(history['dev_loss_history'], label='val loss')\n",
        "plt.title('Training history')\n",
        "plt.ylabel('Loss')\n",
        "plt.xlabel('Epoch')\n",
        "plt.legend()\n",
        "plt.ylim([0, 1])"
      ],
      "metadata": {
        "colab": {
          "base_uri": "https://localhost:8080/",
          "height": 489
        },
        "id": "YtjlKkfYyVVF",
        "outputId": "2fdf99de-f941-4f38-b1fa-69fe1129fa4e"
      },
      "execution_count": 35,
      "outputs": [
        {
          "output_type": "execute_result",
          "data": {
            "text/plain": [
              "(0.0, 1.0)"
            ]
          },
          "metadata": {},
          "execution_count": 35
        },
        {
          "output_type": "display_data",
          "data": {
            "text/plain": [
              "<Figure size 640x480 with 1 Axes>"
            ],
            "image/png": "[encoded data removed]"
          },
          "metadata": {}
        }
      ]
    },
    {
      "cell_type": "code",
      "source": [
        "sentences = corpus.test\n",
        "sentences"
      ],
      "metadata": {
        "colab": {
          "base_uri": "https://localhost:8080/"
        },
        "id": "EYc8ntl4-SB8",
        "outputId": "e9f7c9d5-98b2-454e-fac7-c9ae5c89866a"
      },
      "execution_count": 37,
      "outputs": [
        {
          "output_type": "execute_result",
          "data": {
            "text/plain": [
              "<torch.utils.data.dataset.ConcatDataset object at 0x7891749e7220>"
            ]
          },
          "metadata": {},
          "execution_count": 37
        }
      ]
    },
    {
      "cell_type": "code",
      "source": [
        "# load tagger\n",
        "tagger: SequenceTagger = SequenceTagger.load('models/taggers/ner/202309241957/final-model.pt')"
      ],
      "metadata": {
        "colab": {
          "base_uri": "https://localhost:8080/"
        },
        "id": "psStECkDwXyv",
        "outputId": "2581ddc7-ae2b-4754-d568-9fd98b60ef94"
      },
      "execution_count": 38,
      "outputs": [
        {
          "output_type": "stream",
          "name": "stdout",
          "text": [
            "2023-09-24 20:10:48,169 SequenceTagger predicts: Dictionary with 9 tags: O, B-PERSON, I-PERSON, B-ORG, I-ORG, B-LOCATION, I-LOCATION, B-DATE, I-DATE\n"
          ]
        }
      ]
    },
    {
      "cell_type": "code",
      "source": [
        "def get_test_labels(sentences):\n",
        "    \"\"\"\n",
        "    Get test labels\n",
        "    \"\"\"\n",
        "    test_labels = []\n",
        "    for sentence in sentences:\n",
        "        sentence_labels = [\"O\"] * len(sentence)\n",
        "        for label in sentence.get_labels('ner'):\n",
        "            span = label.data_point\n",
        "            if len(span) == 1:\n",
        "                sentence_labels[span[0].idx - 1] = \"B-\" + label.value\n",
        "            else:\n",
        "                sentence_labels[span[0].idx - 1] = \"B-\" + label.value\n",
        "                sentence_labels[span[-1].idx - 1] = \"I-\" + label.value\n",
        "                for i in range(span[0].idx, span[-1].idx - 1):\n",
        "                    sentence_labels[i] = \"I-\" + label.value\n",
        "\n",
        "        test_labels.append(sentence_labels)\n",
        "    return test_labels\n",
        "\n",
        "def get_pred_labels(sentences, tagger):\n",
        "    \"\"\"\n",
        "    Get predicted labels\n",
        "    \"\"\"\n",
        "    tagger.predict(sentences, mini_batch_size=32, verbose=True,  embedding_storage_mode=\"none\")\n",
        "\n",
        "    pred_labels = []\n",
        "    for sentence in sentences:\n",
        "        sentence_labels = [\"O\"] * len(sentence)\n",
        "        for label in sentence.get_labels('ner'):\n",
        "            span = label.data_point\n",
        "            if len(span) == 1:\n",
        "                sentence_labels[span[0].idx - 1] = \"B-\" + label.value\n",
        "            else:\n",
        "                sentence_labels[span[0].idx - 1] = \"B-\" + label.value\n",
        "                sentence_labels[span[-1].idx - 1] = \"I-\" + label.value\n",
        "                for i in range(span[0].idx, span[-1].idx - 1):\n",
        "                    sentence_labels[i] = \"I-\" + label.value\n",
        "\n",
        "        pred_labels.append(sentence_labels)\n",
        "    return pred_labels"
      ],
      "metadata": {
        "id": "IHp0g88BHpjL"
      },
      "execution_count": 40,
      "outputs": []
    },
    {
      "cell_type": "code",
      "source": [
        "%pprint\n",
        "test_labels = get_test_labels(sentences)\n",
        "test_labels[:3]"
      ],
      "metadata": {
        "colab": {
          "base_uri": "https://localhost:8080/"
        },
        "id": "1nhP6V3rIQt-",
        "outputId": "87c1fd7d-ee2d-44e0-fe01-a6bf522ba91d"
      },
      "execution_count": 43,
      "outputs": [
        {
          "output_type": "stream",
          "name": "stdout",
          "text": [
            "Pretty printing has been turned OFF\n"
          ]
        },
        {
          "output_type": "execute_result",
          "data": {
            "text/plain": [
              "[['O', 'O', 'O', 'O', 'O', 'O', 'O', 'O', 'O', 'O', 'O', 'O', 'O', 'O', 'O', 'O', 'O', 'O', 'O', 'O', 'O', 'B-PERSON', 'O', 'O', 'O', 'O', 'O', 'O', 'O', 'O', 'O', 'O', 'O', 'O', 'O', 'O', 'O', 'O', 'O', 'O', 'O', 'O', 'O', 'O', 'O', 'O', 'B-ORG', 'O', 'O', 'O', 'O', 'O', 'O', 'O', 'O', 'O', 'O', 'O', 'O', 'O', 'O', 'O', 'O', 'O', 'O', 'O', 'O', 'O', 'O', 'O', 'O', 'O', 'O', 'O', 'O', 'O', 'O', 'O', 'O', 'O', 'O', 'O', 'O', 'O', 'O', 'O', 'O', 'O', 'O', 'O', 'O', 'O', 'O', 'O', 'O', 'O', 'O', 'O', 'O', 'O', 'O', 'O', 'O', 'O', 'O', 'O', 'O', 'O', 'O'], ['B-PERSON', 'O', 'B-ORG', 'O', 'O', 'O', 'O', 'O', 'O', 'O', 'O', 'O', 'O', 'O', 'O', 'O', 'O', 'O', 'O', 'O', 'O', 'O', 'O', 'O', 'O', 'O', 'O', 'O', 'O', 'O', 'O', 'O', 'O', 'O', 'O', 'O', 'O', 'B-ORG', 'O', 'O', 'O', 'O', 'O', 'O', 'O', 'O', 'O', 'O', 'O', 'O', 'O', 'O', 'O', 'O', 'O', 'O', 'O', 'O', 'O', 'O', 'O', 'O', 'O', 'O', 'O', 'O', 'O', 'O', 'O', 'O', 'O', 'O', 'O', 'B-ORG', 'B-PERSON', 'B-ORG', 'I-ORG', 'O', 'O'], ['O', 'O', 'O', 'O', 'O', 'O', 'O', 'O', 'O', 'O', 'O', 'O', 'O', 'O', 'O', 'O', 'O', 'O', 'O', 'O', 'O', 'O', 'O', 'B-ORG', 'O', 'O', 'O', 'O', 'O', 'B-ORG', 'O', 'B-PERSON', 'O', 'B-ORG', 'I-ORG', 'O', 'B-ORG', 'I-ORG', 'O', 'B-ORG', 'O', 'O', 'O', 'O', 'O', 'O', 'O', 'O', 'O', 'O', 'O', 'B-LOCATION', 'O', 'O', 'O', 'O', 'O', 'O', 'O', 'O', 'O', 'O', 'O', 'O', 'O', 'B-PERSON', 'O', 'O', 'O', 'O', 'O', 'O', 'O', 'O', 'O', 'O', 'O', 'O', 'O', 'O', 'O', 'O', 'O', 'O', 'O', 'O', 'O', 'O', 'O', 'O', 'O', 'O', 'O', 'O', 'O', 'O', 'O', 'O', 'O', 'O', 'O', 'O', 'O', 'O', 'O', 'O', 'O', 'O', 'O', 'O', 'O', 'O', 'O', 'O', 'O', 'B-ORG', 'O', 'O', 'O', 'O', 'O', 'O', 'O', 'B-PERSON', 'B-PERSON', 'B-PERSON', 'B-PERSON', 'B-PERSON']]"
            ]
          },
          "metadata": {},
          "execution_count": 43
        }
      ]
    },
    {
      "cell_type": "code",
      "source": [
        "pred_labels = get_pred_labels(sentences, tagger)\n",
        "pred_labels[:3]"
      ],
      "metadata": {
        "colab": {
          "base_uri": "https://localhost:8080/"
        },
        "id": "j07LtnezIXbw",
        "outputId": "85124096-f7c7-4b2d-a8e1-c9a3dd13335a"
      },
      "execution_count": 44,
      "outputs": [
        {
          "output_type": "stream",
          "name": "stderr",
          "text": [
            "Batch inference: 100%|██████████| 3/3 [00:02<00:00,  1.16it/s]\n"
          ]
        },
        {
          "output_type": "execute_result",
          "data": {
            "text/plain": [
              "[['B-PERSON', 'O', 'O', 'O', 'O', 'O', 'O', 'O', 'O', 'O', 'O', 'O', 'O', 'B-DATE', 'I-DATE', 'O', 'O', 'O', 'O', 'O', 'O', 'B-PERSON', 'O', 'O', 'O', 'O', 'O', 'O', 'O', 'O', 'O', 'O', 'O', 'O', 'O', 'O', 'O', 'B-DATE', 'O', 'B-PERSON', 'B-ORG', 'O', 'O', 'B-PERSON', 'O', 'O', 'B-ORG', 'B-LOCATION', 'O', 'O', 'O', 'O', 'O', 'O', 'O', 'O', 'O', 'O', 'O', 'O', 'O', 'O', 'O', 'O', 'O', 'O', 'O', 'O', 'O', 'O', 'O', 'O', 'O', 'O', 'O', 'O', 'O', 'O', 'O', 'O', 'O', 'O', 'O', 'O', 'O', 'O', 'O', 'O', 'O', 'O', 'O', 'O', 'O', 'O', 'O', 'O', 'O', 'O', 'O', 'O', 'O', 'O', 'O', 'O', 'O', 'O', 'O', 'O', 'O'], ['B-PERSON', 'O', 'B-PERSON', 'O', 'O', 'O', 'O', 'O', 'O', 'O', 'O', 'O', 'O', 'O', 'O', 'O', 'O', 'O', 'O', 'O', 'O', 'O', 'O', 'O', 'O', 'O', 'O', 'O', 'O', 'O', 'O', 'O', 'O', 'O', 'O', 'O', 'O', 'B-ORG', 'O', 'O', 'O', 'O', 'O', 'O', 'O', 'O', 'O', 'O', 'O', 'O', 'O', 'O', 'O', 'O', 'O', 'O', 'O', 'O', 'O', 'O', 'O', 'O', 'O', 'O', 'O', 'O', 'O', 'O', 'O', 'O', 'O', 'O', 'O', 'O', 'B-ORG', 'O', 'O', 'O', 'O'], ['O', 'O', 'O', 'O', 'O', 'O', 'O', 'O', 'O', 'O', 'O', 'O', 'O', 'O', 'O', 'O', 'O', 'O', 'O', 'O', 'O', 'O', 'O', 'O', 'O', 'O', 'O', 'O', 'O', 'B-ORG', 'O', 'O', 'O', 'B-ORG', 'B-LOCATION', 'O', 'B-ORG', 'I-ORG', 'O', 'B-PERSON', 'O', 'O', 'O', 'O', 'O', 'O', 'O', 'O', 'O', 'O', 'O', 'B-LOCATION', 'O', 'O', 'O', 'O', 'O', 'O', 'O', 'O', 'O', 'O', 'O', 'O', 'O', 'B-PERSON', 'O', 'O', 'O', 'B-DATE', 'I-DATE', 'B-DATE', 'O', 'O', 'O', 'O', 'O', 'O', 'O', 'O', 'O', 'O', 'O', 'O', 'O', 'O', 'O', 'O', 'O', 'O', 'O', 'O', 'O', 'O', 'O', 'O', 'O', 'O', 'O', 'O', 'O', 'O', 'O', 'O', 'O', 'O', 'O', 'O', 'O', 'O', 'O', 'O', 'O', 'O', 'O', 'B-ORG', 'O', 'O', 'O', 'O', 'O', 'O', 'O', 'B-PERSON', 'B-PERSON', 'I-PERSON', 'B-PERSON', 'I-PERSON']]"
            ]
          },
          "metadata": {},
          "execution_count": 44
        }
      ]
    },
    {
      "cell_type": "code",
      "source": [
        "len(test_labels), len(pred_labels)"
      ],
      "metadata": {
        "colab": {
          "base_uri": "https://localhost:8080/"
        },
        "id": "E8CxfQfgIXZw",
        "outputId": "c198fcc3-d274-494a-fd6b-7b35abd0b71a"
      },
      "execution_count": 45,
      "outputs": [
        {
          "output_type": "execute_result",
          "data": {
            "text/plain": [
              "(96, 96)"
            ]
          },
          "metadata": {},
          "execution_count": 45
        }
      ]
    },
    {
      "cell_type": "code",
      "source": [
        "import numpy\n",
        "\n",
        "_test_labels = numpy.concatenate([numpy.array(i) for i in test_labels])\n",
        "_test_labels"
      ],
      "metadata": {
        "colab": {
          "base_uri": "https://localhost:8080/"
        },
        "id": "fACMbO7pE-iC",
        "outputId": "34a23b39-eba5-4e59-edae-354c5f9e898d"
      },
      "execution_count": 46,
      "outputs": [
        {
          "output_type": "execute_result",
          "data": {
            "text/plain": [
              "array(['O', 'O', 'O', ..., 'O', 'O', 'B-PERSON'], dtype='<U10')"
            ]
          },
          "metadata": {},
          "execution_count": 46
        }
      ]
    },
    {
      "cell_type": "code",
      "source": [
        "_pred_labels = numpy.concatenate([numpy.array(i) for i in pred_labels])\n",
        "_pred_labels"
      ],
      "metadata": {
        "colab": {
          "base_uri": "https://localhost:8080/"
        },
        "id": "pyVXk3cU-NG1",
        "outputId": "e2014a29-fcf2-4949-b360-54d6f5f099fe"
      },
      "execution_count": 47,
      "outputs": [
        {
          "output_type": "execute_result",
          "data": {
            "text/plain": [
              "array(['B-PERSON', 'O', 'O', ..., 'O', 'O', 'B-PERSON'], dtype='<U10')"
            ]
          },
          "metadata": {},
          "execution_count": 47
        }
      ]
    },
    {
      "cell_type": "code",
      "source": [
        "from sklearn.metrics import classification_report\n",
        "\n",
        "labels = ['B-DATE', 'B-LOCATION', 'B-ORG', 'B-PERSON', 'I-DATE', 'I-LOCATION', 'I-ORG', 'I-PERSON']\n",
        "print(classification_report(_test_labels, _pred_labels, labels=labels))"
      ],
      "metadata": {
        "colab": {
          "base_uri": "https://localhost:8080/"
        },
        "id": "AHLtR8Ob-qvM",
        "outputId": "5cf99957-bf1e-4b8f-a5de-54180befd34d"
      },
      "execution_count": 48,
      "outputs": [
        {
          "output_type": "stream",
          "name": "stdout",
          "text": [
            "              precision    recall  f1-score   support\n",
            "\n",
            "      B-DATE       0.33      0.40      0.36        53\n",
            "  B-LOCATION       0.57      0.57      0.57        74\n",
            "       B-ORG       0.55      0.67      0.60       149\n",
            "    B-PERSON       0.78      0.84      0.81       201\n",
            "      I-DATE       0.57      0.28      0.38        46\n",
            "  I-LOCATION       0.50      0.30      0.37        30\n",
            "       I-ORG       0.54      0.61      0.58        70\n",
            "    I-PERSON       0.80      0.84      0.82        68\n",
            "\n",
            "   micro avg       0.62      0.66      0.64       691\n",
            "   macro avg       0.58      0.56      0.56       691\n",
            "weighted avg       0.62      0.66      0.63       691\n",
            "\n"
          ]
        }
      ]
    },
    {
      "cell_type": "code",
      "source": [
        "# The current date will serve as the model version number\n",
        "\n",
        "model_version = get_current_date(date_format=\"%Y%m%d%H%M\")\n",
        "model_version"
      ],
      "metadata": {
        "colab": {
          "base_uri": "https://localhost:8080/",
          "height": 36
        },
        "id": "7mF2JITq0zC3",
        "outputId": "2544b012-72f9-4871-abec-371825a742ba"
      },
      "execution_count": 19,
      "outputs": [
        {
          "output_type": "execute_result",
          "data": {
            "text/plain": [
              "'202309242015'"
            ],
            "application/vnd.google.colaboratory.intrinsic+json": {
              "type": "string"
            }
          },
          "metadata": {},
          "execution_count": 19
        }
      ]
    },
    {
      "cell_type": "code",
      "source": [
        "LR = 5e-5\n",
        "BATCH_SIZE = 16\n",
        "NUM_EPOCHS = 10\n",
        "\n",
        "trainer.fine_tune(f\"models/taggers/ner/{model_version}\",\n",
        "              learning_rate=LR,\n",
        "              mini_batch_size=BATCH_SIZE,\n",
        "              max_epochs=NUM_EPOCHS,\n",
        "              optimizer=torch.optim.AdamW,\n",
        "              main_evaluation_metric=(\"micro avg\", \"f1-score\")\n",
        "              )"
      ],
      "metadata": {
        "colab": {
          "base_uri": "https://localhost:8080/"
        },
        "id": "e4vclCcu-A2_",
        "outputId": "1e277952-8f35-4e3c-e87e-60c1bcf3b8e0"
      },
      "execution_count": 20,
      "outputs": [
        {
          "output_type": "stream",
          "name": "stdout",
          "text": [
            "2023-09-24 20:16:35,103 ----------------------------------------------------------------------------------------------------\n",
            "2023-09-24 20:16:35,108 Model: \"SequenceTagger(\n",
            "  (embeddings): TransformerWordEmbeddings(\n",
            "    (model): BertModel(\n",
            "      (embeddings): BertEmbeddings(\n",
            "        (word_embeddings): Embedding(30523, 768)\n",
            "        (position_embeddings): Embedding(512, 768)\n",
            "        (token_type_embeddings): Embedding(2, 768)\n",
            "        (LayerNorm): LayerNorm((768,), eps=1e-12, elementwise_affine=True)\n",
            "        (dropout): Dropout(p=0.1, inplace=False)\n",
            "      )\n",
            "      (encoder): BertEncoder(\n",
            "        (layer): ModuleList(\n",
            "          (0-11): 12 x BertLayer(\n",
            "            (attention): BertAttention(\n",
            "              (self): BertSelfAttention(\n",
            "                (query): Linear(in_features=768, out_features=768, bias=True)\n",
            "                (key): Linear(in_features=768, out_features=768, bias=True)\n",
            "                (value): Linear(in_features=768, out_features=768, bias=True)\n",
            "                (dropout): Dropout(p=0.1, inplace=False)\n",
            "              )\n",
            "              (output): BertSelfOutput(\n",
            "                (dense): Linear(in_features=768, out_features=768, bias=True)\n",
            "                (LayerNorm): LayerNorm((768,), eps=1e-12, elementwise_affine=True)\n",
            "                (dropout): Dropout(p=0.1, inplace=False)\n",
            "              )\n",
            "            )\n",
            "            (intermediate): BertIntermediate(\n",
            "              (dense): Linear(in_features=768, out_features=3072, bias=True)\n",
            "              (intermediate_act_fn): GELUActivation()\n",
            "            )\n",
            "            (output): BertOutput(\n",
            "              (dense): Linear(in_features=3072, out_features=768, bias=True)\n",
            "              (LayerNorm): LayerNorm((768,), eps=1e-12, elementwise_affine=True)\n",
            "              (dropout): Dropout(p=0.1, inplace=False)\n",
            "            )\n",
            "          )\n",
            "        )\n",
            "      )\n",
            "      (pooler): BertPooler(\n",
            "        (dense): Linear(in_features=768, out_features=768, bias=True)\n",
            "        (activation): Tanh()\n",
            "      )\n",
            "    )\n",
            "  )\n",
            "  (locked_dropout): LockedDropout(p=0.5)\n",
            "  (linear): Linear(in_features=768, out_features=9, bias=True)\n",
            "  (loss_function): CrossEntropyLoss()\n",
            ")\"\n",
            "2023-09-24 20:16:35,111 ----------------------------------------------------------------------------------------------------\n",
            "2023-09-24 20:16:35,114 Corpus: \"Corpus: 768 train + 96 dev + 96 test sentences\"\n",
            "2023-09-24 20:16:35,118 ----------------------------------------------------------------------------------------------------\n",
            "2023-09-24 20:16:35,122 Parameters:\n",
            "2023-09-24 20:16:35,124  - learning_rate: \"0.000050\"\n",
            "2023-09-24 20:16:35,125  - mini_batch_size: \"16\"\n",
            "2023-09-24 20:16:35,128  - patience: \"3\"\n",
            "2023-09-24 20:16:35,129  - anneal_factor: \"0.5\"\n",
            "2023-09-24 20:16:35,130  - max_epochs: \"10\"\n",
            "2023-09-24 20:16:35,132  - shuffle: \"True\"\n",
            "2023-09-24 20:16:35,134  - train_with_dev: \"False\"\n",
            "2023-09-24 20:16:35,135  - batch_growth_annealing: \"False\"\n",
            "2023-09-24 20:16:35,137 ----------------------------------------------------------------------------------------------------\n",
            "2023-09-24 20:16:35,140 Model training base path: \"models/taggers/ner/202309242015\"\n",
            "2023-09-24 20:16:35,141 ----------------------------------------------------------------------------------------------------\n",
            "2023-09-24 20:16:35,143 Device: cuda:0\n",
            "2023-09-24 20:16:35,145 ----------------------------------------------------------------------------------------------------\n",
            "2023-09-24 20:16:35,147 Embeddings storage mode: none\n",
            "2023-09-24 20:16:35,148 ----------------------------------------------------------------------------------------------------\n",
            "2023-09-24 20:16:39,566 epoch 1 - iter 4/48 - loss 2.47994771 - time (sec): 4.42 - samples/sec: 1363.75 - lr: 0.000004\n",
            "2023-09-24 20:16:42,867 epoch 1 - iter 8/48 - loss 2.35055433 - time (sec): 7.72 - samples/sec: 1576.58 - lr: 0.000008\n",
            "2023-09-24 20:16:46,840 epoch 1 - iter 12/48 - loss 2.16049971 - time (sec): 11.69 - samples/sec: 1541.28 - lr: 0.000013\n",
            "2023-09-24 20:16:51,942 epoch 1 - iter 16/48 - loss 1.86888440 - time (sec): 16.79 - samples/sec: 1448.66 - lr: 0.000017\n",
            "2023-09-24 20:16:56,504 epoch 1 - iter 20/48 - loss 1.58651471 - time (sec): 21.35 - samples/sec: 1434.32 - lr: 0.000021\n",
            "2023-09-24 20:17:00,470 epoch 1 - iter 24/48 - loss 1.40381384 - time (sec): 25.32 - samples/sec: 1448.48 - lr: 0.000025\n",
            "2023-09-24 20:17:04,258 epoch 1 - iter 28/48 - loss 1.26159681 - time (sec): 29.11 - samples/sec: 1468.52 - lr: 0.000029\n",
            "2023-09-24 20:17:08,306 epoch 1 - iter 32/48 - loss 1.15589624 - time (sec): 33.15 - samples/sec: 1470.92 - lr: 0.000033\n",
            "2023-09-24 20:17:12,455 epoch 1 - iter 36/48 - loss 1.08007918 - time (sec): 37.30 - samples/sec: 1471.71 - lr: 0.000038\n",
            "2023-09-24 20:17:17,081 epoch 1 - iter 40/48 - loss 1.00387507 - time (sec): 41.93 - samples/sec: 1458.48 - lr: 0.000042\n",
            "2023-09-24 20:17:20,772 epoch 1 - iter 44/48 - loss 0.94590436 - time (sec): 45.62 - samples/sec: 1472.13 - lr: 0.000046\n",
            "2023-09-24 20:17:24,949 epoch 1 - iter 48/48 - loss 0.89167027 - time (sec): 49.80 - samples/sec: 1471.39 - lr: 0.000050\n",
            "2023-09-24 20:17:24,954 ----------------------------------------------------------------------------------------------------\n",
            "2023-09-24 20:17:24,955 EPOCH 1 done: loss 0.8917 - lr 0.000050\n"
          ]
        },
        {
          "output_type": "stream",
          "name": "stderr",
          "text": [
            "100%|██████████| 6/6 [00:03<00:00,  1.51it/s]"
          ]
        },
        {
          "output_type": "stream",
          "name": "stdout",
          "text": [
            "2023-09-24 20:17:28,943 Evaluating as a multi-label problem: False\n",
            "2023-09-24 20:17:28,976 DEV : loss 0.250569224357605 - f1-score (micro avg)  0.2935\n",
            "2023-09-24 20:17:28,990 ----------------------------------------------------------------------------------------------------\n"
          ]
        },
        {
          "output_type": "stream",
          "name": "stderr",
          "text": [
            "\n"
          ]
        },
        {
          "output_type": "stream",
          "name": "stdout",
          "text": [
            "2023-09-24 20:17:32,857 epoch 2 - iter 4/48 - loss 0.27881660 - time (sec): 3.86 - samples/sec: 1598.40 - lr: 0.000050\n",
            "2023-09-24 20:17:37,071 epoch 2 - iter 8/48 - loss 0.26397586 - time (sec): 8.08 - samples/sec: 1510.91 - lr: 0.000049\n",
            "2023-09-24 20:17:41,446 epoch 2 - iter 12/48 - loss 0.26867236 - time (sec): 12.45 - samples/sec: 1457.11 - lr: 0.000049\n",
            "2023-09-24 20:17:45,218 epoch 2 - iter 16/48 - loss 0.25900080 - time (sec): 16.22 - samples/sec: 1488.02 - lr: 0.000048\n",
            "2023-09-24 20:17:49,570 epoch 2 - iter 20/48 - loss 0.24929739 - time (sec): 20.58 - samples/sec: 1477.13 - lr: 0.000048\n",
            "2023-09-24 20:17:54,814 epoch 2 - iter 24/48 - loss 0.24138383 - time (sec): 25.82 - samples/sec: 1418.03 - lr: 0.000047\n",
            "2023-09-24 20:17:59,731 epoch 2 - iter 28/48 - loss 0.23666154 - time (sec): 30.74 - samples/sec: 1384.70 - lr: 0.000047\n",
            "2023-09-24 20:18:04,096 epoch 2 - iter 32/48 - loss 0.23405549 - time (sec): 35.10 - samples/sec: 1381.46 - lr: 0.000046\n",
            "2023-09-24 20:18:09,022 epoch 2 - iter 36/48 - loss 0.22837248 - time (sec): 40.03 - samples/sec: 1365.50 - lr: 0.000046\n",
            "2023-09-24 20:18:13,657 epoch 2 - iter 40/48 - loss 0.22585951 - time (sec): 44.66 - samples/sec: 1357.56 - lr: 0.000045\n",
            "2023-09-24 20:18:19,186 epoch 2 - iter 44/48 - loss 0.21939116 - time (sec): 50.19 - samples/sec: 1334.57 - lr: 0.000045\n",
            "2023-09-24 20:18:24,106 epoch 2 - iter 48/48 - loss 0.21932473 - time (sec): 55.11 - samples/sec: 1329.49 - lr: 0.000045\n",
            "2023-09-24 20:18:24,116 ----------------------------------------------------------------------------------------------------\n",
            "2023-09-24 20:18:24,119 EPOCH 2 done: loss 0.2193 - lr 0.000045\n"
          ]
        },
        {
          "output_type": "stream",
          "name": "stderr",
          "text": [
            "100%|██████████| 6/6 [00:06<00:00,  1.02s/it]"
          ]
        },
        {
          "output_type": "stream",
          "name": "stdout",
          "text": [
            "2023-09-24 20:18:30,279 Evaluating as a multi-label problem: False\n",
            "2023-09-24 20:18:30,315 DEV : loss 0.15357275307178497 - f1-score (micro avg)  0.5639\n",
            "2023-09-24 20:18:30,333 ----------------------------------------------------------------------------------------------------\n"
          ]
        },
        {
          "output_type": "stream",
          "name": "stderr",
          "text": [
            "\n"
          ]
        },
        {
          "output_type": "stream",
          "name": "stdout",
          "text": [
            "2023-09-24 20:18:34,205 epoch 3 - iter 4/48 - loss 0.18280439 - time (sec): 3.87 - samples/sec: 1595.68 - lr: 0.000044\n",
            "2023-09-24 20:18:38,066 epoch 3 - iter 8/48 - loss 0.17321362 - time (sec): 7.73 - samples/sec: 1577.19 - lr: 0.000044\n",
            "2023-09-24 20:18:42,448 epoch 3 - iter 12/48 - loss 0.16478259 - time (sec): 12.11 - samples/sec: 1508.75 - lr: 0.000043\n",
            "2023-09-24 20:18:46,998 epoch 3 - iter 16/48 - loss 0.15777427 - time (sec): 16.66 - samples/sec: 1464.70 - lr: 0.000043\n",
            "2023-09-24 20:18:51,407 epoch 3 - iter 20/48 - loss 0.15594970 - time (sec): 21.07 - samples/sec: 1436.57 - lr: 0.000042\n",
            "2023-09-24 20:18:55,700 epoch 3 - iter 24/48 - loss 0.15550636 - time (sec): 25.36 - samples/sec: 1436.75 - lr: 0.000042\n",
            "2023-09-24 20:19:01,429 epoch 3 - iter 28/48 - loss 0.15392499 - time (sec): 31.09 - samples/sec: 1367.83 - lr: 0.000041\n",
            "2023-09-24 20:19:06,341 epoch 3 - iter 32/48 - loss 0.15398648 - time (sec): 36.01 - samples/sec: 1348.64 - lr: 0.000041\n",
            "2023-09-24 20:19:10,639 epoch 3 - iter 36/48 - loss 0.15327585 - time (sec): 40.30 - samples/sec: 1354.22 - lr: 0.000040\n",
            "2023-09-24 20:19:14,909 epoch 3 - iter 40/48 - loss 0.15600147 - time (sec): 44.57 - samples/sec: 1364.51 - lr: 0.000040\n",
            "2023-09-24 20:19:19,871 epoch 3 - iter 44/48 - loss 0.15332635 - time (sec): 49.54 - samples/sec: 1358.15 - lr: 0.000040\n",
            "2023-09-24 20:19:23,973 epoch 3 - iter 48/48 - loss 0.15230361 - time (sec): 53.64 - samples/sec: 1366.05 - lr: 0.000039\n",
            "2023-09-24 20:19:23,983 ----------------------------------------------------------------------------------------------------\n",
            "2023-09-24 20:19:23,994 EPOCH 3 done: loss 0.1523 - lr 0.000039\n"
          ]
        },
        {
          "output_type": "stream",
          "name": "stderr",
          "text": [
            "100%|██████████| 6/6 [00:04<00:00,  1.43it/s]"
          ]
        },
        {
          "output_type": "stream",
          "name": "stdout",
          "text": [
            "2023-09-24 20:19:28,197 Evaluating as a multi-label problem: False\n",
            "2023-09-24 20:19:28,224 DEV : loss 0.13580676913261414 - f1-score (micro avg)  0.5925\n",
            "2023-09-24 20:19:28,238 ----------------------------------------------------------------------------------------------------\n"
          ]
        },
        {
          "output_type": "stream",
          "name": "stderr",
          "text": [
            "\n"
          ]
        },
        {
          "output_type": "stream",
          "name": "stdout",
          "text": [
            "2023-09-24 20:19:33,192 epoch 4 - iter 4/48 - loss 0.11812275 - time (sec): 4.95 - samples/sec: 1232.67 - lr: 0.000039\n",
            "2023-09-24 20:19:37,753 epoch 4 - iter 8/48 - loss 0.12271959 - time (sec): 9.51 - samples/sec: 1288.00 - lr: 0.000038\n",
            "2023-09-24 20:19:41,338 epoch 4 - iter 12/48 - loss 0.12172099 - time (sec): 13.09 - samples/sec: 1410.40 - lr: 0.000038\n",
            "2023-09-24 20:19:45,372 epoch 4 - iter 16/48 - loss 0.11917413 - time (sec): 17.13 - samples/sec: 1436.74 - lr: 0.000037\n",
            "2023-09-24 20:19:50,289 epoch 4 - iter 20/48 - loss 0.12001025 - time (sec): 22.05 - samples/sec: 1397.51 - lr: 0.000037\n",
            "2023-09-24 20:19:54,738 epoch 4 - iter 24/48 - loss 0.11968905 - time (sec): 26.49 - samples/sec: 1393.58 - lr: 0.000036\n",
            "2023-09-24 20:19:59,469 epoch 4 - iter 28/48 - loss 0.11519499 - time (sec): 31.23 - samples/sec: 1370.47 - lr: 0.000036\n",
            "2023-09-24 20:20:03,552 epoch 4 - iter 32/48 - loss 0.11330544 - time (sec): 35.31 - samples/sec: 1383.74 - lr: 0.000035\n",
            "2023-09-24 20:20:07,666 epoch 4 - iter 36/48 - loss 0.11458711 - time (sec): 39.42 - samples/sec: 1396.50 - lr: 0.000035\n",
            "2023-09-24 20:20:12,202 epoch 4 - iter 40/48 - loss 0.11892615 - time (sec): 43.96 - samples/sec: 1390.44 - lr: 0.000035\n",
            "2023-09-24 20:20:16,453 epoch 4 - iter 44/48 - loss 0.11773453 - time (sec): 48.21 - samples/sec: 1395.92 - lr: 0.000034\n",
            "2023-09-24 20:20:20,881 epoch 4 - iter 48/48 - loss 0.11594640 - time (sec): 52.64 - samples/sec: 1392.01 - lr: 0.000034\n",
            "2023-09-24 20:20:20,887 ----------------------------------------------------------------------------------------------------\n",
            "2023-09-24 20:20:20,890 EPOCH 4 done: loss 0.1159 - lr 0.000034\n"
          ]
        },
        {
          "output_type": "stream",
          "name": "stderr",
          "text": [
            "100%|██████████| 6/6 [00:03<00:00,  1.58it/s]"
          ]
        },
        {
          "output_type": "stream",
          "name": "stdout",
          "text": [
            "2023-09-24 20:20:24,691 Evaluating as a multi-label problem: False\n",
            "2023-09-24 20:20:24,714 DEV : loss 0.13611148297786713 - f1-score (micro avg)  0.5987\n",
            "2023-09-24 20:20:24,729 ----------------------------------------------------------------------------------------------------\n"
          ]
        },
        {
          "output_type": "stream",
          "name": "stderr",
          "text": [
            "\n"
          ]
        },
        {
          "output_type": "stream",
          "name": "stdout",
          "text": [
            "2023-09-24 20:20:28,726 epoch 5 - iter 4/48 - loss 0.08270656 - time (sec): 3.99 - samples/sec: 1518.65 - lr: 0.000033\n",
            "2023-09-24 20:20:32,386 epoch 5 - iter 8/48 - loss 0.08480999 - time (sec): 7.65 - samples/sec: 1595.20 - lr: 0.000033\n",
            "2023-09-24 20:20:36,306 epoch 5 - iter 12/48 - loss 0.08386787 - time (sec): 11.57 - samples/sec: 1596.88 - lr: 0.000032\n",
            "2023-09-24 20:20:40,704 epoch 5 - iter 16/48 - loss 0.08961045 - time (sec): 15.97 - samples/sec: 1540.24 - lr: 0.000032\n",
            "2023-09-24 20:20:45,851 epoch 5 - iter 20/48 - loss 0.08965993 - time (sec): 21.12 - samples/sec: 1458.89 - lr: 0.000031\n",
            "2023-09-24 20:20:50,449 epoch 5 - iter 24/48 - loss 0.08840117 - time (sec): 25.72 - samples/sec: 1443.27 - lr: 0.000031\n",
            "2023-09-24 20:20:54,692 epoch 5 - iter 28/48 - loss 0.08709687 - time (sec): 29.96 - samples/sec: 1436.77 - lr: 0.000030\n",
            "2023-09-24 20:20:59,967 epoch 5 - iter 32/48 - loss 0.08672790 - time (sec): 35.23 - samples/sec: 1393.03 - lr: 0.000030\n",
            "2023-09-24 20:21:03,603 epoch 5 - iter 36/48 - loss 0.08793902 - time (sec): 38.87 - samples/sec: 1417.30 - lr: 0.000030\n",
            "2023-09-24 20:21:07,482 epoch 5 - iter 40/48 - loss 0.08780340 - time (sec): 42.75 - samples/sec: 1430.78 - lr: 0.000029\n",
            "2023-09-24 20:21:12,039 epoch 5 - iter 44/48 - loss 0.08697574 - time (sec): 47.31 - samples/sec: 1421.13 - lr: 0.000029\n",
            "2023-09-24 20:21:16,266 epoch 5 - iter 48/48 - loss 0.08728031 - time (sec): 51.53 - samples/sec: 1421.86 - lr: 0.000028\n",
            "2023-09-24 20:21:16,273 ----------------------------------------------------------------------------------------------------\n",
            "2023-09-24 20:21:16,275 EPOCH 5 done: loss 0.0873 - lr 0.000028\n"
          ]
        },
        {
          "output_type": "stream",
          "name": "stderr",
          "text": [
            "100%|██████████| 6/6 [00:03<00:00,  1.54it/s]"
          ]
        },
        {
          "output_type": "stream",
          "name": "stdout",
          "text": [
            "2023-09-24 20:21:20,198 Evaluating as a multi-label problem: False\n",
            "2023-09-24 20:21:20,222 DEV : loss 0.13003411889076233 - f1-score (micro avg)  0.6258\n",
            "2023-09-24 20:21:20,235 ----------------------------------------------------------------------------------------------------\n"
          ]
        },
        {
          "output_type": "stream",
          "name": "stderr",
          "text": [
            "\n"
          ]
        },
        {
          "output_type": "stream",
          "name": "stdout",
          "text": [
            "2023-09-24 20:21:24,152 epoch 6 - iter 4/48 - loss 0.04858793 - time (sec): 3.92 - samples/sec: 1542.19 - lr: 0.000028\n",
            "2023-09-24 20:21:28,239 epoch 6 - iter 8/48 - loss 0.06353514 - time (sec): 8.00 - samples/sec: 1536.31 - lr: 0.000027\n",
            "2023-09-24 20:21:31,927 epoch 6 - iter 12/48 - loss 0.06635338 - time (sec): 11.69 - samples/sec: 1558.54 - lr: 0.000027\n",
            "2023-09-24 20:21:36,300 epoch 6 - iter 16/48 - loss 0.06708908 - time (sec): 16.06 - samples/sec: 1513.63 - lr: 0.000026\n",
            "2023-09-24 20:21:40,314 epoch 6 - iter 20/48 - loss 0.06855053 - time (sec): 20.08 - samples/sec: 1518.07 - lr: 0.000026\n",
            "2023-09-24 20:21:44,503 epoch 6 - iter 24/48 - loss 0.06803013 - time (sec): 24.27 - samples/sec: 1506.13 - lr: 0.000026\n",
            "2023-09-24 20:21:49,539 epoch 6 - iter 28/48 - loss 0.06885310 - time (sec): 29.30 - samples/sec: 1458.41 - lr: 0.000025\n",
            "2023-09-24 20:21:54,249 epoch 6 - iter 32/48 - loss 0.06999568 - time (sec): 34.01 - samples/sec: 1433.71 - lr: 0.000025\n",
            "2023-09-24 20:21:58,851 epoch 6 - iter 36/48 - loss 0.07067953 - time (sec): 38.61 - samples/sec: 1421.33 - lr: 0.000024\n",
            "2023-09-24 20:22:02,916 epoch 6 - iter 40/48 - loss 0.07198831 - time (sec): 42.68 - samples/sec: 1429.27 - lr: 0.000024\n",
            "2023-09-24 20:22:06,889 epoch 6 - iter 44/48 - loss 0.07189223 - time (sec): 46.65 - samples/sec: 1438.84 - lr: 0.000023\n",
            "2023-09-24 20:22:10,697 epoch 6 - iter 48/48 - loss 0.07104766 - time (sec): 50.46 - samples/sec: 1452.08 - lr: 0.000023\n",
            "2023-09-24 20:22:10,704 ----------------------------------------------------------------------------------------------------\n",
            "2023-09-24 20:22:10,709 EPOCH 6 done: loss 0.0710 - lr 0.000023\n"
          ]
        },
        {
          "output_type": "stream",
          "name": "stderr",
          "text": [
            "100%|██████████| 6/6 [00:03<00:00,  1.66it/s]"
          ]
        },
        {
          "output_type": "stream",
          "name": "stdout",
          "text": [
            "2023-09-24 20:22:14,351 Evaluating as a multi-label problem: False\n",
            "2023-09-24 20:22:14,367 DEV : loss 0.1369745284318924 - f1-score (micro avg)  0.6306\n",
            "2023-09-24 20:22:14,376 ----------------------------------------------------------------------------------------------------\n"
          ]
        },
        {
          "output_type": "stream",
          "name": "stderr",
          "text": [
            "\n"
          ]
        },
        {
          "output_type": "stream",
          "name": "stdout",
          "text": [
            "2023-09-24 20:22:18,608 epoch 7 - iter 4/48 - loss 0.05347093 - time (sec): 4.23 - samples/sec: 1387.24 - lr: 0.000022\n",
            "2023-09-24 20:22:22,713 epoch 7 - iter 8/48 - loss 0.05825195 - time (sec): 8.33 - samples/sec: 1418.62 - lr: 0.000022\n",
            "2023-09-24 20:22:26,992 epoch 7 - iter 12/48 - loss 0.05394096 - time (sec): 12.61 - samples/sec: 1427.61 - lr: 0.000021\n",
            "2023-09-24 20:22:31,953 epoch 7 - iter 16/48 - loss 0.05703863 - time (sec): 17.57 - samples/sec: 1371.94 - lr: 0.000021\n",
            "2023-09-24 20:22:35,831 epoch 7 - iter 20/48 - loss 0.05643927 - time (sec): 21.45 - samples/sec: 1407.79 - lr: 0.000021\n",
            "2023-09-24 20:22:40,387 epoch 7 - iter 24/48 - loss 0.05576627 - time (sec): 26.01 - samples/sec: 1397.17 - lr: 0.000020\n",
            "2023-09-24 20:22:44,433 epoch 7 - iter 28/48 - loss 0.05973428 - time (sec): 30.05 - samples/sec: 1413.06 - lr: 0.000020\n",
            "2023-09-24 20:22:49,869 epoch 7 - iter 32/48 - loss 0.05849898 - time (sec): 35.49 - samples/sec: 1368.43 - lr: 0.000019\n",
            "2023-09-24 20:22:53,960 epoch 7 - iter 36/48 - loss 0.05786501 - time (sec): 39.58 - samples/sec: 1382.35 - lr: 0.000019\n",
            "2023-09-24 20:22:57,740 epoch 7 - iter 40/48 - loss 0.05636693 - time (sec): 43.36 - samples/sec: 1402.23 - lr: 0.000018\n",
            "2023-09-24 20:23:02,527 epoch 7 - iter 44/48 - loss 0.05787139 - time (sec): 48.15 - samples/sec: 1392.71 - lr: 0.000018\n",
            "2023-09-24 20:23:07,144 epoch 7 - iter 48/48 - loss 0.05734594 - time (sec): 52.77 - samples/sec: 1388.62 - lr: 0.000017\n",
            "2023-09-24 20:23:07,148 ----------------------------------------------------------------------------------------------------\n",
            "2023-09-24 20:23:07,150 EPOCH 7 done: loss 0.0573 - lr 0.000017\n"
          ]
        },
        {
          "output_type": "stream",
          "name": "stderr",
          "text": [
            "100%|██████████| 6/6 [00:03<00:00,  1.97it/s]"
          ]
        },
        {
          "output_type": "stream",
          "name": "stdout",
          "text": [
            "2023-09-24 20:23:10,217 Evaluating as a multi-label problem: False\n",
            "2023-09-24 20:23:10,234 DEV : loss 0.1462002843618393 - f1-score (micro avg)  0.6291\n",
            "2023-09-24 20:23:10,243 ----------------------------------------------------------------------------------------------------\n"
          ]
        },
        {
          "output_type": "stream",
          "name": "stderr",
          "text": [
            "\n"
          ]
        },
        {
          "output_type": "stream",
          "name": "stdout",
          "text": [
            "2023-09-24 20:23:14,188 epoch 8 - iter 4/48 - loss 0.04757033 - time (sec): 3.94 - samples/sec: 1508.07 - lr: 0.000017\n",
            "2023-09-24 20:23:18,225 epoch 8 - iter 8/48 - loss 0.04481067 - time (sec): 7.98 - samples/sec: 1494.62 - lr: 0.000016\n",
            "2023-09-24 20:23:22,333 epoch 8 - iter 12/48 - loss 0.04508964 - time (sec): 12.09 - samples/sec: 1497.54 - lr: 0.000016\n",
            "2023-09-24 20:23:25,877 epoch 8 - iter 16/48 - loss 0.04629205 - time (sec): 15.63 - samples/sec: 1546.78 - lr: 0.000016\n",
            "2023-09-24 20:23:30,257 epoch 8 - iter 20/48 - loss 0.04985846 - time (sec): 20.01 - samples/sec: 1517.01 - lr: 0.000015\n",
            "2023-09-24 20:23:34,167 epoch 8 - iter 24/48 - loss 0.04881717 - time (sec): 23.92 - samples/sec: 1526.45 - lr: 0.000015\n",
            "2023-09-24 20:23:38,762 epoch 8 - iter 28/48 - loss 0.04843294 - time (sec): 28.51 - samples/sec: 1491.15 - lr: 0.000014\n",
            "2023-09-24 20:23:44,156 epoch 8 - iter 32/48 - loss 0.04763228 - time (sec): 33.91 - samples/sec: 1437.08 - lr: 0.000014\n",
            "2023-09-24 20:23:47,883 epoch 8 - iter 36/48 - loss 0.04814960 - time (sec): 37.64 - samples/sec: 1451.99 - lr: 0.000013\n",
            "2023-09-24 20:23:52,385 epoch 8 - iter 40/48 - loss 0.04781307 - time (sec): 42.14 - samples/sec: 1444.13 - lr: 0.000013\n",
            "2023-09-24 20:23:56,450 epoch 8 - iter 44/48 - loss 0.04832719 - time (sec): 46.20 - samples/sec: 1447.89 - lr: 0.000012\n",
            "2023-09-24 20:24:01,296 epoch 8 - iter 48/48 - loss 0.04859455 - time (sec): 51.05 - samples/sec: 1435.33 - lr: 0.000012\n",
            "2023-09-24 20:24:01,302 ----------------------------------------------------------------------------------------------------\n",
            "2023-09-24 20:24:01,304 EPOCH 8 done: loss 0.0486 - lr 0.000012\n"
          ]
        },
        {
          "output_type": "stream",
          "name": "stderr",
          "text": [
            "100%|██████████| 6/6 [00:03<00:00,  1.97it/s]"
          ]
        },
        {
          "output_type": "stream",
          "name": "stdout",
          "text": [
            "2023-09-24 20:24:04,368 Evaluating as a multi-label problem: False\n",
            "2023-09-24 20:24:04,384 DEV : loss 0.14900630712509155 - f1-score (micro avg)  0.652\n",
            "2023-09-24 20:24:04,393 ----------------------------------------------------------------------------------------------------\n"
          ]
        },
        {
          "output_type": "stream",
          "name": "stderr",
          "text": [
            "\n"
          ]
        },
        {
          "output_type": "stream",
          "name": "stdout",
          "text": [
            "2023-09-24 20:24:09,323 epoch 9 - iter 4/48 - loss 0.04270381 - time (sec): 4.93 - samples/sec: 1244.67 - lr: 0.000011\n",
            "2023-09-24 20:24:13,881 epoch 9 - iter 8/48 - loss 0.04009955 - time (sec): 9.48 - samples/sec: 1278.54 - lr: 0.000011\n",
            "2023-09-24 20:24:18,484 epoch 9 - iter 12/48 - loss 0.03905215 - time (sec): 14.09 - samples/sec: 1297.24 - lr: 0.000011\n",
            "2023-09-24 20:24:22,425 epoch 9 - iter 16/48 - loss 0.04150960 - time (sec): 18.03 - samples/sec: 1347.26 - lr: 0.000010\n",
            "2023-09-24 20:24:26,810 epoch 9 - iter 20/48 - loss 0.04122218 - time (sec): 22.41 - samples/sec: 1355.97 - lr: 0.000010\n",
            "2023-09-24 20:24:31,461 epoch 9 - iter 24/48 - loss 0.04038085 - time (sec): 27.06 - samples/sec: 1345.98 - lr: 0.000009\n",
            "2023-09-24 20:24:34,938 epoch 9 - iter 28/48 - loss 0.04122336 - time (sec): 30.54 - samples/sec: 1387.77 - lr: 0.000009\n",
            "2023-09-24 20:24:39,178 epoch 9 - iter 32/48 - loss 0.03934472 - time (sec): 34.78 - samples/sec: 1387.98 - lr: 0.000008\n",
            "2023-09-24 20:24:43,613 epoch 9 - iter 36/48 - loss 0.03855040 - time (sec): 39.22 - samples/sec: 1396.23 - lr: 0.000008\n",
            "2023-09-24 20:24:47,640 epoch 9 - iter 40/48 - loss 0.03876447 - time (sec): 43.24 - samples/sec: 1406.90 - lr: 0.000007\n",
            "2023-09-24 20:24:52,202 epoch 9 - iter 44/48 - loss 0.03860718 - time (sec): 47.80 - samples/sec: 1404.05 - lr: 0.000007\n",
            "2023-09-24 20:24:55,738 epoch 9 - iter 48/48 - loss 0.03968363 - time (sec): 51.34 - samples/sec: 1427.16 - lr: 0.000006\n",
            "2023-09-24 20:24:55,742 ----------------------------------------------------------------------------------------------------\n",
            "2023-09-24 20:24:55,744 EPOCH 9 done: loss 0.0397 - lr 0.000006\n"
          ]
        },
        {
          "output_type": "stream",
          "name": "stderr",
          "text": [
            "100%|██████████| 6/6 [00:03<00:00,  1.75it/s]"
          ]
        },
        {
          "output_type": "stream",
          "name": "stdout",
          "text": [
            "2023-09-24 20:24:59,196 Evaluating as a multi-label problem: False\n",
            "2023-09-24 20:24:59,215 DEV : loss 0.15591107308864594 - f1-score (micro avg)  0.6363\n",
            "2023-09-24 20:24:59,225 ----------------------------------------------------------------------------------------------------\n"
          ]
        },
        {
          "output_type": "stream",
          "name": "stderr",
          "text": [
            "\n"
          ]
        },
        {
          "output_type": "stream",
          "name": "stdout",
          "text": [
            "2023-09-24 20:25:03,814 epoch 10 - iter 4/48 - loss 0.03614801 - time (sec): 4.58 - samples/sec: 1319.20 - lr: 0.000006\n",
            "2023-09-24 20:25:08,096 epoch 10 - iter 8/48 - loss 0.03623441 - time (sec): 8.87 - samples/sec: 1385.53 - lr: 0.000006\n",
            "2023-09-24 20:25:12,423 epoch 10 - iter 12/48 - loss 0.03396727 - time (sec): 13.19 - samples/sec: 1385.83 - lr: 0.000005\n",
            "2023-09-24 20:25:16,608 epoch 10 - iter 16/48 - loss 0.03459130 - time (sec): 17.38 - samples/sec: 1392.48 - lr: 0.000005\n",
            "2023-09-24 20:25:21,247 epoch 10 - iter 20/48 - loss 0.03434782 - time (sec): 22.02 - samples/sec: 1375.15 - lr: 0.000004\n",
            "2023-09-24 20:25:25,645 epoch 10 - iter 24/48 - loss 0.03273576 - time (sec): 26.42 - samples/sec: 1378.82 - lr: 0.000004\n",
            "2023-09-24 20:25:29,325 epoch 10 - iter 28/48 - loss 0.03367364 - time (sec): 30.10 - samples/sec: 1405.09 - lr: 0.000003\n",
            "2023-09-24 20:25:34,050 epoch 10 - iter 32/48 - loss 0.03310148 - time (sec): 34.82 - samples/sec: 1394.11 - lr: 0.000003\n",
            "2023-09-24 20:25:38,945 epoch 10 - iter 36/48 - loss 0.03255336 - time (sec): 39.71 - samples/sec: 1376.89 - lr: 0.000002\n",
            "2023-09-24 20:25:43,053 epoch 10 - iter 40/48 - loss 0.03432670 - time (sec): 43.82 - samples/sec: 1391.48 - lr: 0.000002\n",
            "2023-09-24 20:25:47,336 epoch 10 - iter 44/48 - loss 0.03462857 - time (sec): 48.11 - samples/sec: 1396.03 - lr: 0.000001\n",
            "2023-09-24 20:25:51,500 epoch 10 - iter 48/48 - loss 0.03528172 - time (sec): 52.27 - samples/sec: 1401.80 - lr: 0.000001\n",
            "2023-09-24 20:25:51,504 ----------------------------------------------------------------------------------------------------\n",
            "2023-09-24 20:25:51,506 EPOCH 10 done: loss 0.0353 - lr 0.000001\n"
          ]
        },
        {
          "output_type": "stream",
          "name": "stderr",
          "text": [
            "100%|██████████| 6/6 [00:04<00:00,  1.49it/s]"
          ]
        },
        {
          "output_type": "stream",
          "name": "stdout",
          "text": [
            "2023-09-24 20:25:55,550 Evaluating as a multi-label problem: False\n",
            "2023-09-24 20:25:55,578 DEV : loss 0.16027101874351501 - f1-score (micro avg)  0.6339\n"
          ]
        },
        {
          "output_type": "stream",
          "name": "stderr",
          "text": [
            "\n"
          ]
        },
        {
          "output_type": "stream",
          "name": "stdout",
          "text": [
            "2023-09-24 20:25:57,481 ----------------------------------------------------------------------------------------------------\n",
            "2023-09-24 20:25:57,489 Testing using last state of model ...\n"
          ]
        },
        {
          "output_type": "stream",
          "name": "stderr",
          "text": [
            "100%|██████████| 6/6 [00:02<00:00,  2.04it/s]"
          ]
        },
        {
          "output_type": "stream",
          "name": "stdout",
          "text": [
            "2023-09-24 20:26:00,455 Evaluating as a multi-label problem: False\n",
            "2023-09-24 20:26:00,476 0.5747\t0.6373\t0.6044\t0.4517\n",
            "2023-09-24 20:26:00,477 \n",
            "Results:\n",
            "- F-score (micro) 0.6044\n",
            "- F-score (macro) 0.5433\n",
            "- Accuracy 0.4517\n",
            "\n",
            "By class:\n",
            "              precision    recall  f1-score   support\n",
            "\n",
            "      PERSON     0.7569    0.8209    0.7876       201\n",
            "         ORG     0.4713    0.4966    0.4837       149\n",
            "    LOCATION     0.5500    0.5946    0.5714        74\n",
            "        DATE     0.2838    0.3962    0.3307        53\n",
            "\n",
            "   micro avg     0.5747    0.6373    0.6044       477\n",
            "   macro avg     0.5155    0.5771    0.5433       477\n",
            "weighted avg     0.5830    0.6373    0.6084       477\n",
            "\n",
            "2023-09-24 20:26:00,482 ----------------------------------------------------------------------------------------------------\n"
          ]
        },
        {
          "output_type": "stream",
          "name": "stderr",
          "text": [
            "\n"
          ]
        },
        {
          "output_type": "execute_result",
          "data": {
            "text/plain": [
              "{'test_score': 0.6043737574552683,\n",
              " 'dev_score_history': [0.29352780309936183,\n",
              "  0.5638998682476944,\n",
              "  0.5924967658473479,\n",
              "  0.5986696230598669,\n",
              "  0.62582056892779,\n",
              "  0.6306098964326813,\n",
              "  0.6290672451193058,\n",
              "  0.6519823788546256,\n",
              "  0.6362694300518135,\n",
              "  0.6339381003201707],\n",
              " 'train_loss_history': [0.8916702703664834,\n",
              "  0.21932473314395443,\n",
              "  0.1523036105050467,\n",
              "  0.11594639986489899,\n",
              "  0.08728030946450224,\n",
              "  0.07104766294677414,\n",
              "  0.05734593832593048,\n",
              "  0.04859454562302461,\n",
              "  0.03968363003981193,\n",
              "  0.035281722130948816],\n",
              " 'dev_loss_history': [0.250569224357605,\n",
              "  0.15357275307178497,\n",
              "  0.13580676913261414,\n",
              "  0.13611148297786713,\n",
              "  0.13003411889076233,\n",
              "  0.1369745284318924,\n",
              "  0.1462002843618393,\n",
              "  0.14900630712509155,\n",
              "  0.15591107308864594,\n",
              "  0.16027101874351501]}"
            ]
          },
          "metadata": {},
          "execution_count": 20
        }
      ]
    },
    {
      "cell_type": "code",
      "source": [
        "history = defaultdict(list)\n",
        "history['train_loss_history'] = [\n",
        "    0.8916702703664834,\n",
        "    0.21932473314395443,\n",
        "    0.1523036105050467,\n",
        "    0.11594639986489899,\n",
        "    0.08728030946450224,\n",
        "    0.07104766294677414,\n",
        "    0.05734593832593048,\n",
        "    0.04859454562302461,\n",
        "    0.03968363003981193,\n",
        "    0.035281722130948816\n",
        "]\n",
        "history['dev_loss_history'] = [\n",
        "    0.250569224357605,\n",
        "    0.15357275307178497,\n",
        "    0.13580676913261414,\n",
        "    0.13611148297786713,\n",
        "    0.13003411889076233,\n",
        "    0.1369745284318924,\n",
        "    0.1462002843618393,\n",
        "    0.14900630712509155,\n",
        "    0.15591107308864594,\n",
        "    0.16027101874351501\n",
        "  ]\n",
        "\n",
        "plt.figure()\n",
        "plt.plot(history['train_loss_history'], label='train loss')\n",
        "plt.plot(history['dev_loss_history'], label='val loss')\n",
        "plt.title('Training history')\n",
        "plt.ylabel('Loss')\n",
        "plt.xlabel('Epoch')\n",
        "plt.legend()\n",
        "plt.ylim([0, 1])"
      ],
      "metadata": {
        "colab": {
          "base_uri": "https://localhost:8080/",
          "height": 489
        },
        "id": "ANPeSOuQ2Ly7",
        "outputId": "e70bb753-02cf-4f59-ef96-c1fe5e7929e0"
      },
      "execution_count": 21,
      "outputs": [
        {
          "output_type": "execute_result",
          "data": {
            "text/plain": [
              "(0.0, 1.0)"
            ]
          },
          "metadata": {},
          "execution_count": 21
        },
        {
          "output_type": "display_data",
          "data": {
            "text/plain": [
              "<Figure size 640x480 with 1 Axes>"
            ],
            "image/png": "[encoded data removed]"
          },
          "metadata": {}
        }
      ]
    },
    {
      "cell_type": "code",
      "source": [
        "sentences = corpus.test\n",
        "sentences"
      ],
      "metadata": {
        "colab": {
          "base_uri": "https://localhost:8080/"
        },
        "id": "B_l723mGNGZ1",
        "outputId": "ef9d0f4f-575a-49fc-8ddb-d31550170691"
      },
      "execution_count": 22,
      "outputs": [
        {
          "output_type": "execute_result",
          "data": {
            "text/plain": [
              "<torch.utils.data.dataset.ConcatDataset at 0x7ca51b742d40>"
            ]
          },
          "metadata": {},
          "execution_count": 22
        }
      ]
    },
    {
      "cell_type": "code",
      "source": [
        "# load tagger\n",
        "tagger: SequenceTagger = SequenceTagger.load('models/taggers/ner/202309242015/final-model.pt')"
      ],
      "metadata": {
        "colab": {
          "base_uri": "https://localhost:8080/"
        },
        "id": "moehCNdINK7h",
        "outputId": "c3d030d9-011a-4075-f992-e41caccecec7"
      },
      "execution_count": 23,
      "outputs": [
        {
          "output_type": "stream",
          "name": "stdout",
          "text": [
            "2023-09-24 20:30:10,786 SequenceTagger predicts: Dictionary with 9 tags: O, B-PERSON, I-PERSON, B-ORG, I-ORG, B-LOCATION, I-LOCATION, B-DATE, I-DATE\n"
          ]
        }
      ]
    },
    {
      "cell_type": "code",
      "source": [
        "test_labels = get_test_labels(sentences)\n",
        "test_labels[:3]"
      ],
      "metadata": {
        "colab": {
          "base_uri": "https://localhost:8080/"
        },
        "id": "hid9lrs718RJ",
        "outputId": "03ffc4af-ec4a-4418-bf09-94477bde8c29"
      },
      "execution_count": 25,
      "outputs": [
        {
          "output_type": "stream",
          "name": "stdout",
          "text": [
            "Pretty printing has been turned OFF\n"
          ]
        },
        {
          "output_type": "execute_result",
          "data": {
            "text/plain": [
              "[['O', 'O', 'O', 'O', 'O', 'O', 'O', 'O', 'O', 'O', 'O', 'O', 'O', 'O', 'O', 'O', 'O', 'O', 'O', 'O', 'O', 'B-PERSON', 'O', 'O', 'O', 'O', 'O', 'O', 'O', 'O', 'O', 'O', 'O', 'O', 'O', 'O', 'O', 'O', 'O', 'O', 'O', 'O', 'O', 'O', 'O', 'O', 'B-ORG', 'O', 'O', 'O', 'O', 'O', 'O', 'O', 'O', 'O', 'O', 'O', 'O', 'O', 'O', 'O', 'O', 'O', 'O', 'O', 'O', 'O', 'O', 'O', 'O', 'O', 'O', 'O', 'O', 'O', 'O', 'O', 'O', 'O', 'O', 'O', 'O', 'O', 'O', 'O', 'O', 'O', 'O', 'O', 'O', 'O', 'O', 'O', 'O', 'O', 'O', 'O', 'O', 'O', 'O', 'O', 'O', 'O', 'O', 'O', 'O', 'O', 'O'], ['B-PERSON', 'O', 'B-ORG', 'O', 'O', 'O', 'O', 'O', 'O', 'O', 'O', 'O', 'O', 'O', 'O', 'O', 'O', 'O', 'O', 'O', 'O', 'O', 'O', 'O', 'O', 'O', 'O', 'O', 'O', 'O', 'O', 'O', 'O', 'O', 'O', 'O', 'O', 'B-ORG', 'O', 'O', 'O', 'O', 'O', 'O', 'O', 'O', 'O', 'O', 'O', 'O', 'O', 'O', 'O', 'O', 'O', 'O', 'O', 'O', 'O', 'O', 'O', 'O', 'O', 'O', 'O', 'O', 'O', 'O', 'O', 'O', 'O', 'O', 'O', 'B-ORG', 'B-PERSON', 'B-ORG', 'I-ORG', 'O', 'O'], ['O', 'O', 'O', 'O', 'O', 'O', 'O', 'O', 'O', 'O', 'O', 'O', 'O', 'O', 'O', 'O', 'O', 'O', 'O', 'O', 'O', 'O', 'O', 'B-ORG', 'O', 'O', 'O', 'O', 'O', 'B-ORG', 'O', 'B-PERSON', 'O', 'B-ORG', 'I-ORG', 'O', 'B-ORG', 'I-ORG', 'O', 'B-ORG', 'O', 'O', 'O', 'O', 'O', 'O', 'O', 'O', 'O', 'O', 'O', 'B-LOCATION', 'O', 'O', 'O', 'O', 'O', 'O', 'O', 'O', 'O', 'O', 'O', 'O', 'O', 'B-PERSON', 'O', 'O', 'O', 'O', 'O', 'O', 'O', 'O', 'O', 'O', 'O', 'O', 'O', 'O', 'O', 'O', 'O', 'O', 'O', 'O', 'O', 'O', 'O', 'O', 'O', 'O', 'O', 'O', 'O', 'O', 'O', 'O', 'O', 'O', 'O', 'O', 'O', 'O', 'O', 'O', 'O', 'O', 'O', 'O', 'O', 'O', 'O', 'O', 'O', 'B-ORG', 'O', 'O', 'O', 'O', 'O', 'O', 'O', 'B-PERSON', 'B-PERSON', 'B-PERSON', 'B-PERSON', 'B-PERSON']]"
            ]
          },
          "metadata": {},
          "execution_count": 25
        }
      ]
    },
    {
      "cell_type": "code",
      "source": [
        "pred_labels = get_pred_labels(sentences, tagger)\n",
        "pred_labels[:3]"
      ],
      "metadata": {
        "colab": {
          "base_uri": "https://localhost:8080/"
        },
        "id": "Qdy8JLXW4zui",
        "outputId": "50b9cad3-67af-4d3b-e272-414dad3cc6d2"
      },
      "execution_count": 26,
      "outputs": [
        {
          "output_type": "stream",
          "name": "stderr",
          "text": [
            "Batch inference: 100%|██████████| 3/3 [00:02<00:00,  1.04it/s]\n"
          ]
        },
        {
          "output_type": "execute_result",
          "data": {
            "text/plain": [
              "[['B-PERSON', 'I-PERSON', 'O', 'O', 'O', 'O', 'O', 'O', 'O', 'O', 'O', 'O', 'O', 'B-DATE', 'I-DATE', 'O', 'O', 'O', 'O', 'O', 'O', 'B-PERSON', 'O', 'O', 'O', 'O', 'O', 'O', 'O', 'O', 'O', 'O', 'O', 'O', 'O', 'O', 'O', 'B-DATE', 'O', 'B-PERSON', 'O', 'O', 'O', 'B-PERSON', 'O', 'O', 'B-ORG', 'B-ORG', 'O', 'O', 'O', 'O', 'O', 'O', 'O', 'O', 'O', 'O', 'O', 'O', 'O', 'O', 'O', 'O', 'O', 'O', 'O', 'O', 'O', 'O', 'O', 'O', 'O', 'O', 'O', 'O', 'O', 'O', 'O', 'O', 'O', 'O', 'O', 'O', 'O', 'O', 'O', 'O', 'O', 'O', 'O', 'O', 'O', 'O', 'O', 'O', 'O', 'O', 'O', 'O', 'O', 'O', 'O', 'O', 'O', 'O', 'O', 'O', 'O'], ['B-PERSON', 'O', 'B-PERSON', 'O', 'O', 'O', 'O', 'O', 'O', 'O', 'O', 'O', 'O', 'O', 'O', 'O', 'O', 'O', 'O', 'O', 'O', 'O', 'O', 'O', 'O', 'O', 'O', 'O', 'O', 'O', 'O', 'O', 'O', 'O', 'O', 'O', 'O', 'B-ORG', 'O', 'O', 'O', 'O', 'O', 'O', 'O', 'O', 'O', 'O', 'O', 'O', 'O', 'O', 'O', 'O', 'O', 'O', 'O', 'O', 'O', 'O', 'O', 'O', 'O', 'O', 'O', 'O', 'O', 'O', 'O', 'O', 'O', 'B-PERSON', 'O', 'B-PERSON', 'O', 'O', 'O', 'B-PERSON', 'O'], ['O', 'O', 'O', 'O', 'O', 'O', 'O', 'O', 'O', 'O', 'O', 'O', 'O', 'O', 'O', 'O', 'O', 'O', 'O', 'O', 'O', 'O', 'O', 'O', 'O', 'O', 'O', 'O', 'O', 'O', 'O', 'O', 'O', 'B-ORG', 'B-LOCATION', 'O', 'B-ORG', 'I-ORG', 'O', 'B-PERSON', 'O', 'O', 'O', 'O', 'O', 'O', 'O', 'O', 'O', 'O', 'O', 'B-LOCATION', 'O', 'O', 'O', 'O', 'O', 'O', 'O', 'O', 'O', 'O', 'O', 'O', 'O', 'B-PERSON', 'O', 'O', 'O', 'B-DATE', 'B-DATE', 'B-DATE', 'O', 'O', 'O', 'O', 'O', 'O', 'O', 'O', 'O', 'O', 'O', 'O', 'O', 'O', 'O', 'O', 'O', 'O', 'O', 'O', 'O', 'O', 'O', 'O', 'O', 'O', 'O', 'O', 'O', 'O', 'O', 'O', 'O', 'B-ORG', 'O', 'O', 'O', 'O', 'O', 'O', 'O', 'O', 'O', 'B-ORG', 'O', 'O', 'O', 'O', 'O', 'O', 'O', 'B-PERSON', 'B-PERSON', 'B-PERSON', 'B-PERSON', 'B-PERSON']]"
            ]
          },
          "metadata": {},
          "execution_count": 26
        }
      ]
    },
    {
      "cell_type": "code",
      "source": [
        "_test_labels = numpy.concatenate([numpy.array(i) for i in test_labels])\n",
        "_test_labels"
      ],
      "metadata": {
        "colab": {
          "base_uri": "https://localhost:8080/"
        },
        "id": "Rr0wZxU_4zsf",
        "outputId": "3cfad713-23cf-4805-a2a5-d73d418ec844"
      },
      "execution_count": 27,
      "outputs": [
        {
          "output_type": "execute_result",
          "data": {
            "text/plain": [
              "array(['O', 'O', 'O', ..., 'O', 'O', 'B-PERSON'], dtype='<U10')"
            ]
          },
          "metadata": {},
          "execution_count": 27
        }
      ]
    },
    {
      "cell_type": "code",
      "source": [
        "_pred_labels = numpy.concatenate([numpy.array(i) for i in pred_labels])\n",
        "_pred_labels"
      ],
      "metadata": {
        "colab": {
          "base_uri": "https://localhost:8080/"
        },
        "id": "CrjPxRb14zqX",
        "outputId": "5a7c3702-7442-4cf5-cba5-5453eca8c713"
      },
      "execution_count": 28,
      "outputs": [
        {
          "output_type": "execute_result",
          "data": {
            "text/plain": [
              "array(['B-PERSON', 'I-PERSON', 'O', ..., 'O', 'O', 'B-PERSON'],\n",
              "      dtype='<U10')"
            ]
          },
          "metadata": {},
          "execution_count": 28
        }
      ]
    },
    {
      "cell_type": "code",
      "source": [
        "labels = ['B-DATE', 'B-LOCATION', 'B-ORG', 'B-PERSON', 'I-DATE', 'I-LOCATION', 'I-ORG', 'I-PERSON']\n",
        "print(classification_report(_test_labels, _pred_labels, labels=labels))"
      ],
      "metadata": {
        "colab": {
          "base_uri": "https://localhost:8080/"
        },
        "id": "3mxQSQIO18PU",
        "outputId": "75bdaae6-7ab7-4eb4-b807-c07d73ea2bc9"
      },
      "execution_count": 29,
      "outputs": [
        {
          "output_type": "stream",
          "name": "stdout",
          "text": [
            "              precision    recall  f1-score   support\n",
            "\n",
            "      B-DATE       0.31      0.43      0.36        53\n",
            "  B-LOCATION       0.59      0.64      0.61        74\n",
            "       B-ORG       0.57      0.60      0.59       149\n",
            "    B-PERSON       0.77      0.84      0.80       201\n",
            "      I-DATE       0.46      0.39      0.42        46\n",
            "  I-LOCATION       0.62      0.60      0.61        30\n",
            "       I-ORG       0.48      0.54      0.51        70\n",
            "    I-PERSON       0.88      0.85      0.87        68\n",
            "\n",
            "   micro avg       0.62      0.67      0.64       691\n",
            "   macro avg       0.59      0.61      0.60       691\n",
            "weighted avg       0.63      0.67      0.64       691\n",
            "\n"
          ]
        }
      ]
    },
    {
      "cell_type": "markdown",
      "source": [
        "**Model Prediction**"
      ],
      "metadata": {
        "id": "AyPP0lTNP7Vx"
      }
    },
    {
      "cell_type": "code",
      "source": [
        "# load the trained model with best F1-score\n",
        "\n",
        "model = SequenceTagger.load('models/taggers/ner/202309242015/final-model.pt')"
      ],
      "metadata": {
        "colab": {
          "base_uri": "https://localhost:8080/"
        },
        "id": "67482NNbFYro",
        "outputId": "cd64d858-8d3f-4fb9-add0-85028040baff"
      },
      "execution_count": 30,
      "outputs": [
        {
          "output_type": "stream",
          "name": "stdout",
          "text": [
            "2023-09-24 20:33:33,831 SequenceTagger predicts: Dictionary with 9 tags: O, B-PERSON, I-PERSON, B-ORG, I-ORG, B-LOCATION, I-LOCATION, B-DATE, I-DATE\n"
          ]
        }
      ]
    },
    {
      "cell_type": "code",
      "source": [
        "from flair.data import Sentence\n",
        "\n",
        "def predict(text):\n",
        "    \"\"\"\n",
        "    Function to predict entities\n",
        "    \"\"\"\n",
        "    sentence = Sentence(text)\n",
        "\n",
        "    # predict tags and print\n",
        "    model.predict(sentence)\n",
        "\n",
        "    entities = []\n",
        "    for label in sentence.get_labels():\n",
        "        entity = dict()\n",
        "        entity[\"word\"] = label.data_point.text\n",
        "        entity[\"label\"] = label.value\n",
        "        entity[\"confidence\"] = float(\"{0:.5f}\".format(label.score))\n",
        "        entities.append(entity)\n",
        "\n",
        "    return entities"
      ],
      "metadata": {
        "id": "XnAmQxDC533f"
      },
      "execution_count": 59,
      "outputs": []
    },
    {
      "cell_type": "code",
      "source": [
        "# Check sample test emails\n",
        "\n",
        "test = pd.read_csv('data/ner/test.csv')\n",
        "test"
      ],
      "metadata": {
        "colab": {
          "base_uri": "https://localhost:8080/",
          "height": 597
        },
        "id": "s8mqvYqn5qrI",
        "outputId": "e38ce2f9-a711-4e0a-9c25-821a1a366901"
      },
      "execution_count": 60,
      "outputs": [
        {
          "output_type": "execute_result",
          "data": {
            "text/plain": [
              "                                       message_id  \\\n",
              "0   <15886210.1075854965508.JavaMail.evans@thyme>   \n",
              "1   <17217905.1075853978006.JavaMail.evans@thyme>   \n",
              "2   <28372483.1075843343800.JavaMail.evans@thyme>   \n",
              "3    <7553175.1075863444700.JavaMail.evans@thyme>   \n",
              "4   <16687289.1075862330552.JavaMail.evans@thyme>   \n",
              "..                                            ...   \n",
              "91  <17780105.1075840540168.JavaMail.evans@thyme>   \n",
              "92  <16492427.1075847631885.JavaMail.evans@thyme>   \n",
              "93  <11901989.1075844026014.JavaMail.evans@thyme>   \n",
              "94  <17922592.1075839996237.JavaMail.evans@thyme>   \n",
              "95  <26340375.1075840808386.JavaMail.evans@thyme>   \n",
              "\n",
              "                                                 text  \\\n",
              "0   Allright fellas here's the gameplan . . . I'll...   \n",
              "1   Tina,\\nKoch never returned my calls. Based on ...   \n",
              "2   I wanted to follow-up with everyone following ...   \n",
              "3   Vince,\\n\\n  I agree with you that it's a lesso...   \n",
              "4   I trust everything is going well.  Please let ...   \n",
              "..                                                ...   \n",
              "91  Heidi,\\n\\nI have no way of being able to discu...   \n",
              "92  Teh rest of the parts for Phil's PC arrived to...   \n",
              "93  Hey guys thanks a million for supporting the g...   \n",
              "94  Keoni,\\nI am not concerned with the improperly...   \n",
              "95  I will be circulating in the next few minutes ...   \n",
              "\n",
              "                                             entities  \\\n",
              "0   [{'word': 'Kevin A. Boone', 'tag': 'PERSON'}, ...   \n",
              "1   [{'word': 'Tina', 'tag': 'PERSON'}, {'word': '...   \n",
              "2   [{'word': 'Steve M', 'tag': 'PERSON'}, {'word'...   \n",
              "3   [{'word': 'Vince', 'tag': 'PERSON'}, {'word': ...   \n",
              "4   [{'word': 'next Board meeting', 'tag': 'DATE'}...   \n",
              "..                                                ...   \n",
              "91  [{'word': 'Heidi', 'tag': 'PERSON'}, {'word': ...   \n",
              "92  [{'word': 'Phil', 'tag': 'PERSON'}, {'word': '...   \n",
              "93  [{'word': 'Next Wednesday August 16th', 'tag':...   \n",
              "94  [{'word': 'Keoni', 'tag': 'PERSON'}, {'word': ...   \n",
              "95  [{'word': 'Cris Sherman', 'tag': 'PERSON'}, {'...   \n",
              "\n",
              "                                           annotation  \n",
              "0   [('Kevin A. Boone', 'PERSON'), ('Matt', 'PERSO...  \n",
              "1   [('Tina', 'PERSON'), ('Koch', 'PERSON'), ('Cyn...  \n",
              "2   [('Steve M', 'PERSON'), ('Janine', 'PERSON'), ...  \n",
              "3   [('Vince', 'PERSON'), ('Frank', 'PERSON'), ('S...  \n",
              "4   [('next Board meeting', 'DATE'), ('2001', 'DAT...  \n",
              "..                                                ...  \n",
              "91  [('Heidi', 'PERSON'), ('Randall Chapman', 'PER...  \n",
              "92  [('Phil', 'PERSON'), ('Kathy', 'PERSON'), ('Al...  \n",
              "93  [('Next Wednesday August 16th', 'DATE'), ('41s...  \n",
              "94  [('Keoni', 'PERSON'), ('Bill', 'PERSON'), ('CA...  \n",
              "95  [('Cris Sherman', 'PERSON'), ('Theresa Vos', '...  \n",
              "\n",
              "[96 rows x 4 columns]"
            ],
            "text/html": [
              "\n",
              "  <div id=\"df-e06951c0-9fa5-451d-8943-958a54729291\" class=\"colab-df-container\">\n",
              "    <div>\n",
              "<style scoped>\n",
              "    .dataframe tbody tr th:only-of-type {\n",
              "        vertical-align: middle;\n",
              "    }\n",
              "\n",
              "    .dataframe tbody tr th {\n",
              "        vertical-align: top;\n",
              "    }\n",
              "\n",
              "    .dataframe thead th {\n",
              "        text-align: right;\n",
              "    }\n",
              "</style>\n",
              "<table border=\"1\" class=\"dataframe\">\n",
              "  <thead>\n",
              "    <tr style=\"text-align: right;\">\n",
              "      <th></th>\n",
              "      <th>message_id</th>\n",
              "      <th>text</th>\n",
              "      <th>entities</th>\n",
              "      <th>annotation</th>\n",
              "    </tr>\n",
              "  </thead>\n",
              "  <tbody>\n",
              "    <tr>\n",
              "      <th>0</th>\n",
              "      <td>&lt;15886210.1075854965508.JavaMail.evans@thyme&gt;</td>\n",
              "      <td>Allright fellas here's the gameplan . . . I'll...</td>\n",
              "      <td>[{'word': 'Kevin A. Boone', 'tag': 'PERSON'}, ...</td>\n",
              "      <td>[('Kevin A. Boone', 'PERSON'), ('Matt', 'PERSO...</td>\n",
              "    </tr>\n",
              "    <tr>\n",
              "      <th>1</th>\n",
              "      <td>&lt;17217905.1075853978006.JavaMail.evans@thyme&gt;</td>\n",
              "      <td>Tina,\\nKoch never returned my calls. Based on ...</td>\n",
              "      <td>[{'word': 'Tina', 'tag': 'PERSON'}, {'word': '...</td>\n",
              "      <td>[('Tina', 'PERSON'), ('Koch', 'PERSON'), ('Cyn...</td>\n",
              "    </tr>\n",
              "    <tr>\n",
              "      <th>2</th>\n",
              "      <td>&lt;28372483.1075843343800.JavaMail.evans@thyme&gt;</td>\n",
              "      <td>I wanted to follow-up with everyone following ...</td>\n",
              "      <td>[{'word': 'Steve M', 'tag': 'PERSON'}, {'word'...</td>\n",
              "      <td>[('Steve M', 'PERSON'), ('Janine', 'PERSON'), ...</td>\n",
              "    </tr>\n",
              "    <tr>\n",
              "      <th>3</th>\n",
              "      <td>&lt;7553175.1075863444700.JavaMail.evans@thyme&gt;</td>\n",
              "      <td>Vince,\\n\\n  I agree with you that it's a lesso...</td>\n",
              "      <td>[{'word': 'Vince', 'tag': 'PERSON'}, {'word': ...</td>\n",
              "      <td>[('Vince', 'PERSON'), ('Frank', 'PERSON'), ('S...</td>\n",
              "    </tr>\n",
              "    <tr>\n",
              "      <th>4</th>\n",
              "      <td>&lt;16687289.1075862330552.JavaMail.evans@thyme&gt;</td>\n",
              "      <td>I trust everything is going well.  Please let ...</td>\n",
              "      <td>[{'word': 'next Board meeting', 'tag': 'DATE'}...</td>\n",
              "      <td>[('next Board meeting', 'DATE'), ('2001', 'DAT...</td>\n",
              "    </tr>\n",
              "    <tr>\n",
              "      <th>...</th>\n",
              "      <td>...</td>\n",
              "      <td>...</td>\n",
              "      <td>...</td>\n",
              "      <td>...</td>\n",
              "    </tr>\n",
              "    <tr>\n",
              "      <th>91</th>\n",
              "      <td>&lt;17780105.1075840540168.JavaMail.evans@thyme&gt;</td>\n",
              "      <td>Heidi,\\n\\nI have no way of being able to discu...</td>\n",
              "      <td>[{'word': 'Heidi', 'tag': 'PERSON'}, {'word': ...</td>\n",
              "      <td>[('Heidi', 'PERSON'), ('Randall Chapman', 'PER...</td>\n",
              "    </tr>\n",
              "    <tr>\n",
              "      <th>92</th>\n",
              "      <td>&lt;16492427.1075847631885.JavaMail.evans@thyme&gt;</td>\n",
              "      <td>Teh rest of the parts for Phil's PC arrived to...</td>\n",
              "      <td>[{'word': 'Phil', 'tag': 'PERSON'}, {'word': '...</td>\n",
              "      <td>[('Phil', 'PERSON'), ('Kathy', 'PERSON'), ('Al...</td>\n",
              "    </tr>\n",
              "    <tr>\n",
              "      <th>93</th>\n",
              "      <td>&lt;11901989.1075844026014.JavaMail.evans@thyme&gt;</td>\n",
              "      <td>Hey guys thanks a million for supporting the g...</td>\n",
              "      <td>[{'word': 'Next Wednesday August 16th', 'tag':...</td>\n",
              "      <td>[('Next Wednesday August 16th', 'DATE'), ('41s...</td>\n",
              "    </tr>\n",
              "    <tr>\n",
              "      <th>94</th>\n",
              "      <td>&lt;17922592.1075839996237.JavaMail.evans@thyme&gt;</td>\n",
              "      <td>Keoni,\\nI am not concerned with the improperly...</td>\n",
              "      <td>[{'word': 'Keoni', 'tag': 'PERSON'}, {'word': ...</td>\n",
              "      <td>[('Keoni', 'PERSON'), ('Bill', 'PERSON'), ('CA...</td>\n",
              "    </tr>\n",
              "    <tr>\n",
              "      <th>95</th>\n",
              "      <td>&lt;26340375.1075840808386.JavaMail.evans@thyme&gt;</td>\n",
              "      <td>I will be circulating in the next few minutes ...</td>\n",
              "      <td>[{'word': 'Cris Sherman', 'tag': 'PERSON'}, {'...</td>\n",
              "      <td>[('Cris Sherman', 'PERSON'), ('Theresa Vos', '...</td>\n",
              "    </tr>\n",
              "  </tbody>\n",
              "</table>\n",
              "<p>96 rows × 4 columns</p>\n",
              "</div>\n",
              "    <div class=\"colab-df-buttons\">\n",
              "\n",
              "  <div class=\"colab-df-container\">\n",
              "    <button class=\"colab-df-convert\" onclick=\"convertToInteractive('df-e06951c0-9fa5-451d-8943-958a54729291')\"\n",
              "            title=\"Convert this dataframe to an interactive table.\"\n",
              "            style=\"display:none;\">\n",
              "\n",
              "  <svg xmlns=\"http://www.w3.org/2000/svg\" height=\"24px\" viewBox=\"0 -960 960 960\">\n",
              "    <path d=\"M120-120v-720h720v720H120Zm60-500h600v-160H180v160Zm220 220h160v-160H400v160Zm0 220h160v-160H400v160ZM180-400h160v-160H180v160Zm440 0h160v-160H620v160ZM180-180h160v-160H180v160Zm440 0h160v-160H620v160Z\"/>\n",
              "  </svg>\n",
              "    </button>\n",
              "\n",
              "  <style>\n",
              "    .colab-df-container {\n",
              "      display:flex;\n",
              "      gap: 12px;\n",
              "    }\n",
              "\n",
              "    .colab-df-convert {\n",
              "      background-color: #E8F0FE;\n",
              "      border: none;\n",
              "      border-radius: 50%;\n",
              "      cursor: pointer;\n",
              "      display: none;\n",
              "      fill: #1967D2;\n",
              "      height: 32px;\n",
              "      padding: 0 0 0 0;\n",
              "      width: 32px;\n",
              "    }\n",
              "\n",
              "    .colab-df-convert:hover {\n",
              "      background-color: #E2EBFA;\n",
              "      box-shadow: 0px 1px 2px rgba(60, 64, 67, 0.3), 0px 1px 3px 1px rgba(60, 64, 67, 0.15);\n",
              "      fill: #174EA6;\n",
              "    }\n",
              "\n",
              "    .colab-df-buttons div {\n",
              "      margin-bottom: 4px;\n",
              "    }\n",
              "\n",
              "    [theme=dark] .colab-df-convert {\n",
              "      background-color: #3B4455;\n",
              "      fill: #D2E3FC;\n",
              "    }\n",
              "\n",
              "    [theme=dark] .colab-df-convert:hover {\n",
              "      background-color: #434B5C;\n",
              "      box-shadow: 0px 1px 3px 1px rgba(0, 0, 0, 0.15);\n",
              "      filter: drop-shadow(0px 1px 2px rgba(0, 0, 0, 0.3));\n",
              "      fill: #FFFFFF;\n",
              "    }\n",
              "  </style>\n",
              "\n",
              "    <script>\n",
              "      const buttonEl =\n",
              "        document.querySelector('#df-e06951c0-9fa5-451d-8943-958a54729291 button.colab-df-convert');\n",
              "      buttonEl.style.display =\n",
              "        google.colab.kernel.accessAllowed ? 'block' : 'none';\n",
              "\n",
              "      async function convertToInteractive(key) {\n",
              "        const element = document.querySelector('#df-e06951c0-9fa5-451d-8943-958a54729291');\n",
              "        const dataTable =\n",
              "          await google.colab.kernel.invokeFunction('convertToInteractive',\n",
              "                                                    [key], {});\n",
              "        if (!dataTable) return;\n",
              "\n",
              "        const docLinkHtml = 'Like what you see? Visit the ' +\n",
              "          '<a target=\"_blank\" href=https://colab.research.google.com/notebooks/data_table.ipynb>data table notebook</a>'\n",
              "          + ' to learn more about interactive tables.';\n",
              "        element.innerHTML = '';\n",
              "        dataTable['output_type'] = 'display_data';\n",
              "        await google.colab.output.renderOutput(dataTable, element);\n",
              "        const docLink = document.createElement('div');\n",
              "        docLink.innerHTML = docLinkHtml;\n",
              "        element.appendChild(docLink);\n",
              "      }\n",
              "    </script>\n",
              "  </div>\n",
              "\n",
              "\n",
              "<div id=\"df-09dadadd-7476-4c81-b72b-0badd94750ec\">\n",
              "  <button class=\"colab-df-quickchart\" onclick=\"quickchart('df-09dadadd-7476-4c81-b72b-0badd94750ec')\"\n",
              "            title=\"Suggest charts.\"\n",
              "            style=\"display:none;\">\n",
              "\n",
              "<svg xmlns=\"http://www.w3.org/2000/svg\" height=\"24px\"viewBox=\"0 0 24 24\"\n",
              "     width=\"24px\">\n",
              "    <g>\n",
              "        <path d=\"M19 3H5c-1.1 0-2 .9-2 2v14c0 1.1.9 2 2 2h14c1.1 0 2-.9 2-2V5c0-1.1-.9-2-2-2zM9 17H7v-7h2v7zm4 0h-2V7h2v10zm4 0h-2v-4h2v4z\"/>\n",
              "    </g>\n",
              "</svg>\n",
              "  </button>\n",
              "\n",
              "<style>\n",
              "  .colab-df-quickchart {\n",
              "      --bg-color: #E8F0FE;\n",
              "      --fill-color: #1967D2;\n",
              "      --hover-bg-color: #E2EBFA;\n",
              "      --hover-fill-color: #174EA6;\n",
              "      --disabled-fill-color: #AAA;\n",
              "      --disabled-bg-color: #DDD;\n",
              "  }\n",
              "\n",
              "  [theme=dark] .colab-df-quickchart {\n",
              "      --bg-color: #3B4455;\n",
              "      --fill-color: #D2E3FC;\n",
              "      --hover-bg-color: #434B5C;\n",
              "      --hover-fill-color: #FFFFFF;\n",
              "      --disabled-bg-color: #3B4455;\n",
              "      --disabled-fill-color: #666;\n",
              "  }\n",
              "\n",
              "  .colab-df-quickchart {\n",
              "    background-color: var(--bg-color);\n",
              "    border: none;\n",
              "    border-radius: 50%;\n",
              "    cursor: pointer;\n",
              "    display: none;\n",
              "    fill: var(--fill-color);\n",
              "    height: 32px;\n",
              "    padding: 0;\n",
              "    width: 32px;\n",
              "  }\n",
              "\n",
              "  .colab-df-quickchart:hover {\n",
              "    background-color: var(--hover-bg-color);\n",
              "    box-shadow: 0 1px 2px rgba(60, 64, 67, 0.3), 0 1px 3px 1px rgba(60, 64, 67, 0.15);\n",
              "    fill: var(--button-hover-fill-color);\n",
              "  }\n",
              "\n",
              "  .colab-df-quickchart-complete:disabled,\n",
              "  .colab-df-quickchart-complete:disabled:hover {\n",
              "    background-color: var(--disabled-bg-color);\n",
              "    fill: var(--disabled-fill-color);\n",
              "    box-shadow: none;\n",
              "  }\n",
              "\n",
              "  .colab-df-spinner {\n",
              "    border: 2px solid var(--fill-color);\n",
              "    border-color: transparent;\n",
              "    border-bottom-color: var(--fill-color);\n",
              "    animation:\n",
              "      spin 1s steps(1) infinite;\n",
              "  }\n",
              "\n",
              "  @keyframes spin {\n",
              "    0% {\n",
              "      border-color: transparent;\n",
              "      border-bottom-color: var(--fill-color);\n",
              "      border-left-color: var(--fill-color);\n",
              "    }\n",
              "    20% {\n",
              "      border-color: transparent;\n",
              "      border-left-color: var(--fill-color);\n",
              "      border-top-color: var(--fill-color);\n",
              "    }\n",
              "    30% {\n",
              "      border-color: transparent;\n",
              "      border-left-color: var(--fill-color);\n",
              "      border-top-color: var(--fill-color);\n",
              "      border-right-color: var(--fill-color);\n",
              "    }\n",
              "    40% {\n",
              "      border-color: transparent;\n",
              "      border-right-color: var(--fill-color);\n",
              "      border-top-color: var(--fill-color);\n",
              "    }\n",
              "    60% {\n",
              "      border-color: transparent;\n",
              "      border-right-color: var(--fill-color);\n",
              "    }\n",
              "    80% {\n",
              "      border-color: transparent;\n",
              "      border-right-color: var(--fill-color);\n",
              "      border-bottom-color: var(--fill-color);\n",
              "    }\n",
              "    90% {\n",
              "      border-color: transparent;\n",
              "      border-bottom-color: var(--fill-color);\n",
              "    }\n",
              "  }\n",
              "</style>\n",
              "\n",
              "  <script>\n",
              "    async function quickchart(key) {\n",
              "      const quickchartButtonEl =\n",
              "        document.querySelector('#' + key + ' button');\n",
              "      quickchartButtonEl.disabled = true;  // To prevent multiple clicks.\n",
              "      quickchartButtonEl.classList.add('colab-df-spinner');\n",
              "      try {\n",
              "        const charts = await google.colab.kernel.invokeFunction(\n",
              "            'suggestCharts', [key], {});\n",
              "      } catch (error) {\n",
              "        console.error('Error during call to suggestCharts:', error);\n",
              "      }\n",
              "      quickchartButtonEl.classList.remove('colab-df-spinner');\n",
              "      quickchartButtonEl.classList.add('colab-df-quickchart-complete');\n",
              "    }\n",
              "    (() => {\n",
              "      let quickchartButtonEl =\n",
              "        document.querySelector('#df-09dadadd-7476-4c81-b72b-0badd94750ec button');\n",
              "      quickchartButtonEl.style.display =\n",
              "        google.colab.kernel.accessAllowed ? 'block' : 'none';\n",
              "    })();\n",
              "  </script>\n",
              "</div>\n",
              "    </div>\n",
              "  </div>\n"
            ]
          },
          "metadata": {},
          "execution_count": 60
        }
      ]
    },
    {
      "cell_type": "code",
      "source": [
        "sample_email = test['text'].iloc[0]\n",
        "print(sample_email)"
      ],
      "metadata": {
        "colab": {
          "base_uri": "https://localhost:8080/"
        },
        "id": "b6Fhw0Cz5tN1",
        "outputId": "a4e13054-814f-4630-9843-fd7377e55f47"
      },
      "execution_count": 61,
      "outputs": [
        {
          "output_type": "stream",
          "name": "stdout",
          "text": [
            "Allright fellas here's the gameplan . . . I'll drive . . . leave at 8am\n",
            "tomorrow morning . . . we can meet at my house or at Matt's it doesn't\n",
            "really matter to me . . . plan on leaving BR no later than 9am sunday morn\n",
            ". . . Geaux Tigers\n",
            "\n",
            "Regards,\n",
            "\n",
            "Kevin A. Boone\n",
            "Accenture  Houston\n",
            "Consultant  Energy\n",
            "(Octel) 713.837.1638\n",
            "(Client) 281.848.1619\n",
            "(C) 713.306.7940\n",
            "(H) 713.864.4149\n",
            "Kevin.A.Boone@accenture.com\n",
            "\n",
            "Our web address is http://www.accenture.com\n",
            "\n",
            "\n",
            "This message is for the designated recipient only and may contain\n",
            "privileged or confidential information.  If you have received it in error,\n",
            "please notify the sender immediately and delete the original.  Any other\n",
            "use of the email by you is prohibited.\n"
          ]
        }
      ]
    },
    {
      "cell_type": "code",
      "source": [
        "%pprint\n",
        "predict(sample_email)"
      ],
      "metadata": {
        "colab": {
          "base_uri": "https://localhost:8080/"
        },
        "id": "lSlT3Z836dok",
        "outputId": "958cc31e-d100-41ac-d714-fcc2600968e8"
      },
      "execution_count": 62,
      "outputs": [
        {
          "output_type": "execute_result",
          "data": {
            "text/plain": [
              "[{'word': 'tomorrow morning', 'label': 'DATE', 'confidence': 0.8091},\n",
              " {'word': 'Matt', 'label': 'PERSON', 'confidence': 0.98989},\n",
              " {'word': 'Accenture', 'label': 'ORG', 'confidence': 0.979},\n",
              " {'word': 'Houston', 'label': 'LOCATION', 'confidence': 0.48811}]"
            ]
          },
          "metadata": {},
          "execution_count": 62
        }
      ]
    },
    {
      "cell_type": "code",
      "source": [
        "sample_email = test['text'].iloc[1]\n",
        "print(sample_email)"
      ],
      "metadata": {
        "id": "Psgt_T_dQX_e",
        "colab": {
          "base_uri": "https://localhost:8080/"
        },
        "outputId": "3674baef-c736-4cfe-ed8a-2c40b0bd5c7c"
      },
      "execution_count": 63,
      "outputs": [
        {
          "output_type": "stream",
          "name": "stdout",
          "text": [
            "Tina,\n",
            "Koch never returned my calls. Based on the contractual information, we may be \n",
            "putting ourselves in a risk area by 'assigning' the deals without proper \n",
            "documentation. The documentation that was supplied did not refence any ENA \n",
            "agreements, nor any specific meter numbers. If the purchase was indeed a \n",
            "meter/well sale; there should be documentation listing the meters acquired \n",
            "and the effective date. Since we are apparently the supplier, the risk is not \n",
            "as substaintial as if we were the purchaser. However, without documentation \n",
            "we are basically relying on the relationship btw Koch & Duke.\n",
            "\n",
            "Cyndie\n",
            "ENA Global Contracts\n",
            "\n",
            "\n",
            "\n",
            "\n",
            "Tina Valadez@ECT\n"
          ]
        }
      ]
    },
    {
      "cell_type": "code",
      "source": [
        "predict(sample_email)"
      ],
      "metadata": {
        "id": "csMrldo0QX9d",
        "colab": {
          "base_uri": "https://localhost:8080/"
        },
        "outputId": "c22b81b8-4626-4b8e-8ff8-8207d287d8db"
      },
      "execution_count": 64,
      "outputs": [
        {
          "output_type": "execute_result",
          "data": {
            "text/plain": [
              "[{'word': 'Tina', 'label': 'PERSON', 'confidence': 0.95944},\n",
              " {'word': 'Koch', 'label': 'PERSON', 'confidence': 0.73476},\n",
              " {'word': 'ENA', 'label': 'ORG', 'confidence': 0.92136},\n",
              " {'word': 'Cyndie', 'label': 'PERSON', 'confidence': 0.61575},\n",
              " {'word': 'ENA Global', 'label': 'ORG', 'confidence': 0.80697},\n",
              " {'word': 'Tina Valadez', 'label': 'PERSON', 'confidence': 0.99369},\n",
              " {'word': 'ECT', 'label': 'ORG', 'confidence': 0.96524}]"
            ]
          },
          "metadata": {},
          "execution_count": 64
        }
      ]
    },
    {
      "cell_type": "code",
      "source": [
        "sample_email = test['text'].iloc[2]\n",
        "print(sample_email)"
      ],
      "metadata": {
        "id": "Z8x3uCNdQX7X",
        "colab": {
          "base_uri": "https://localhost:8080/"
        },
        "outputId": "3f556635-abe4-4e15-8ced-acc82b138fd5"
      },
      "execution_count": 65,
      "outputs": [
        {
          "output_type": "stream",
          "name": "stdout",
          "text": [
            "I wanted to follow-up with everyone following yesterday's meeting. \n",
            "\n",
            "It appears to me that we need to develop (1) a better analysis of the four \n",
            "market models - AGL (Steve M), Columbia of Ohio (Janine), Socal Gas (Jeff), \n",
            "NICOR (Roy) - based on some key elements and (2) the key Influence parties in \n",
            "Illinois with 5 layer Influence Circles that we need to be thinking about in \n",
            "this discussion.\n",
            "\n",
            "It would be great if we could get this to Laura for distribution by end of \n",
            "day Friday (realize it's tight).\n",
            "\n",
            "Key elements for Market Models \n",
            "\n",
            "1. Direct Access Allowed?  For What customers?  What timeline?\n",
            "2. Upstream Capacity resolution - assignment or otherwise?  Are there assets \n",
            "left to optimize\n",
            "3. Retail pricing - Fixed price vs. PBR (how?) vs. something else?\n",
            "4. Role of Wholesale Outsourcing Agent (would ENA sell to marketers or \n",
            "utilities or both?)\n",
            "5. Other Issues\n",
            "\n",
            "Thanks,\n",
            "\n",
            "Jim\n"
          ]
        }
      ]
    },
    {
      "cell_type": "code",
      "source": [
        "predict(sample_email)"
      ],
      "metadata": {
        "colab": {
          "base_uri": "https://localhost:8080/"
        },
        "id": "eb9yKw0Y9KYo",
        "outputId": "e5b7d847-0de2-4156-9506-d2df29b4ee67"
      },
      "execution_count": 66,
      "outputs": [
        {
          "output_type": "execute_result",
          "data": {
            "text/plain": [
              "[{'word': 'yesterday', 'label': 'DATE', 'confidence': 0.70943},\n",
              " {'word': 'Steve', 'label': 'PERSON', 'confidence': 0.61155},\n",
              " {'word': 'of', 'label': 'ORG', 'confidence': 0.85975},\n",
              " {'word': 'Janine', 'label': 'PERSON', 'confidence': 0.95581},\n",
              " {'word': 'Socal Gas', 'label': 'ORG', 'confidence': 0.80789},\n",
              " {'word': 'Jeff', 'label': 'PERSON', 'confidence': 0.99384},\n",
              " {'word': 'NICOR', 'label': 'PERSON', 'confidence': 0.96538},\n",
              " {'word': 'Roy', 'label': 'PERSON', 'confidence': 0.99177},\n",
              " {'word': 'Illinois', 'label': 'LOCATION', 'confidence': 0.97919},\n",
              " {'word': 'Laura', 'label': 'PERSON', 'confidence': 0.99627},\n",
              " {'word': 'end', 'label': 'DATE', 'confidence': 0.62944},\n",
              " {'word': 'Friday', 'label': 'DATE', 'confidence': 0.64875},\n",
              " {'word': 'ENA', 'label': 'ORG', 'confidence': 0.88702},\n",
              " {'word': 'Jim', 'label': 'PERSON', 'confidence': 0.99733}]"
            ]
          },
          "metadata": {},
          "execution_count": 66
        }
      ]
    },
    {
      "cell_type": "code",
      "source": [
        "sample_email = test['text'].iloc[3]\n",
        "print(sample_email)"
      ],
      "metadata": {
        "colab": {
          "base_uri": "https://localhost:8080/"
        },
        "id": "h52auwCi9KVz",
        "outputId": "2e1dc0e3-6444-4173-fd16-b74ab030cbee"
      },
      "execution_count": 67,
      "outputs": [
        {
          "output_type": "stream",
          "name": "stdout",
          "text": [
            "Vince,\n",
            "\n",
            "  I agree with you that it's a lesson people need to learn\n",
            "over and over again.  I can't tell you how many politicians\n",
            "I met over the past year who really don't like markets and\n",
            "certainly don't understand how or why they work.  These\n",
            "aren't just the minor leaguers in Sacramento, but the big\n",
            "league players in Washington.\n",
            "\n",
            "  I also agree that the academic community can play \"an important\n",
            "role in shaping public opinion and in explaining the logic of\n",
            "deregulation process.\"  I'd like to think that is in large\n",
            "part what I have been trying to do.\n",
            "\n",
            "Frank\n"
          ]
        }
      ]
    },
    {
      "cell_type": "code",
      "source": [
        "predict(sample_email)"
      ],
      "metadata": {
        "colab": {
          "base_uri": "https://localhost:8080/"
        },
        "id": "oHxqbP3s9KTd",
        "outputId": "642d67bc-170e-43f1-fb7c-d8e863209dcf"
      },
      "execution_count": 68,
      "outputs": [
        {
          "output_type": "execute_result",
          "data": {
            "text/plain": [
              "[{'word': 'Vince', 'label': 'PERSON', 'confidence': 0.99705},\n",
              " {'word': 'Sacramento', 'label': 'LOCATION', 'confidence': 0.98591},\n",
              " {'word': 'Washington', 'label': 'LOCATION', 'confidence': 0.8984},\n",
              " {'word': 'Frank', 'label': 'PERSON', 'confidence': 0.9975}]"
            ]
          },
          "metadata": {},
          "execution_count": 68
        }
      ]
    },
    {
      "cell_type": "code",
      "source": [
        "sample_email = test['text'].iloc[4]\n",
        "print(sample_email)"
      ],
      "metadata": {
        "colab": {
          "base_uri": "https://localhost:8080/"
        },
        "id": "gO-Uo0Ep8l9o",
        "outputId": "621921ca-8849-4a47-cccd-bdeb5e3ab69a"
      },
      "execution_count": 69,
      "outputs": [
        {
          "output_type": "stream",
          "name": "stdout",
          "text": [
            "I trust everything is going well.  Please let me know if there is anything I can do.  At the next Board meeting I am sheduled to provide the Board with an update of Enron Global Services.  Could you have someone prepare a couple of slides on Portland.  One should deal with the major accomplishements of your group in 2001 (ie rate case etc) in bullet form.  The second should be an update of the deal with NNG.  Perhaps a summary of the deal and then where we are in the timeline of key events.  Call if you have questions.  Thanks.  The Board meeting is scheduled for December 6th.\n"
          ]
        }
      ]
    },
    {
      "cell_type": "code",
      "source": [
        "predict(sample_email)"
      ],
      "metadata": {
        "colab": {
          "base_uri": "https://localhost:8080/"
        },
        "id": "KiqOr2aT8l8e",
        "outputId": "b7144e16-8f65-4dfd-a825-e0369d1c504e"
      },
      "execution_count": 70,
      "outputs": [
        {
          "output_type": "execute_result",
          "data": {
            "text/plain": [
              "[{'word': 'Enron Global Services', 'label': 'ORG', 'confidence': 0.94899},\n",
              " {'word': 'Portland', 'label': 'LOCATION', 'confidence': 0.96923},\n",
              " {'word': '2001', 'label': 'DATE', 'confidence': 0.59624},\n",
              " {'word': 'NNG', 'label': 'ORG', 'confidence': 0.43358},\n",
              " {'word': 'December 6th', 'label': 'DATE', 'confidence': 0.74267}]"
            ]
          },
          "metadata": {},
          "execution_count": 70
        }
      ]
    },
    {
      "cell_type": "code",
      "source": [
        "sample_email = test['text'].iloc[5]\n",
        "print(sample_email)"
      ],
      "metadata": {
        "colab": {
          "base_uri": "https://localhost:8080/"
        },
        "id": "IezK-xxz8l7E",
        "outputId": "dd6ea06f-1aa2-4119-e248-ecfbd4c38700"
      },
      "execution_count": 71,
      "outputs": [
        {
          "output_type": "stream",
          "name": "stdout",
          "text": [
            "Good morning Richard:\n",
            "\n",
            "Your resume was forwarded to Vince Kaminski and the Research group\n",
            "and they would like to conduct a telephone interview with you at your\n",
            "convenience.\n",
            "\n",
            "Please give me some dates and times that you would be available and\n",
            "I will coordinate the schedule.  Also, the telephone number you wish to be\n",
            "contacted at.  \n",
            "\n",
            "The telephone interview will be last approximately an hour and the \n",
            "interviewers would be:\n",
            "\n",
            "Vince Kaminski\t\tManaging Director, Research\n",
            "Stinson Gibner\t\tVice President, Research\n",
            "Vasant Shanbhogue\tVice President, Research\n",
            "\n",
            "Thanks Richard and we look forward to hearing from you.\n",
            "\n",
            "Regards,\n",
            "\n",
            "Shirley Crenshaw\n",
            "Administrative Coordinator\n",
            "Enron Research Group\n",
            "713-853-5290\n",
            "email:  Shirley.Crenshaw@enron.com\n"
          ]
        }
      ]
    },
    {
      "cell_type": "code",
      "source": [
        "predict(sample_email)"
      ],
      "metadata": {
        "colab": {
          "base_uri": "https://localhost:8080/"
        },
        "id": "x5E2RHts8l3j",
        "outputId": "e2383945-7548-43e9-fdc3-1f71ed666fe2"
      },
      "execution_count": 72,
      "outputs": [
        {
          "output_type": "execute_result",
          "data": {
            "text/plain": [
              "[{'word': 'Richard', 'label': 'PERSON', 'confidence': 0.88917},\n",
              " {'word': 'Vince Kaminski', 'label': 'PERSON', 'confidence': 0.94147},\n",
              " {'word': 'Vince Kaminski', 'label': 'PERSON', 'confidence': 0.94577},\n",
              " {'word': 'Stinson Gibner', 'label': 'PERSON', 'confidence': 0.9046},\n",
              " {'word': 'Richard', 'label': 'PERSON', 'confidence': 0.93722},\n",
              " {'word': 'Shirley Crenshaw', 'label': 'PERSON', 'confidence': 0.94959},\n",
              " {'word': 'Enron Research Group', 'label': 'ORG', 'confidence': 0.92532}]"
            ]
          },
          "metadata": {},
          "execution_count": 72
        }
      ]
    },
    {
      "cell_type": "code",
      "source": [],
      "metadata": {
        "id": "zZqDT3U08l1f"
      },
      "execution_count": null,
      "outputs": []
    },
    {
      "cell_type": "code",
      "source": [],
      "metadata": {
        "id": "o_9nAzRd8lzm"
      },
      "execution_count": null,
      "outputs": []
    },
    {
      "cell_type": "code",
      "source": [],
      "metadata": {
        "id": "2S8lpo5w8lxc"
      },
      "execution_count": null,
      "outputs": []
    }
  ],
  "metadata": {
    "accelerator": "GPU",
    "colab": {
      "provenance": [],
      "gpuType": "T4"
    },
    "kernelspec": {
      "display_name": "Python 3",
      "name": "python3"
    },
    "language_info": {
      "name": "python"
    }
  },
  "nbformat": 4,
  "nbformat_minor": 0
}